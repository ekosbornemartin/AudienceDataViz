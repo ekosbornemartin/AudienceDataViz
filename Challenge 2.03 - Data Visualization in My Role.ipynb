{
 "cells": [
  {
   "cell_type": "markdown",
   "id": "7ed08729",
   "metadata": {},
   "source": [
    "# Data Viz Challenge: Mapping Wiley's Audience Against Research Output\n",
    "\n",
    "\n",
    "## Instructions (summary)\n",
    "\n",
    "**1. Locate the company data that you will use**\n",
    "- Make sure your data is in a usable state. \n",
    "\n",
    "**2. Check your organisational style guidelines**\n",
    "- Find out if there are any lists on approved or non-approved colours\n",
    "- Find out if there are certain graphs or charts that are allowed or not allowed in company documents\n",
    "\n",
    "**3. Create a range of graphs (aim for a minimum of 3) of the data you located that is acceptable based on your company style guidelines**\n",
    " - The visualisation should communicate a main message that you have found in the data\n",
    " - The visualisation should be appropriate for your intended target audience and the type of data you are using.\n",
    " - Try to choose approved brand guidelines that are also accessible for people with visual impairments (i.e. alt-text etc).\n",
    " - Feel free to also evidence visualisations that you have created recently for a specific stakeholder and reflect on the above for your example."
   ]
  },
  {
   "cell_type": "markdown",
   "id": "7d8ea902",
   "metadata": {},
   "source": [
    "## Step 1: Select & clean the data\n",
    "\n",
    "### 1a) Source and combine the following data for Wiley Online Library L2 and L3 subject areas:\n",
    "\n",
    "- Articles published (Dimensions) \n",
    "- Page views (Adobe Analytics) \n",
    "- Unique users (Adobe Analytics)\n",
    "- ePDF views (Adobe Analytics)\n",
    "- Mailing List subscribers (Adobe Campaign)\n",
    "\n",
    "Potential additional metrics to explore:\n",
    "- Wiley % market share in published papers (Dimensions)\n",
    "- Wiley CAGR in published papers, CY2019-2023 (Dimensions, calculated)\n",
    "Note that Wiley % market share is not available for WOL L2 Subject area, so this would have to be mapped from other subject area taxonomies (Dimensions FOR) \n",
    "\n",
    "Year == 2023 for all data above, except for CAGR \n",
    "\n",
    "Combine into a CSV file"
   ]
  },
  {
   "cell_type": "markdown",
   "id": "0fb5aa06",
   "metadata": {},
   "source": [
    "### 1b) Clean the data\n",
    "\n",
    "- Removed totals and category 'unspecified' in Adobe Analytics\n",
    "- Combined first 5 metrics noted above using XLOOKUP (100% matches for papers against Adobve Analytics web traffic numbers, but there were some subject mailing lists that didn't have any subscribers within a subject area)\n",
    "- There were relatively few missing values, and I chose to keep 0s for those instead of using fillna in Python because I knew I wanted to look at the correlations between different metrics - there may be a better way to do this, but .corr throws errors for any rows with NaNs\n",
    "- Partway through I realised that the 1,000 separators from the CSV files meant I couldn't convert the strings to integers, so I went back to the source CSV file, removed the 1,000 separators, and loaded the data and worked through the steps again"
   ]
  },
  {
   "cell_type": "markdown",
   "id": "83a31fbd",
   "metadata": {},
   "source": [
    "## Step 2: examine the data to find patterns and correlations"
   ]
  },
  {
   "cell_type": "code",
   "execution_count": 4,
   "id": "53fb6543",
   "metadata": {},
   "outputs": [],
   "source": [
    "# First, we import the packages\n",
    "\n",
    "import pandas as pd\n",
    "import numpy as np\n",
    "\n",
    "import seaborn as sns\n",
    "import matplotlib.pyplot as plt"
   ]
  },
  {
   "cell_type": "code",
   "execution_count": 5,
   "id": "19ad56e7",
   "metadata": {},
   "outputs": [],
   "source": [
    "# Then, we import the data\n",
    "\n",
    "verticals = pd.read_csv(\"verticals.csv\")"
   ]
  },
  {
   "cell_type": "code",
   "execution_count": 6,
   "id": "05094f31",
   "metadata": {},
   "outputs": [
    {
     "data": {
      "text/html": [
       "<div>\n",
       "<style scoped>\n",
       "    .dataframe tbody tr th:only-of-type {\n",
       "        vertical-align: middle;\n",
       "    }\n",
       "\n",
       "    .dataframe tbody tr th {\n",
       "        vertical-align: top;\n",
       "    }\n",
       "\n",
       "    .dataframe thead th {\n",
       "        text-align: right;\n",
       "    }\n",
       "</style>\n",
       "<table border=\"1\" class=\"dataframe\">\n",
       "  <thead>\n",
       "    <tr style=\"text-align: right;\">\n",
       "      <th></th>\n",
       "      <th>WOL L2 Subject</th>\n",
       "      <th>Wiley Papers</th>\n",
       "      <th>Unique Visitors</th>\n",
       "      <th>Page Views</th>\n",
       "      <th>ePDF Views</th>\n",
       "      <th>Mailing List Subscribers</th>\n",
       "    </tr>\n",
       "  </thead>\n",
       "  <tbody>\n",
       "    <tr>\n",
       "      <th>0</th>\n",
       "      <td>Materials Science</td>\n",
       "      <td>10508</td>\n",
       "      <td>14612560</td>\n",
       "      <td>108276834</td>\n",
       "      <td>16721554</td>\n",
       "      <td>20618</td>\n",
       "    </tr>\n",
       "    <tr>\n",
       "      <th>1</th>\n",
       "      <td>General &amp; Introductory Chemistry</td>\n",
       "      <td>7253</td>\n",
       "      <td>8284404</td>\n",
       "      <td>65063710</td>\n",
       "      <td>11827434</td>\n",
       "      <td>41309</td>\n",
       "    </tr>\n",
       "    <tr>\n",
       "      <th>2</th>\n",
       "      <td>Earth Sciences</td>\n",
       "      <td>5573</td>\n",
       "      <td>9372019</td>\n",
       "      <td>42990142</td>\n",
       "      <td>6458841</td>\n",
       "      <td>24314</td>\n",
       "    </tr>\n",
       "    <tr>\n",
       "      <th>3</th>\n",
       "      <td>Electrical &amp; Electronics Engineering</td>\n",
       "      <td>3612</td>\n",
       "      <td>3322269</td>\n",
       "      <td>11967947</td>\n",
       "      <td>1501960</td>\n",
       "      <td>25742</td>\n",
       "    </tr>\n",
       "    <tr>\n",
       "      <th>4</th>\n",
       "      <td>Ecology</td>\n",
       "      <td>3375</td>\n",
       "      <td>8852712</td>\n",
       "      <td>40704443</td>\n",
       "      <td>4890562</td>\n",
       "      <td>7957</td>\n",
       "    </tr>\n",
       "  </tbody>\n",
       "</table>\n",
       "</div>"
      ],
      "text/plain": [
       "                         WOL L2 Subject  Wiley Papers  Unique Visitors  \\\n",
       "0                     Materials Science         10508         14612560   \n",
       "1      General & Introductory Chemistry          7253          8284404   \n",
       "2                        Earth Sciences          5573          9372019   \n",
       "3  Electrical & Electronics Engineering          3612          3322269   \n",
       "4                               Ecology          3375          8852712   \n",
       "\n",
       "   Page Views  ePDF Views  Mailing List Subscribers  \n",
       "0   108276834    16721554                     20618  \n",
       "1    65063710    11827434                     41309  \n",
       "2    42990142     6458841                     24314  \n",
       "3    11967947     1501960                     25742  \n",
       "4    40704443     4890562                      7957  "
      ]
     },
     "execution_count": 6,
     "metadata": {},
     "output_type": "execute_result"
    }
   ],
   "source": [
    "# Sample to see that the data looks as expected\n",
    "\n",
    "verticals.head()"
   ]
  },
  {
   "cell_type": "code",
   "execution_count": 7,
   "id": "ad24851c",
   "metadata": {},
   "outputs": [
    {
     "name": "stdout",
     "output_type": "stream",
     "text": [
      "<class 'pandas.core.frame.DataFrame'>\n",
      "RangeIndex: 119 entries, 0 to 118\n",
      "Data columns (total 6 columns):\n",
      " #   Column                    Non-Null Count  Dtype \n",
      "---  ------                    --------------  ----- \n",
      " 0   WOL L2 Subject            119 non-null    object\n",
      " 1   Wiley Papers              119 non-null    int64 \n",
      " 2   Unique Visitors           119 non-null    int64 \n",
      " 3   Page Views                119 non-null    int64 \n",
      " 4   ePDF Views                119 non-null    int64 \n",
      " 5   Mailing List Subscribers  119 non-null    int64 \n",
      "dtypes: int64(5), object(1)\n",
      "memory usage: 5.7+ KB\n"
     ]
    }
   ],
   "source": [
    "# Check properties of dataframe to see whether any values need to be converted\n",
    "# Note, as you can see from the number of times I ran cells in this notebook, this is the point in time when I realised that\n",
    "# numbers in a CSV/Excel file containing 1,000 separators will not be read correctly! I'll never forget it :D\n",
    "\n",
    "verticals.info()"
   ]
  },
  {
   "cell_type": "code",
   "execution_count": 8,
   "id": "d8b0cb91",
   "metadata": {},
   "outputs": [
    {
     "data": {
      "text/html": [
       "<div>\n",
       "<style scoped>\n",
       "    .dataframe tbody tr th:only-of-type {\n",
       "        vertical-align: middle;\n",
       "    }\n",
       "\n",
       "    .dataframe tbody tr th {\n",
       "        vertical-align: top;\n",
       "    }\n",
       "\n",
       "    .dataframe thead th {\n",
       "        text-align: right;\n",
       "    }\n",
       "</style>\n",
       "<table border=\"1\" class=\"dataframe\">\n",
       "  <thead>\n",
       "    <tr style=\"text-align: right;\">\n",
       "      <th></th>\n",
       "      <th>Wiley Papers</th>\n",
       "      <th>Unique Visitors</th>\n",
       "      <th>Page Views</th>\n",
       "      <th>ePDF Views</th>\n",
       "      <th>Mailing List Subscribers</th>\n",
       "    </tr>\n",
       "  </thead>\n",
       "  <tbody>\n",
       "    <tr>\n",
       "      <th>Wiley Papers</th>\n",
       "      <td>1.000000</td>\n",
       "      <td>0.776792</td>\n",
       "      <td>0.924688</td>\n",
       "      <td>0.945624</td>\n",
       "      <td>0.427854</td>\n",
       "    </tr>\n",
       "    <tr>\n",
       "      <th>Unique Visitors</th>\n",
       "      <td>0.776792</td>\n",
       "      <td>1.000000</td>\n",
       "      <td>0.897709</td>\n",
       "      <td>0.823355</td>\n",
       "      <td>0.638306</td>\n",
       "    </tr>\n",
       "    <tr>\n",
       "      <th>Page Views</th>\n",
       "      <td>0.924688</td>\n",
       "      <td>0.897709</td>\n",
       "      <td>1.000000</td>\n",
       "      <td>0.982716</td>\n",
       "      <td>0.536326</td>\n",
       "    </tr>\n",
       "    <tr>\n",
       "      <th>ePDF Views</th>\n",
       "      <td>0.945624</td>\n",
       "      <td>0.823355</td>\n",
       "      <td>0.982716</td>\n",
       "      <td>1.000000</td>\n",
       "      <td>0.476390</td>\n",
       "    </tr>\n",
       "    <tr>\n",
       "      <th>Mailing List Subscribers</th>\n",
       "      <td>0.427854</td>\n",
       "      <td>0.638306</td>\n",
       "      <td>0.536326</td>\n",
       "      <td>0.476390</td>\n",
       "      <td>1.000000</td>\n",
       "    </tr>\n",
       "  </tbody>\n",
       "</table>\n",
       "</div>"
      ],
      "text/plain": [
       "                          Wiley Papers  Unique Visitors  Page Views  \\\n",
       "Wiley Papers                  1.000000         0.776792    0.924688   \n",
       "Unique Visitors               0.776792         1.000000    0.897709   \n",
       "Page Views                    0.924688         0.897709    1.000000   \n",
       "ePDF Views                    0.945624         0.823355    0.982716   \n",
       "Mailing List Subscribers      0.427854         0.638306    0.536326   \n",
       "\n",
       "                          ePDF Views  Mailing List Subscribers  \n",
       "Wiley Papers                0.945624                  0.427854  \n",
       "Unique Visitors             0.823355                  0.638306  \n",
       "Page Views                  0.982716                  0.536326  \n",
       "ePDF Views                  1.000000                  0.476390  \n",
       "Mailing List Subscribers    0.476390                  1.000000  "
      ]
     },
     "execution_count": 8,
     "metadata": {},
     "output_type": "execute_result"
    }
   ],
   "source": [
    "# Use .corr to find the pairwise correlation of all columns containing numerical data in the dataframe\n",
    "# Note: NaN values will be excluded\n",
    "\n",
    "verticals.drop(columns = ['WOL L2 Subject']).corr()"
   ]
  },
  {
   "cell_type": "markdown",
   "id": "50956838",
   "metadata": {},
   "source": [
    "## Step 3: start visualizing"
   ]
  },
  {
   "cell_type": "code",
   "execution_count": 9,
   "id": "5021cbc1",
   "metadata": {},
   "outputs": [
    {
     "data": {
      "text/plain": [
       "<Axes: >"
      ]
     },
     "execution_count": 9,
     "metadata": {},
     "output_type": "execute_result"
    },
    {
     "data": {
      "image/png": "[encoded data removed]",
      "text/plain": [
       "<Figure size 640x480 with 2 Axes>"
      ]
     },
     "metadata": {},
     "output_type": "display_data"
    }
   ],
   "source": [
    "# And now we're going to create a heatmap of these correlations \n",
    "\n",
    "corr_table = verticals.drop(columns = ['WOL L2 Subject']).corr()\n",
    "\n",
    "sns.heatmap(data = corr_table,\n",
    "            annot = True,\n",
    "            fmt = '.1f',\n",
    "            cmap = 'RdYlGn',\n",
    "            vmin = -1, vmax = 1)"
   ]
  },
  {
   "cell_type": "code",
   "execution_count": 10,
   "id": "689051a5",
   "metadata": {},
   "outputs": [
    {
     "data": {
      "text/plain": [
       "<Axes: xlabel='Wiley Papers', ylabel='Mailing List Subscribers'>"
      ]
     },
     "execution_count": 10,
     "metadata": {},
     "output_type": "execute_result"
    },
    {
     "data": {
      "image/png": "[encoded data removed]",
      "text/plain": [
       "<Figure size 640x480 with 1 Axes>"
      ]
     },
     "metadata": {},
     "output_type": "display_data"
    }
   ],
   "source": [
    "# And a scatterplot, to see what that looks like spatially. \n",
    "# Let's start by plotting one of the weaker correlations: Wiley Papers against Mailing List Subscribers\n",
    "\n",
    "sns.scatterplot(data = verticals, \n",
    "               x = 'Wiley Papers', \n",
    "               y = 'Mailing List Subscribers')"
   ]
  },
  {
   "cell_type": "code",
   "execution_count": 11,
   "id": "72f483ae",
   "metadata": {},
   "outputs": [],
   "source": [
    "# Okay, let's try using Plotly to add hover text to these dots\n",
    "# Step 1: import Plotly Express\n",
    "\n",
    "import plotly.express as px"
   ]
  },
  {
   "cell_type": "code",
   "execution_count": 21,
   "id": "95960411",
   "metadata": {},
   "outputs": [
    {
     "data": {
      "application/vnd.plotly.v1+json": {
       "config": {
        "plotlyServerURL": "https://plot.ly"
       },
       "data": [
        {
         "customdata": [
          [
           "Materials Science"
          ],
          [
           "General & Introductory Chemistry"
          ],
          [
           "Earth Sciences"
          ],
          [
           "Electrical & Electronics Engineering"
          ],
          [
           "Ecology"
          ],
          [
           "Food Science & Technology"
          ],
          [
           "Cell & Molecular Biology"
          ],
          [
           "Nanotechnology"
          ],
          [
           "Plant Science"
          ],
          [
           "Neurology"
          ],
          [
           "Dermatology"
          ],
          [
           "Physics"
          ],
          [
           "Cardiovascular Disease"
          ],
          [
           "Oncology & Radiotherapy"
          ],
          [
           "Dentistry"
          ],
          [
           "Economics"
          ],
          [
           "Nursing"
          ],
          [
           "Analytical Chemistry"
          ],
          [
           "Mathematics"
          ],
          [
           "Veterinary Medicine"
          ],
          [
           "Pharmacology & Pharmaceutical Medicine"
          ],
          [
           "Business & Management"
          ],
          [
           "General & Internal Medicine"
          ],
          [
           "Agriculture"
          ],
          [
           "Hematology"
          ],
          [
           "General & Introductory Medical Science"
          ],
          [
           "Education"
          ],
          [
           "Organic Chemistry"
          ],
          [
           "Pharmaceutical & Medicinal Chemistry"
          ],
          [
           "Civil Engineering & Construction"
          ],
          [
           "Surgery & Surgical Specialties"
          ],
          [
           "General Life Sciences"
          ],
          [
           "Chemical Engineering"
          ],
          [
           "Physical Chemistry"
          ],
          [
           "Endocrinology"
          ],
          [
           "Development Studies"
          ],
          [
           "Neuroscience"
          ],
          [
           "Political Science"
          ],
          [
           "Basic Medical Sciences"
          ],
          [
           "Obstetrics & Gynecology"
          ],
          [
           "Gastroenterology & Hepatology"
          ],
          [
           "Zoology & Animal Science"
          ],
          [
           "Mechanical Engineering"
          ],
          [
           "Genetics"
          ],
          [
           "Environmental Studies"
          ],
          [
           "Health & Social Care"
          ],
          [
           "Anatomy & Physiology"
          ],
          [
           "Radiology & Imaging"
          ],
          [
           "Energy"
          ],
          [
           "Biochemistry"
          ],
          [
           "Computer Science"
          ],
          [
           "Otolaryngology (Ear, Nose & Throat)"
          ],
          [
           "Urology"
          ],
          [
           "Aquaculture, Fisheries & Fish Science"
          ],
          [
           "Statistics"
          ],
          [
           "Clinical Psychology"
          ],
          [
           "Developmental Psychology"
          ],
          [
           "Catalysis"
          ],
          [
           "Microbiology & Virology"
          ],
          [
           "Mental Health & Addiction"
          ],
          [
           "Psychiatry"
          ],
          [
           "Geriatric Medicine"
          ],
          [
           "Respiratory Medicine"
          ],
          [
           "Pathology"
          ],
          [
           "Rheumatology"
          ],
          [
           "Philosophy"
          ],
          [
           "General Psychology"
          ],
          [
           "Anthropology"
          ],
          [
           "Allergy & Clinical Immunology"
          ],
          [
           "Geography"
          ],
          [
           "Emergency Medicine"
          ],
          [
           "Finance & Investments"
          ],
          [
           "Evolution"
          ],
          [
           "Anaesthesia & Pain Management"
          ],
          [
           "Language & Linguistics"
          ],
          [
           "Pediatrics"
          ],
          [
           "Social Psychology"
          ],
          [
           "Cognitive Psychology"
          ],
          [
           "Family & Child Studies"
          ],
          [
           "Sociology"
          ],
          [
           "Transplantation"
          ],
          [
           "Sports Medicine & Orthopedics"
          ],
          [
           "Inorganic Chemistry"
          ],
          [
           "Ophthalmology & Optometry"
          ],
          [
           "Nutrition & Dietetics"
          ],
          [
           "Accounting"
          ],
          [
           "Social Policy & Welfare"
          ],
          [
           "Psychotherapy & Counseling"
          ],
          [
           "Evidence Based Medicine"
          ],
          [
           "Religion & Theology"
          ],
          [
           "Law"
          ],
          [
           "Industrial Chemistry"
          ],
          [
           "History"
          ],
          [
           "Educational & School Psychology"
          ],
          [
           "Intellectual Disability"
          ],
          [
           "Nephrology"
          ],
          [
           "Computational Chemistry & Molecular Modelling"
          ],
          [
           "Biomedical Engineering"
          ],
          [
           "Applied Psychology"
          ],
          [
           "Cultural Studies"
          ],
          [
           "Rehabilitation"
          ],
          [
           "Archaeology"
          ],
          [
           "Architecture"
          ],
          [
           "Information Science & Technology"
          ],
          [
           "Literature"
          ],
          [
           "Personality & Individual Differences"
          ],
          [
           "Astronomy"
          ],
          [
           "Museum & Heritage Studies"
          ],
          [
           "Industrial Engineering"
          ],
          [
           "Environmental Chemistry"
          ],
          [
           "Criminology"
          ],
          [
           "Urban Studies"
          ],
          [
           "General Computing"
          ],
          [
           "Design & Graphic Design"
          ],
          [
           "Psychological Methods, Research & Statistics"
          ],
          [
           "Classical Studies"
          ],
          [
           "Art & Photography"
          ],
          [
           "Performing Arts & Music"
          ],
          [
           "Communication & Media Studies"
          ]
         ],
         "hovertemplate": "Wiley Papers=%{x}<br>Mailing List Subscribers=%{y}<br>WOL L2 Subject=%{customdata[0]}<extra></extra>",
         "legendgroup": "",
         "marker": {
          "color": "#636efa",
          "symbol": "circle"
         },
         "mode": "markers",
         "name": "",
         "orientation": "v",
         "showlegend": false,
         "type": "scatter",
         "x": [
          10508,
          7253,
          5573,
          3612,
          3375,
          2866,
          2148,
          2068,
          2019,
          2010,
          1998,
          1939,
          1717,
          1641,
          1614,
          1611,
          1480,
          1418,
          1399,
          1365,
          1342,
          1318,
          1272,
          1219,
          1219,
          1214,
          1202,
          1189,
          1173,
          1133,
          1128,
          1043,
          1039,
          1033,
          1012,
          995,
          984,
          978,
          970,
          964,
          936,
          874,
          834,
          825,
          806,
          769,
          765,
          765,
          738,
          678,
          654,
          648,
          642,
          614,
          604,
          600,
          598,
          493,
          490,
          448,
          437,
          417,
          410,
          401,
          397,
          397,
          391,
          385,
          384,
          359,
          359,
          355,
          354,
          348,
          322,
          314,
          308,
          302,
          299,
          297,
          288,
          279,
          256,
          255,
          251,
          240,
          216,
          209,
          196,
          188,
          181,
          179,
          168,
          166,
          166,
          157,
          152,
          139,
          135,
          124,
          77,
          68,
          68,
          64,
          56,
          56,
          54,
          38,
          38,
          33,
          24,
          24,
          19,
          17,
          17,
          13,
          8,
          6,
          0
         ],
         "xaxis": "x",
         "y": [
          20618,
          41309,
          24314,
          25742,
          7957,
          28799,
          29731,
          4280,
          12611,
          15469,
          16418,
          5894,
          21347,
          16696,
          28465,
          35677,
          38901,
          13706,
          10533,
          18976,
          13346,
          61833,
          2875,
          23595,
          11248,
          0,
          53925,
          14499,
          17502,
          0,
          17847,
          39109,
          21496,
          7939,
          8503,
          1698,
          17598,
          8851,
          0,
          18935,
          11813,
          8180,
          14134,
          10009,
          17532,
          715,
          12311,
          9019,
          9122,
          3275,
          23681,
          4872,
          6452,
          9661,
          16791,
          13666,
          8059,
          1890,
          16803,
          0,
          11393,
          4753,
          1015,
          8958,
          6119,
          6908,
          31029,
          6480,
          9453,
          6971,
          6489,
          25079,
          22130,
          10162,
          11053,
          12451,
          7865,
          1478,
          0,
          18492,
          3391,
          1669,
          5873,
          3511,
          13165,
          0,
          953,
          1063,
          0,
          5318,
          9931,
          4957,
          8495,
          0,
          0,
          4347,
          5191,
          9364,
          0,
          891,
          0,
          3030,
          6853,
          0,
          5125,
          1371,
          3991,
          488,
          5194,
          6882,
          4957,
          750,
          23681,
          430,
          0,
          1350,
          0,
          353,
          5623
         ],
         "yaxis": "y"
        }
       ],
       "layout": {
        "legend": {
         "tracegroupgap": 0
        },
        "margin": {
         "t": 60
        },
        "template": {
         "data": {
          "bar": [
           {
            "error_x": {
             "color": "#2a3f5f"
            },
            "error_y": {
             "color": "#2a3f5f"
            },
            "marker": {
             "line": {
              "color": "#E5ECF6",
              "width": 0.5
             },
             "pattern": {
              "fillmode": "overlay",
              "size": 10,
              "solidity": 0.2
             }
            },
            "type": "bar"
           }
          ],
          "barpolar": [
           {
            "marker": {
             "line": {
              "color": "#E5ECF6",
              "width": 0.5
             },
             "pattern": {
              "fillmode": "overlay",
              "size": 10,
              "solidity": 0.2
             }
            },
            "type": "barpolar"
           }
          ],
          "carpet": [
           {
            "aaxis": {
             "endlinecolor": "#2a3f5f",
             "gridcolor": "white",
             "linecolor": "white",
             "minorgridcolor": "white",
             "startlinecolor": "#2a3f5f"
            },
            "baxis": {
             "endlinecolor": "#2a3f5f",
             "gridcolor": "white",
             "linecolor": "white",
             "minorgridcolor": "white",
             "startlinecolor": "#2a3f5f"
            },
            "type": "carpet"
           }
          ],
          "choropleth": [
           {
            "colorbar": {
             "outlinewidth": 0,
             "ticks": ""
            },
            "type": "choropleth"
           }
          ],
          "contour": [
           {
            "colorbar": {
             "outlinewidth": 0,
             "ticks": ""
            },
            "colorscale": [
             [
              0,
              "#0d0887"
             ],
             [
              0.1111111111111111,
              "#46039f"
             ],
             [
              0.2222222222222222,
              "#7201a8"
             ],
             [
              0.3333333333333333,
              "#9c179e"
             ],
             [
              0.4444444444444444,
              "#bd3786"
             ],
             [
              0.5555555555555556,
              "#d8576b"
             ],
             [
              0.6666666666666666,
              "#ed7953"
             ],
             [
              0.7777777777777778,
              "#fb9f3a"
             ],
             [
              0.8888888888888888,
              "#fdca26"
             ],
             [
              1,
              "#f0f921"
             ]
            ],
            "type": "contour"
           }
          ],
          "contourcarpet": [
           {
            "colorbar": {
             "outlinewidth": 0,
             "ticks": ""
            },
            "type": "contourcarpet"
           }
          ],
          "heatmap": [
           {
            "colorbar": {
             "outlinewidth": 0,
             "ticks": ""
            },
            "colorscale": [
             [
              0,
              "#0d0887"
             ],
             [
              0.1111111111111111,
              "#46039f"
             ],
             [
              0.2222222222222222,
              "#7201a8"
             ],
             [
              0.3333333333333333,
              "#9c179e"
             ],
             [
              0.4444444444444444,
              "#bd3786"
             ],
             [
              0.5555555555555556,
              "#d8576b"
             ],
             [
              0.6666666666666666,
              "#ed7953"
             ],
             [
              0.7777777777777778,
              "#fb9f3a"
             ],
             [
              0.8888888888888888,
              "#fdca26"
             ],
             [
              1,
              "#f0f921"
             ]
            ],
            "type": "heatmap"
           }
          ],
          "heatmapgl": [
           {
            "colorbar": {
             "outlinewidth": 0,
             "ticks": ""
            },
            "colorscale": [
             [
              0,
              "#0d0887"
             ],
             [
              0.1111111111111111,
              "#46039f"
             ],
             [
              0.2222222222222222,
              "#7201a8"
             ],
             [
              0.3333333333333333,
              "#9c179e"
             ],
             [
              0.4444444444444444,
              "#bd3786"
             ],
             [
              0.5555555555555556,
              "#d8576b"
             ],
             [
              0.6666666666666666,
              "#ed7953"
             ],
             [
              0.7777777777777778,
              "#fb9f3a"
             ],
             [
              0.8888888888888888,
              "#fdca26"
             ],
             [
              1,
              "#f0f921"
             ]
            ],
            "type": "heatmapgl"
           }
          ],
          "histogram": [
           {
            "marker": {
             "pattern": {
              "fillmode": "overlay",
              "size": 10,
              "solidity": 0.2
             }
            },
            "type": "histogram"
           }
          ],
          "histogram2d": [
           {
            "colorbar": {
             "outlinewidth": 0,
             "ticks": ""
            },
            "colorscale": [
             [
              0,
              "#0d0887"
             ],
             [
              0.1111111111111111,
              "#46039f"
             ],
             [
              0.2222222222222222,
              "#7201a8"
             ],
             [
              0.3333333333333333,
              "#9c179e"
             ],
             [
              0.4444444444444444,
              "#bd3786"
             ],
             [
              0.5555555555555556,
              "#d8576b"
             ],
             [
              0.6666666666666666,
              "#ed7953"
             ],
             [
              0.7777777777777778,
              "#fb9f3a"
             ],
             [
              0.8888888888888888,
              "#fdca26"
             ],
             [
              1,
              "#f0f921"
             ]
            ],
            "type": "histogram2d"
           }
          ],
          "histogram2dcontour": [
           {
            "colorbar": {
             "outlinewidth": 0,
             "ticks": ""
            },
            "colorscale": [
             [
              0,
              "#0d0887"
             ],
             [
              0.1111111111111111,
              "#46039f"
             ],
             [
              0.2222222222222222,
              "#7201a8"
             ],
             [
              0.3333333333333333,
              "#9c179e"
             ],
             [
              0.4444444444444444,
              "#bd3786"
             ],
             [
              0.5555555555555556,
              "#d8576b"
             ],
             [
              0.6666666666666666,
              "#ed7953"
             ],
             [
              0.7777777777777778,
              "#fb9f3a"
             ],
             [
              0.8888888888888888,
              "#fdca26"
             ],
             [
              1,
              "#f0f921"
             ]
            ],
            "type": "histogram2dcontour"
           }
          ],
          "mesh3d": [
           {
            "colorbar": {
             "outlinewidth": 0,
             "ticks": ""
            },
            "type": "mesh3d"
           }
          ],
          "parcoords": [
           {
            "line": {
             "colorbar": {
              "outlinewidth": 0,
              "ticks": ""
             }
            },
            "type": "parcoords"
           }
          ],
          "pie": [
           {
            "automargin": true,
            "type": "pie"
           }
          ],
          "scatter": [
           {
            "fillpattern": {
             "fillmode": "overlay",
             "size": 10,
             "solidity": 0.2
            },
            "type": "scatter"
           }
          ],
          "scatter3d": [
           {
            "line": {
             "colorbar": {
              "outlinewidth": 0,
              "ticks": ""
             }
            },
            "marker": {
             "colorbar": {
              "outlinewidth": 0,
              "ticks": ""
             }
            },
            "type": "scatter3d"
           }
          ],
          "scattercarpet": [
           {
            "marker": {
             "colorbar": {
              "outlinewidth": 0,
              "ticks": ""
             }
            },
            "type": "scattercarpet"
           }
          ],
          "scattergeo": [
           {
            "marker": {
             "colorbar": {
              "outlinewidth": 0,
              "ticks": ""
             }
            },
            "type": "scattergeo"
           }
          ],
          "scattergl": [
           {
            "marker": {
             "colorbar": {
              "outlinewidth": 0,
              "ticks": ""
             }
            },
            "type": "scattergl"
           }
          ],
          "scattermapbox": [
           {
            "marker": {
             "colorbar": {
              "outlinewidth": 0,
              "ticks": ""
             }
            },
            "type": "scattermapbox"
           }
          ],
          "scatterpolar": [
           {
            "marker": {
             "colorbar": {
              "outlinewidth": 0,
              "ticks": ""
             }
            },
            "type": "scatterpolar"
           }
          ],
          "scatterpolargl": [
           {
            "marker": {
             "colorbar": {
              "outlinewidth": 0,
              "ticks": ""
             }
            },
            "type": "scatterpolargl"
           }
          ],
          "scatterternary": [
           {
            "marker": {
             "colorbar": {
              "outlinewidth": 0,
              "ticks": ""
             }
            },
            "type": "scatterternary"
           }
          ],
          "surface": [
           {
            "colorbar": {
             "outlinewidth": 0,
             "ticks": ""
            },
            "colorscale": [
             [
              0,
              "#0d0887"
             ],
             [
              0.1111111111111111,
              "#46039f"
             ],
             [
              0.2222222222222222,
              "#7201a8"
             ],
             [
              0.3333333333333333,
              "#9c179e"
             ],
             [
              0.4444444444444444,
              "#bd3786"
             ],
             [
              0.5555555555555556,
              "#d8576b"
             ],
             [
              0.6666666666666666,
              "#ed7953"
             ],
             [
              0.7777777777777778,
              "#fb9f3a"
             ],
             [
              0.8888888888888888,
              "#fdca26"
             ],
             [
              1,
              "#f0f921"
             ]
            ],
            "type": "surface"
           }
          ],
          "table": [
           {
            "cells": {
             "fill": {
              "color": "#EBF0F8"
             },
             "line": {
              "color": "white"
             }
            },
            "header": {
             "fill": {
              "color": "#C8D4E3"
             },
             "line": {
              "color": "white"
             }
            },
            "type": "table"
           }
          ]
         },
         "layout": {
          "annotationdefaults": {
           "arrowcolor": "#2a3f5f",
           "arrowhead": 0,
           "arrowwidth": 1
          },
          "autotypenumbers": "strict",
          "coloraxis": {
           "colorbar": {
            "outlinewidth": 0,
            "ticks": ""
           }
          },
          "colorscale": {
           "diverging": [
            [
             0,
             "#8e0152"
            ],
            [
             0.1,
             "#c51b7d"
            ],
            [
             0.2,
             "#de77ae"
            ],
            [
             0.3,
             "#f1b6da"
            ],
            [
             0.4,
             "#fde0ef"
            ],
            [
             0.5,
             "#f7f7f7"
            ],
            [
             0.6,
             "#e6f5d0"
            ],
            [
             0.7,
             "#b8e186"
            ],
            [
             0.8,
             "#7fbc41"
            ],
            [
             0.9,
             "#4d9221"
            ],
            [
             1,
             "#276419"
            ]
           ],
           "sequential": [
            [
             0,
             "#0d0887"
            ],
            [
             0.1111111111111111,
             "#46039f"
            ],
            [
             0.2222222222222222,
             "#7201a8"
            ],
            [
             0.3333333333333333,
             "#9c179e"
            ],
            [
             0.4444444444444444,
             "#bd3786"
            ],
            [
             0.5555555555555556,
             "#d8576b"
            ],
            [
             0.6666666666666666,
             "#ed7953"
            ],
            [
             0.7777777777777778,
             "#fb9f3a"
            ],
            [
             0.8888888888888888,
             "#fdca26"
            ],
            [
             1,
             "#f0f921"
            ]
           ],
           "sequentialminus": [
            [
             0,
             "#0d0887"
            ],
            [
             0.1111111111111111,
             "#46039f"
            ],
            [
             0.2222222222222222,
             "#7201a8"
            ],
            [
             0.3333333333333333,
             "#9c179e"
            ],
            [
             0.4444444444444444,
             "#bd3786"
            ],
            [
             0.5555555555555556,
             "#d8576b"
            ],
            [
             0.6666666666666666,
             "#ed7953"
            ],
            [
             0.7777777777777778,
             "#fb9f3a"
            ],
            [
             0.8888888888888888,
             "#fdca26"
            ],
            [
             1,
             "#f0f921"
            ]
           ]
          },
          "colorway": [
           "#636efa",
           "#EF553B",
           "#00cc96",
           "#ab63fa",
           "#FFA15A",
           "#19d3f3",
           "#FF6692",
           "#B6E880",
           "#FF97FF",
           "#FECB52"
          ],
          "font": {
           "color": "#2a3f5f"
          },
          "geo": {
           "bgcolor": "white",
           "lakecolor": "white",
           "landcolor": "#E5ECF6",
           "showlakes": true,
           "showland": true,
           "subunitcolor": "white"
          },
          "hoverlabel": {
           "align": "left"
          },
          "hovermode": "closest",
          "mapbox": {
           "style": "light"
          },
          "paper_bgcolor": "white",
          "plot_bgcolor": "#E5ECF6",
          "polar": {
           "angularaxis": {
            "gridcolor": "white",
            "linecolor": "white",
            "ticks": ""
           },
           "bgcolor": "#E5ECF6",
           "radialaxis": {
            "gridcolor": "white",
            "linecolor": "white",
            "ticks": ""
           }
          },
          "scene": {
           "xaxis": {
            "backgroundcolor": "#E5ECF6",
            "gridcolor": "white",
            "gridwidth": 2,
            "linecolor": "white",
            "showbackground": true,
            "ticks": "",
            "zerolinecolor": "white"
           },
           "yaxis": {
            "backgroundcolor": "#E5ECF6",
            "gridcolor": "white",
            "gridwidth": 2,
            "linecolor": "white",
            "showbackground": true,
            "ticks": "",
            "zerolinecolor": "white"
           },
           "zaxis": {
            "backgroundcolor": "#E5ECF6",
            "gridcolor": "white",
            "gridwidth": 2,
            "linecolor": "white",
            "showbackground": true,
            "ticks": "",
            "zerolinecolor": "white"
           }
          },
          "shapedefaults": {
           "line": {
            "color": "#2a3f5f"
           }
          },
          "ternary": {
           "aaxis": {
            "gridcolor": "white",
            "linecolor": "white",
            "ticks": ""
           },
           "baxis": {
            "gridcolor": "white",
            "linecolor": "white",
            "ticks": ""
           },
           "bgcolor": "#E5ECF6",
           "caxis": {
            "gridcolor": "white",
            "linecolor": "white",
            "ticks": ""
           }
          },
          "title": {
           "x": 0.05
          },
          "xaxis": {
           "automargin": true,
           "gridcolor": "white",
           "linecolor": "white",
           "ticks": "",
           "title": {
            "standoff": 15
           },
           "zerolinecolor": "white",
           "zerolinewidth": 2
          },
          "yaxis": {
           "automargin": true,
           "gridcolor": "white",
           "linecolor": "white",
           "ticks": "",
           "title": {
            "standoff": 15
           },
           "zerolinecolor": "white",
           "zerolinewidth": 2
          }
         }
        },
        "xaxis": {
         "anchor": "y",
         "domain": [
          0,
          1
         ],
         "title": {
          "text": "Wiley Papers"
         }
        },
        "yaxis": {
         "anchor": "x",
         "domain": [
          0,
          1
         ],
         "title": {
          "text": "Mailing List Subscribers"
         }
        }
       }
      },
      "text/html": [
       "<div>                            <div id=\"1d5d9280-3ab2-4a35-b787-d3b1cf85c18a\" class=\"plotly-graph-div\" style=\"height:525px; width:100%;\"></div>            <script type=\"text/javascript\">                require([\"plotly\"], function(Plotly) {                    window.PLOTLYENV=window.PLOTLYENV || {};                                    if (document.getElementById(\"1d5d9280-3ab2-4a35-b787-d3b1cf85c18a\")) {                    Plotly.newPlot(                        \"1d5d9280-3ab2-4a35-b787-d3b1cf85c18a\",                        [{\"customdata\":[[\"Materials Science\"],[\"General & Introductory Chemistry\"],[\"Earth Sciences\"],[\"Electrical & Electronics Engineering\"],[\"Ecology\"],[\"Food Science & Technology\"],[\"Cell & Molecular Biology\"],[\"Nanotechnology\"],[\"Plant Science\"],[\"Neurology\"],[\"Dermatology\"],[\"Physics\"],[\"Cardiovascular Disease\"],[\"Oncology & Radiotherapy\"],[\"Dentistry\"],[\"Economics\"],[\"Nursing\"],[\"Analytical Chemistry\"],[\"Mathematics\"],[\"Veterinary Medicine\"],[\"Pharmacology & Pharmaceutical Medicine\"],[\"Business & Management\"],[\"General & Internal Medicine\"],[\"Agriculture\"],[\"Hematology\"],[\"General & Introductory Medical Science\"],[\"Education\"],[\"Organic Chemistry\"],[\"Pharmaceutical & Medicinal Chemistry\"],[\"Civil Engineering & Construction\"],[\"Surgery & Surgical Specialties\"],[\"General Life Sciences\"],[\"Chemical Engineering\"],[\"Physical Chemistry\"],[\"Endocrinology\"],[\"Development Studies\"],[\"Neuroscience\"],[\"Political Science\"],[\"Basic Medical Sciences\"],[\"Obstetrics & Gynecology\"],[\"Gastroenterology & Hepatology\"],[\"Zoology & Animal Science\"],[\"Mechanical Engineering\"],[\"Genetics\"],[\"Environmental Studies\"],[\"Health & Social Care\"],[\"Anatomy & Physiology\"],[\"Radiology & Imaging\"],[\"Energy\"],[\"Biochemistry\"],[\"Computer Science\"],[\"Otolaryngology (Ear, Nose & Throat)\"],[\"Urology\"],[\"Aquaculture, Fisheries & Fish Science\"],[\"Statistics\"],[\"Clinical Psychology\"],[\"Developmental Psychology\"],[\"Catalysis\"],[\"Microbiology & Virology\"],[\"Mental Health & Addiction\"],[\"Psychiatry\"],[\"Geriatric Medicine\"],[\"Respiratory Medicine\"],[\"Pathology\"],[\"Rheumatology\"],[\"Philosophy\"],[\"General Psychology\"],[\"Anthropology\"],[\"Allergy & Clinical Immunology\"],[\"Geography\"],[\"Emergency Medicine\"],[\"Finance & Investments\"],[\"Evolution\"],[\"Anaesthesia & Pain Management\"],[\"Language & Linguistics\"],[\"Pediatrics\"],[\"Social Psychology\"],[\"Cognitive Psychology\"],[\"Family & Child Studies\"],[\"Sociology\"],[\"Transplantation\"],[\"Sports Medicine & Orthopedics\"],[\"Inorganic Chemistry\"],[\"Ophthalmology & Optometry\"],[\"Nutrition & Dietetics\"],[\"Accounting\"],[\"Social Policy & Welfare\"],[\"Psychotherapy & Counseling\"],[\"Evidence Based Medicine\"],[\"Religion & Theology\"],[\"Law\"],[\"Industrial Chemistry\"],[\"History\"],[\"Educational & School Psychology\"],[\"Intellectual Disability\"],[\"Nephrology\"],[\"Computational Chemistry & Molecular Modelling\"],[\"Biomedical Engineering\"],[\"Applied Psychology\"],[\"Cultural Studies\"],[\"Rehabilitation\"],[\"Archaeology\"],[\"Architecture\"],[\"Information Science & Technology\"],[\"Literature\"],[\"Personality & Individual Differences\"],[\"Astronomy\"],[\"Museum & Heritage Studies\"],[\"Industrial Engineering\"],[\"Environmental Chemistry\"],[\"Criminology\"],[\"Urban Studies\"],[\"General Computing\"],[\"Design & Graphic Design\"],[\"Psychological Methods, Research & Statistics\"],[\"Classical Studies\"],[\"Art & Photography\"],[\"Performing Arts & Music\"],[\"Communication & Media Studies\"]],\"hovertemplate\":\"Wiley Papers=%{x}<br>Mailing List Subscribers=%{y}<br>WOL L2 Subject=%{customdata[0]}<extra></extra>\",\"legendgroup\":\"\",\"marker\":{\"color\":\"#636efa\",\"symbol\":\"circle\"},\"mode\":\"markers\",\"name\":\"\",\"orientation\":\"v\",\"showlegend\":false,\"x\":[10508,7253,5573,3612,3375,2866,2148,2068,2019,2010,1998,1939,1717,1641,1614,1611,1480,1418,1399,1365,1342,1318,1272,1219,1219,1214,1202,1189,1173,1133,1128,1043,1039,1033,1012,995,984,978,970,964,936,874,834,825,806,769,765,765,738,678,654,648,642,614,604,600,598,493,490,448,437,417,410,401,397,397,391,385,384,359,359,355,354,348,322,314,308,302,299,297,288,279,256,255,251,240,216,209,196,188,181,179,168,166,166,157,152,139,135,124,77,68,68,64,56,56,54,38,38,33,24,24,19,17,17,13,8,6,0],\"xaxis\":\"x\",\"y\":[20618,41309,24314,25742,7957,28799,29731,4280,12611,15469,16418,5894,21347,16696,28465,35677,38901,13706,10533,18976,13346,61833,2875,23595,11248,0,53925,14499,17502,0,17847,39109,21496,7939,8503,1698,17598,8851,0,18935,11813,8180,14134,10009,17532,715,12311,9019,9122,3275,23681,4872,6452,9661,16791,13666,8059,1890,16803,0,11393,4753,1015,8958,6119,6908,31029,6480,9453,6971,6489,25079,22130,10162,11053,12451,7865,1478,0,18492,3391,1669,5873,3511,13165,0,953,1063,0,5318,9931,4957,8495,0,0,4347,5191,9364,0,891,0,3030,6853,0,5125,1371,3991,488,5194,6882,4957,750,23681,430,0,1350,0,353,5623],\"yaxis\":\"y\",\"type\":\"scatter\"}],                        {\"template\":{\"data\":{\"histogram2dcontour\":[{\"type\":\"histogram2dcontour\",\"colorbar\":{\"outlinewidth\":0,\"ticks\":\"\"},\"colorscale\":[[0.0,\"#0d0887\"],[0.1111111111111111,\"#46039f\"],[0.2222222222222222,\"#7201a8\"],[0.3333333333333333,\"#9c179e\"],[0.4444444444444444,\"#bd3786\"],[0.5555555555555556,\"#d8576b\"],[0.6666666666666666,\"#ed7953\"],[0.7777777777777778,\"#fb9f3a\"],[0.8888888888888888,\"#fdca26\"],[1.0,\"#f0f921\"]]}],\"choropleth\":[{\"type\":\"choropleth\",\"colorbar\":{\"outlinewidth\":0,\"ticks\":\"\"}}],\"histogram2d\":[{\"type\":\"histogram2d\",\"colorbar\":{\"outlinewidth\":0,\"ticks\":\"\"},\"colorscale\":[[0.0,\"#0d0887\"],[0.1111111111111111,\"#46039f\"],[0.2222222222222222,\"#7201a8\"],[0.3333333333333333,\"#9c179e\"],[0.4444444444444444,\"#bd3786\"],[0.5555555555555556,\"#d8576b\"],[0.6666666666666666,\"#ed7953\"],[0.7777777777777778,\"#fb9f3a\"],[0.8888888888888888,\"#fdca26\"],[1.0,\"#f0f921\"]]}],\"heatmap\":[{\"type\":\"heatmap\",\"colorbar\":{\"outlinewidth\":0,\"ticks\":\"\"},\"colorscale\":[[0.0,\"#0d0887\"],[0.1111111111111111,\"#46039f\"],[0.2222222222222222,\"#7201a8\"],[0.3333333333333333,\"#9c179e\"],[0.4444444444444444,\"#bd3786\"],[0.5555555555555556,\"#d8576b\"],[0.6666666666666666,\"#ed7953\"],[0.7777777777777778,\"#fb9f3a\"],[0.8888888888888888,\"#fdca26\"],[1.0,\"#f0f921\"]]}],\"heatmapgl\":[{\"type\":\"heatmapgl\",\"colorbar\":{\"outlinewidth\":0,\"ticks\":\"\"},\"colorscale\":[[0.0,\"#0d0887\"],[0.1111111111111111,\"#46039f\"],[0.2222222222222222,\"#7201a8\"],[0.3333333333333333,\"#9c179e\"],[0.4444444444444444,\"#bd3786\"],[0.5555555555555556,\"#d8576b\"],[0.6666666666666666,\"#ed7953\"],[0.7777777777777778,\"#fb9f3a\"],[0.8888888888888888,\"#fdca26\"],[1.0,\"#f0f921\"]]}],\"contourcarpet\":[{\"type\":\"contourcarpet\",\"colorbar\":{\"outlinewidth\":0,\"ticks\":\"\"}}],\"contour\":[{\"type\":\"contour\",\"colorbar\":{\"outlinewidth\":0,\"ticks\":\"\"},\"colorscale\":[[0.0,\"#0d0887\"],[0.1111111111111111,\"#46039f\"],[0.2222222222222222,\"#7201a8\"],[0.3333333333333333,\"#9c179e\"],[0.4444444444444444,\"#bd3786\"],[0.5555555555555556,\"#d8576b\"],[0.6666666666666666,\"#ed7953\"],[0.7777777777777778,\"#fb9f3a\"],[0.8888888888888888,\"#fdca26\"],[1.0,\"#f0f921\"]]}],\"surface\":[{\"type\":\"surface\",\"colorbar\":{\"outlinewidth\":0,\"ticks\":\"\"},\"colorscale\":[[0.0,\"#0d0887\"],[0.1111111111111111,\"#46039f\"],[0.2222222222222222,\"#7201a8\"],[0.3333333333333333,\"#9c179e\"],[0.4444444444444444,\"#bd3786\"],[0.5555555555555556,\"#d8576b\"],[0.6666666666666666,\"#ed7953\"],[0.7777777777777778,\"#fb9f3a\"],[0.8888888888888888,\"#fdca26\"],[1.0,\"#f0f921\"]]}],\"mesh3d\":[{\"type\":\"mesh3d\",\"colorbar\":{\"outlinewidth\":0,\"ticks\":\"\"}}],\"scatter\":[{\"fillpattern\":{\"fillmode\":\"overlay\",\"size\":10,\"solidity\":0.2},\"type\":\"scatter\"}],\"parcoords\":[{\"type\":\"parcoords\",\"line\":{\"colorbar\":{\"outlinewidth\":0,\"ticks\":\"\"}}}],\"scatterpolargl\":[{\"type\":\"scatterpolargl\",\"marker\":{\"colorbar\":{\"outlinewidth\":0,\"ticks\":\"\"}}}],\"bar\":[{\"error_x\":{\"color\":\"#2a3f5f\"},\"error_y\":{\"color\":\"#2a3f5f\"},\"marker\":{\"line\":{\"color\":\"#E5ECF6\",\"width\":0.5},\"pattern\":{\"fillmode\":\"overlay\",\"size\":10,\"solidity\":0.2}},\"type\":\"bar\"}],\"scattergeo\":[{\"type\":\"scattergeo\",\"marker\":{\"colorbar\":{\"outlinewidth\":0,\"ticks\":\"\"}}}],\"scatterpolar\":[{\"type\":\"scatterpolar\",\"marker\":{\"colorbar\":{\"outlinewidth\":0,\"ticks\":\"\"}}}],\"histogram\":[{\"marker\":{\"pattern\":{\"fillmode\":\"overlay\",\"size\":10,\"solidity\":0.2}},\"type\":\"histogram\"}],\"scattergl\":[{\"type\":\"scattergl\",\"marker\":{\"colorbar\":{\"outlinewidth\":0,\"ticks\":\"\"}}}],\"scatter3d\":[{\"type\":\"scatter3d\",\"line\":{\"colorbar\":{\"outlinewidth\":0,\"ticks\":\"\"}},\"marker\":{\"colorbar\":{\"outlinewidth\":0,\"ticks\":\"\"}}}],\"scattermapbox\":[{\"type\":\"scattermapbox\",\"marker\":{\"colorbar\":{\"outlinewidth\":0,\"ticks\":\"\"}}}],\"scatterternary\":[{\"type\":\"scatterternary\",\"marker\":{\"colorbar\":{\"outlinewidth\":0,\"ticks\":\"\"}}}],\"scattercarpet\":[{\"type\":\"scattercarpet\",\"marker\":{\"colorbar\":{\"outlinewidth\":0,\"ticks\":\"\"}}}],\"carpet\":[{\"aaxis\":{\"endlinecolor\":\"#2a3f5f\",\"gridcolor\":\"white\",\"linecolor\":\"white\",\"minorgridcolor\":\"white\",\"startlinecolor\":\"#2a3f5f\"},\"baxis\":{\"endlinecolor\":\"#2a3f5f\",\"gridcolor\":\"white\",\"linecolor\":\"white\",\"minorgridcolor\":\"white\",\"startlinecolor\":\"#2a3f5f\"},\"type\":\"carpet\"}],\"table\":[{\"cells\":{\"fill\":{\"color\":\"#EBF0F8\"},\"line\":{\"color\":\"white\"}},\"header\":{\"fill\":{\"color\":\"#C8D4E3\"},\"line\":{\"color\":\"white\"}},\"type\":\"table\"}],\"barpolar\":[{\"marker\":{\"line\":{\"color\":\"#E5ECF6\",\"width\":0.5},\"pattern\":{\"fillmode\":\"overlay\",\"size\":10,\"solidity\":0.2}},\"type\":\"barpolar\"}],\"pie\":[{\"automargin\":true,\"type\":\"pie\"}]},\"layout\":{\"autotypenumbers\":\"strict\",\"colorway\":[\"#636efa\",\"#EF553B\",\"#00cc96\",\"#ab63fa\",\"#FFA15A\",\"#19d3f3\",\"#FF6692\",\"#B6E880\",\"#FF97FF\",\"#FECB52\"],\"font\":{\"color\":\"#2a3f5f\"},\"hovermode\":\"closest\",\"hoverlabel\":{\"align\":\"left\"},\"paper_bgcolor\":\"white\",\"plot_bgcolor\":\"#E5ECF6\",\"polar\":{\"bgcolor\":\"#E5ECF6\",\"angularaxis\":{\"gridcolor\":\"white\",\"linecolor\":\"white\",\"ticks\":\"\"},\"radialaxis\":{\"gridcolor\":\"white\",\"linecolor\":\"white\",\"ticks\":\"\"}},\"ternary\":{\"bgcolor\":\"#E5ECF6\",\"aaxis\":{\"gridcolor\":\"white\",\"linecolor\":\"white\",\"ticks\":\"\"},\"baxis\":{\"gridcolor\":\"white\",\"linecolor\":\"white\",\"ticks\":\"\"},\"caxis\":{\"gridcolor\":\"white\",\"linecolor\":\"white\",\"ticks\":\"\"}},\"coloraxis\":{\"colorbar\":{\"outlinewidth\":0,\"ticks\":\"\"}},\"colorscale\":{\"sequential\":[[0.0,\"#0d0887\"],[0.1111111111111111,\"#46039f\"],[0.2222222222222222,\"#7201a8\"],[0.3333333333333333,\"#9c179e\"],[0.4444444444444444,\"#bd3786\"],[0.5555555555555556,\"#d8576b\"],[0.6666666666666666,\"#ed7953\"],[0.7777777777777778,\"#fb9f3a\"],[0.8888888888888888,\"#fdca26\"],[1.0,\"#f0f921\"]],\"sequentialminus\":[[0.0,\"#0d0887\"],[0.1111111111111111,\"#46039f\"],[0.2222222222222222,\"#7201a8\"],[0.3333333333333333,\"#9c179e\"],[0.4444444444444444,\"#bd3786\"],[0.5555555555555556,\"#d8576b\"],[0.6666666666666666,\"#ed7953\"],[0.7777777777777778,\"#fb9f3a\"],[0.8888888888888888,\"#fdca26\"],[1.0,\"#f0f921\"]],\"diverging\":[[0,\"#8e0152\"],[0.1,\"#c51b7d\"],[0.2,\"#de77ae\"],[0.3,\"#f1b6da\"],[0.4,\"#fde0ef\"],[0.5,\"#f7f7f7\"],[0.6,\"#e6f5d0\"],[0.7,\"#b8e186\"],[0.8,\"#7fbc41\"],[0.9,\"#4d9221\"],[1,\"#276419\"]]},\"xaxis\":{\"gridcolor\":\"white\",\"linecolor\":\"white\",\"ticks\":\"\",\"title\":{\"standoff\":15},\"zerolinecolor\":\"white\",\"automargin\":true,\"zerolinewidth\":2},\"yaxis\":{\"gridcolor\":\"white\",\"linecolor\":\"white\",\"ticks\":\"\",\"title\":{\"standoff\":15},\"zerolinecolor\":\"white\",\"automargin\":true,\"zerolinewidth\":2},\"scene\":{\"xaxis\":{\"backgroundcolor\":\"#E5ECF6\",\"gridcolor\":\"white\",\"linecolor\":\"white\",\"showbackground\":true,\"ticks\":\"\",\"zerolinecolor\":\"white\",\"gridwidth\":2},\"yaxis\":{\"backgroundcolor\":\"#E5ECF6\",\"gridcolor\":\"white\",\"linecolor\":\"white\",\"showbackground\":true,\"ticks\":\"\",\"zerolinecolor\":\"white\",\"gridwidth\":2},\"zaxis\":{\"backgroundcolor\":\"#E5ECF6\",\"gridcolor\":\"white\",\"linecolor\":\"white\",\"showbackground\":true,\"ticks\":\"\",\"zerolinecolor\":\"white\",\"gridwidth\":2}},\"shapedefaults\":{\"line\":{\"color\":\"#2a3f5f\"}},\"annotationdefaults\":{\"arrowcolor\":\"#2a3f5f\",\"arrowhead\":0,\"arrowwidth\":1},\"geo\":{\"bgcolor\":\"white\",\"landcolor\":\"#E5ECF6\",\"subunitcolor\":\"white\",\"showland\":true,\"showlakes\":true,\"lakecolor\":\"white\"},\"title\":{\"x\":0.05},\"mapbox\":{\"style\":\"light\"}}},\"xaxis\":{\"anchor\":\"y\",\"domain\":[0.0,1.0],\"title\":{\"text\":\"Wiley Papers\"}},\"yaxis\":{\"anchor\":\"x\",\"domain\":[0.0,1.0],\"title\":{\"text\":\"Mailing List Subscribers\"}},\"legend\":{\"tracegroupgap\":0},\"margin\":{\"t\":60}},                        {\"responsive\": true}                    ).then(function(){\n",
       "                            \n",
       "var gd = document.getElementById('1d5d9280-3ab2-4a35-b787-d3b1cf85c18a');\n",
       "var x = new MutationObserver(function (mutations, observer) {{\n",
       "        var display = window.getComputedStyle(gd).display;\n",
       "        if (!display || display === 'none') {{\n",
       "            console.log([gd, 'removed!']);\n",
       "            Plotly.purge(gd);\n",
       "            observer.disconnect();\n",
       "        }}\n",
       "}});\n",
       "\n",
       "// Listen for the removal of the full notebook cells\n",
       "var notebookContainer = gd.closest('#notebook-container');\n",
       "if (notebookContainer) {{\n",
       "    x.observe(notebookContainer, {childList: true});\n",
       "}}\n",
       "\n",
       "// Listen for the clearing of the current output cell\n",
       "var outputEl = gd.closest('.output');\n",
       "if (outputEl) {{\n",
       "    x.observe(outputEl, {childList: true});\n",
       "}}\n",
       "\n",
       "                        })                };                });            </script>        </div>"
      ]
     },
     "metadata": {},
     "output_type": "display_data"
    }
   ],
   "source": [
    "# Step 2: chart it\n",
    "\n",
    "px.scatter(data_frame = verticals, \n",
    "           x = 'Wiley Papers', \n",
    "           y = 'Mailing List Subscribers',\n",
    "          hover_data = ['WOL L2 Subject'])"
   ]
  },
  {
   "cell_type": "code",
   "execution_count": 22,
   "id": "b55a0803",
   "metadata": {},
   "outputs": [
    {
     "data": {
      "application/vnd.plotly.v1+json": {
       "config": {
        "plotlyServerURL": "https://plot.ly"
       },
       "data": [
        {
         "customdata": [
          [
           "Materials Science"
          ],
          [
           "General & Introductory Chemistry"
          ],
          [
           "Earth Sciences"
          ],
          [
           "Electrical & Electronics Engineering"
          ],
          [
           "Ecology"
          ],
          [
           "Food Science & Technology"
          ],
          [
           "Cell & Molecular Biology"
          ],
          [
           "Nanotechnology"
          ],
          [
           "Plant Science"
          ],
          [
           "Neurology"
          ],
          [
           "Dermatology"
          ],
          [
           "Physics"
          ],
          [
           "Cardiovascular Disease"
          ],
          [
           "Oncology & Radiotherapy"
          ],
          [
           "Dentistry"
          ],
          [
           "Economics"
          ],
          [
           "Nursing"
          ],
          [
           "Analytical Chemistry"
          ],
          [
           "Mathematics"
          ],
          [
           "Veterinary Medicine"
          ],
          [
           "Pharmacology & Pharmaceutical Medicine"
          ],
          [
           "Business & Management"
          ],
          [
           "General & Internal Medicine"
          ],
          [
           "Agriculture"
          ],
          [
           "Hematology"
          ],
          [
           "General & Introductory Medical Science"
          ],
          [
           "Education"
          ],
          [
           "Organic Chemistry"
          ],
          [
           "Pharmaceutical & Medicinal Chemistry"
          ],
          [
           "Civil Engineering & Construction"
          ],
          [
           "Surgery & Surgical Specialties"
          ],
          [
           "General Life Sciences"
          ],
          [
           "Chemical Engineering"
          ],
          [
           "Physical Chemistry"
          ],
          [
           "Endocrinology"
          ],
          [
           "Development Studies"
          ],
          [
           "Neuroscience"
          ],
          [
           "Political Science"
          ],
          [
           "Basic Medical Sciences"
          ],
          [
           "Obstetrics & Gynecology"
          ],
          [
           "Gastroenterology & Hepatology"
          ],
          [
           "Zoology & Animal Science"
          ],
          [
           "Mechanical Engineering"
          ],
          [
           "Genetics"
          ],
          [
           "Environmental Studies"
          ],
          [
           "Health & Social Care"
          ],
          [
           "Anatomy & Physiology"
          ],
          [
           "Radiology & Imaging"
          ],
          [
           "Energy"
          ],
          [
           "Biochemistry"
          ],
          [
           "Computer Science"
          ],
          [
           "Otolaryngology (Ear, Nose & Throat)"
          ],
          [
           "Urology"
          ],
          [
           "Aquaculture, Fisheries & Fish Science"
          ],
          [
           "Statistics"
          ],
          [
           "Clinical Psychology"
          ],
          [
           "Developmental Psychology"
          ],
          [
           "Catalysis"
          ],
          [
           "Microbiology & Virology"
          ],
          [
           "Mental Health & Addiction"
          ],
          [
           "Psychiatry"
          ],
          [
           "Geriatric Medicine"
          ],
          [
           "Respiratory Medicine"
          ],
          [
           "Pathology"
          ],
          [
           "Rheumatology"
          ],
          [
           "Philosophy"
          ],
          [
           "General Psychology"
          ],
          [
           "Anthropology"
          ],
          [
           "Allergy & Clinical Immunology"
          ],
          [
           "Geography"
          ],
          [
           "Emergency Medicine"
          ],
          [
           "Finance & Investments"
          ],
          [
           "Evolution"
          ],
          [
           "Anaesthesia & Pain Management"
          ],
          [
           "Language & Linguistics"
          ],
          [
           "Pediatrics"
          ],
          [
           "Social Psychology"
          ],
          [
           "Cognitive Psychology"
          ],
          [
           "Family & Child Studies"
          ],
          [
           "Sociology"
          ],
          [
           "Transplantation"
          ],
          [
           "Sports Medicine & Orthopedics"
          ],
          [
           "Inorganic Chemistry"
          ],
          [
           "Ophthalmology & Optometry"
          ],
          [
           "Nutrition & Dietetics"
          ],
          [
           "Accounting"
          ],
          [
           "Social Policy & Welfare"
          ],
          [
           "Psychotherapy & Counseling"
          ],
          [
           "Evidence Based Medicine"
          ],
          [
           "Religion & Theology"
          ],
          [
           "Law"
          ],
          [
           "Industrial Chemistry"
          ],
          [
           "History"
          ],
          [
           "Educational & School Psychology"
          ],
          [
           "Intellectual Disability"
          ],
          [
           "Nephrology"
          ],
          [
           "Computational Chemistry & Molecular Modelling"
          ],
          [
           "Biomedical Engineering"
          ],
          [
           "Applied Psychology"
          ],
          [
           "Cultural Studies"
          ],
          [
           "Rehabilitation"
          ],
          [
           "Archaeology"
          ],
          [
           "Architecture"
          ],
          [
           "Information Science & Technology"
          ],
          [
           "Literature"
          ],
          [
           "Personality & Individual Differences"
          ],
          [
           "Astronomy"
          ],
          [
           "Museum & Heritage Studies"
          ],
          [
           "Industrial Engineering"
          ],
          [
           "Environmental Chemistry"
          ],
          [
           "Criminology"
          ],
          [
           "Urban Studies"
          ],
          [
           "General Computing"
          ],
          [
           "Design & Graphic Design"
          ],
          [
           "Psychological Methods, Research & Statistics"
          ],
          [
           "Classical Studies"
          ],
          [
           "Art & Photography"
          ],
          [
           "Performing Arts & Music"
          ],
          [
           "Communication & Media Studies"
          ]
         ],
         "hovertemplate": "Wiley Papers=%{x}<br>Mailing List Subscribers=%{y}<br>WOL L2 Subject=%{customdata[0]}<extra></extra>",
         "legendgroup": "",
         "marker": {
          "color": "#636efa",
          "symbol": "circle"
         },
         "mode": "markers",
         "name": "",
         "orientation": "v",
         "showlegend": false,
         "type": "scatter",
         "x": [
          10508,
          7253,
          5573,
          3612,
          3375,
          2866,
          2148,
          2068,
          2019,
          2010,
          1998,
          1939,
          1717,
          1641,
          1614,
          1611,
          1480,
          1418,
          1399,
          1365,
          1342,
          1318,
          1272,
          1219,
          1219,
          1214,
          1202,
          1189,
          1173,
          1133,
          1128,
          1043,
          1039,
          1033,
          1012,
          995,
          984,
          978,
          970,
          964,
          936,
          874,
          834,
          825,
          806,
          769,
          765,
          765,
          738,
          678,
          654,
          648,
          642,
          614,
          604,
          600,
          598,
          493,
          490,
          448,
          437,
          417,
          410,
          401,
          397,
          397,
          391,
          385,
          384,
          359,
          359,
          355,
          354,
          348,
          322,
          314,
          308,
          302,
          299,
          297,
          288,
          279,
          256,
          255,
          251,
          240,
          216,
          209,
          196,
          188,
          181,
          179,
          168,
          166,
          166,
          157,
          152,
          139,
          135,
          124,
          77,
          68,
          68,
          64,
          56,
          56,
          54,
          38,
          38,
          33,
          24,
          24,
          19,
          17,
          17,
          13,
          8,
          6,
          0
         ],
         "xaxis": "x",
         "y": [
          20618,
          41309,
          24314,
          25742,
          7957,
          28799,
          29731,
          4280,
          12611,
          15469,
          16418,
          5894,
          21347,
          16696,
          28465,
          35677,
          38901,
          13706,
          10533,
          18976,
          13346,
          61833,
          2875,
          23595,
          11248,
          0,
          53925,
          14499,
          17502,
          0,
          17847,
          39109,
          21496,
          7939,
          8503,
          1698,
          17598,
          8851,
          0,
          18935,
          11813,
          8180,
          14134,
          10009,
          17532,
          715,
          12311,
          9019,
          9122,
          3275,
          23681,
          4872,
          6452,
          9661,
          16791,
          13666,
          8059,
          1890,
          16803,
          0,
          11393,
          4753,
          1015,
          8958,
          6119,
          6908,
          31029,
          6480,
          9453,
          6971,
          6489,
          25079,
          22130,
          10162,
          11053,
          12451,
          7865,
          1478,
          0,
          18492,
          3391,
          1669,
          5873,
          3511,
          13165,
          0,
          953,
          1063,
          0,
          5318,
          9931,
          4957,
          8495,
          0,
          0,
          4347,
          5191,
          9364,
          0,
          891,
          0,
          3030,
          6853,
          0,
          5125,
          1371,
          3991,
          488,
          5194,
          6882,
          4957,
          750,
          23681,
          430,
          0,
          1350,
          0,
          353,
          5623
         ],
         "yaxis": "y"
        },
        {
         "hovertemplate": "<b>OLS trendline</b><br>Mailing List Subscribers = 3.59302 * Wiley Papers + 7840.18<br>R<sup>2</sup>=0.183059<br><br>Wiley Papers=%{x}<br>Mailing List Subscribers=%{y} <b>(trend)</b><extra></extra>",
         "legendgroup": "",
         "marker": {
          "color": "#636efa",
          "symbol": "circle"
         },
         "mode": "lines",
         "name": "",
         "showlegend": false,
         "type": "scatter",
         "x": [
          0,
          6,
          8,
          13,
          17,
          17,
          19,
          24,
          24,
          33,
          38,
          38,
          54,
          56,
          56,
          64,
          68,
          68,
          77,
          124,
          135,
          139,
          152,
          157,
          166,
          166,
          168,
          179,
          181,
          188,
          196,
          209,
          216,
          240,
          251,
          255,
          256,
          279,
          288,
          297,
          299,
          302,
          308,
          314,
          322,
          348,
          354,
          355,
          359,
          359,
          384,
          385,
          391,
          397,
          397,
          401,
          410,
          417,
          437,
          448,
          490,
          493,
          598,
          600,
          604,
          614,
          642,
          648,
          654,
          678,
          738,
          765,
          765,
          769,
          806,
          825,
          834,
          874,
          936,
          964,
          970,
          978,
          984,
          995,
          1012,
          1033,
          1039,
          1043,
          1128,
          1133,
          1173,
          1189,
          1202,
          1214,
          1219,
          1219,
          1272,
          1318,
          1342,
          1365,
          1399,
          1418,
          1480,
          1611,
          1614,
          1641,
          1717,
          1939,
          1998,
          2010,
          2019,
          2068,
          2148,
          2866,
          3375,
          3612,
          5573,
          7253,
          10508
         ],
         "xaxis": "x",
         "y": [
          7840.1789745336055,
          7861.737070085236,
          7868.92310193578,
          7886.888181562139,
          7901.260245263226,
          7901.260245263226,
          7908.44627711377,
          7926.411356740129,
          7926.411356740129,
          7958.748500067575,
          7976.713579693935,
          7976.713579693935,
          8034.2018344982835,
          8041.387866348827,
          8041.387866348827,
          8070.131993751002,
          8084.504057452089,
          8084.504057452089,
          8116.841200779535,
          8285.71294926731,
          8325.2361244453,
          8339.608188146387,
          8386.317395174921,
          8404.28247480128,
          8436.619618128727,
          8436.619618128727,
          8443.80564997927,
          8483.32882515726,
          8490.514857007804,
          8515.665968484707,
          8544.41009588688,
          8591.119302915415,
          8616.270414392317,
          8702.502796598841,
          8742.025971776831,
          8756.398035477918,
          8759.991051403189,
          8842.63041768444,
          8874.967561011888,
          8907.304704339334,
          8914.490736189877,
          8925.269783965694,
          8946.827879517325,
          8968.385975068955,
          8997.130102471128,
          9090.548516528197,
          9112.106612079828,
          9115.699628005099,
          9130.071691706187,
          9130.071691706187,
          9219.897089837981,
          9223.490105763254,
          9245.048201314885,
          9266.606296866516,
          9266.606296866516,
          9280.978360567602,
          9313.31550389505,
          9338.466615371952,
          9410.326933877388,
          9449.850109055378,
          9600.756777916795,
          9611.53582569261,
          9988.80249784615,
          9995.988529696693,
          10010.360593397781,
          10046.290752650499,
          10146.89519855811,
          10168.45329410974,
          10190.011389661371,
          10276.243771867896,
          10491.824727384203,
          10588.836157366542,
          10588.836157366542,
          10603.20822106763,
          10736.149810302686,
          10804.417112882851,
          10836.754256210297,
          10980.47489322117,
          11203.241880588022,
          11303.846326495634,
          11325.404422047264,
          11354.148549449439,
          11375.70664500107,
          11415.22982017906,
          11476.31109090868,
          11551.764425339388,
          11573.322520891019,
          11587.694584592107,
          11893.100938240212,
          11911.06601786657,
          12054.786654877444,
          12112.274909681792,
          12158.984116710326,
          12202.100307813587,
          12220.065387439947,
          12220.065387439947,
          12410.495231479352,
          12575.773964041855,
          12662.006346248378,
          12744.64571252963,
          12866.808253988871,
          12935.075556569038,
          13157.842543935889,
          13628.527630146496,
          13639.306677922312,
          13736.318107904652,
          14009.387318225308,
          14807.036853635651,
          15019.024793226688,
          15062.14098432995,
          15094.478127657396,
          15270.535907995716,
          15557.977182017461,
          18137.762616362623,
          19966.607722325974,
          20818.152496615396,
          27864.05672607342,
          33900.32348053007,
          45595.59031728982
         ],
         "yaxis": "y"
        }
       ],
       "layout": {
        "legend": {
         "tracegroupgap": 0
        },
        "margin": {
         "t": 60
        },
        "template": {
         "data": {
          "bar": [
           {
            "error_x": {
             "color": "#2a3f5f"
            },
            "error_y": {
             "color": "#2a3f5f"
            },
            "marker": {
             "line": {
              "color": "#E5ECF6",
              "width": 0.5
             },
             "pattern": {
              "fillmode": "overlay",
              "size": 10,
              "solidity": 0.2
             }
            },
            "type": "bar"
           }
          ],
          "barpolar": [
           {
            "marker": {
             "line": {
              "color": "#E5ECF6",
              "width": 0.5
             },
             "pattern": {
              "fillmode": "overlay",
              "size": 10,
              "solidity": 0.2
             }
            },
            "type": "barpolar"
           }
          ],
          "carpet": [
           {
            "aaxis": {
             "endlinecolor": "#2a3f5f",
             "gridcolor": "white",
             "linecolor": "white",
             "minorgridcolor": "white",
             "startlinecolor": "#2a3f5f"
            },
            "baxis": {
             "endlinecolor": "#2a3f5f",
             "gridcolor": "white",
             "linecolor": "white",
             "minorgridcolor": "white",
             "startlinecolor": "#2a3f5f"
            },
            "type": "carpet"
           }
          ],
          "choropleth": [
           {
            "colorbar": {
             "outlinewidth": 0,
             "ticks": ""
            },
            "type": "choropleth"
           }
          ],
          "contour": [
           {
            "colorbar": {
             "outlinewidth": 0,
             "ticks": ""
            },
            "colorscale": [
             [
              0,
              "#0d0887"
             ],
             [
              0.1111111111111111,
              "#46039f"
             ],
             [
              0.2222222222222222,
              "#7201a8"
             ],
             [
              0.3333333333333333,
              "#9c179e"
             ],
             [
              0.4444444444444444,
              "#bd3786"
             ],
             [
              0.5555555555555556,
              "#d8576b"
             ],
             [
              0.6666666666666666,
              "#ed7953"
             ],
             [
              0.7777777777777778,
              "#fb9f3a"
             ],
             [
              0.8888888888888888,
              "#fdca26"
             ],
             [
              1,
              "#f0f921"
             ]
            ],
            "type": "contour"
           }
          ],
          "contourcarpet": [
           {
            "colorbar": {
             "outlinewidth": 0,
             "ticks": ""
            },
            "type": "contourcarpet"
           }
          ],
          "heatmap": [
           {
            "colorbar": {
             "outlinewidth": 0,
             "ticks": ""
            },
            "colorscale": [
             [
              0,
              "#0d0887"
             ],
             [
              0.1111111111111111,
              "#46039f"
             ],
             [
              0.2222222222222222,
              "#7201a8"
             ],
             [
              0.3333333333333333,
              "#9c179e"
             ],
             [
              0.4444444444444444,
              "#bd3786"
             ],
             [
              0.5555555555555556,
              "#d8576b"
             ],
             [
              0.6666666666666666,
              "#ed7953"
             ],
             [
              0.7777777777777778,
              "#fb9f3a"
             ],
             [
              0.8888888888888888,
              "#fdca26"
             ],
             [
              1,
              "#f0f921"
             ]
            ],
            "type": "heatmap"
           }
          ],
          "heatmapgl": [
           {
            "colorbar": {
             "outlinewidth": 0,
             "ticks": ""
            },
            "colorscale": [
             [
              0,
              "#0d0887"
             ],
             [
              0.1111111111111111,
              "#46039f"
             ],
             [
              0.2222222222222222,
              "#7201a8"
             ],
             [
              0.3333333333333333,
              "#9c179e"
             ],
             [
              0.4444444444444444,
              "#bd3786"
             ],
             [
              0.5555555555555556,
              "#d8576b"
             ],
             [
              0.6666666666666666,
              "#ed7953"
             ],
             [
              0.7777777777777778,
              "#fb9f3a"
             ],
             [
              0.8888888888888888,
              "#fdca26"
             ],
             [
              1,
              "#f0f921"
             ]
            ],
            "type": "heatmapgl"
           }
          ],
          "histogram": [
           {
            "marker": {
             "pattern": {
              "fillmode": "overlay",
              "size": 10,
              "solidity": 0.2
             }
            },
            "type": "histogram"
           }
          ],
          "histogram2d": [
           {
            "colorbar": {
             "outlinewidth": 0,
             "ticks": ""
            },
            "colorscale": [
             [
              0,
              "#0d0887"
             ],
             [
              0.1111111111111111,
              "#46039f"
             ],
             [
              0.2222222222222222,
              "#7201a8"
             ],
             [
              0.3333333333333333,
              "#9c179e"
             ],
             [
              0.4444444444444444,
              "#bd3786"
             ],
             [
              0.5555555555555556,
              "#d8576b"
             ],
             [
              0.6666666666666666,
              "#ed7953"
             ],
             [
              0.7777777777777778,
              "#fb9f3a"
             ],
             [
              0.8888888888888888,
              "#fdca26"
             ],
             [
              1,
              "#f0f921"
             ]
            ],
            "type": "histogram2d"
           }
          ],
          "histogram2dcontour": [
           {
            "colorbar": {
             "outlinewidth": 0,
             "ticks": ""
            },
            "colorscale": [
             [
              0,
              "#0d0887"
             ],
             [
              0.1111111111111111,
              "#46039f"
             ],
             [
              0.2222222222222222,
              "#7201a8"
             ],
             [
              0.3333333333333333,
              "#9c179e"
             ],
             [
              0.4444444444444444,
              "#bd3786"
             ],
             [
              0.5555555555555556,
              "#d8576b"
             ],
             [
              0.6666666666666666,
              "#ed7953"
             ],
             [
              0.7777777777777778,
              "#fb9f3a"
             ],
             [
              0.8888888888888888,
              "#fdca26"
             ],
             [
              1,
              "#f0f921"
             ]
            ],
            "type": "histogram2dcontour"
           }
          ],
          "mesh3d": [
           {
            "colorbar": {
             "outlinewidth": 0,
             "ticks": ""
            },
            "type": "mesh3d"
           }
          ],
          "parcoords": [
           {
            "line": {
             "colorbar": {
              "outlinewidth": 0,
              "ticks": ""
             }
            },
            "type": "parcoords"
           }
          ],
          "pie": [
           {
            "automargin": true,
            "type": "pie"
           }
          ],
          "scatter": [
           {
            "fillpattern": {
             "fillmode": "overlay",
             "size": 10,
             "solidity": 0.2
            },
            "type": "scatter"
           }
          ],
          "scatter3d": [
           {
            "line": {
             "colorbar": {
              "outlinewidth": 0,
              "ticks": ""
             }
            },
            "marker": {
             "colorbar": {
              "outlinewidth": 0,
              "ticks": ""
             }
            },
            "type": "scatter3d"
           }
          ],
          "scattercarpet": [
           {
            "marker": {
             "colorbar": {
              "outlinewidth": 0,
              "ticks": ""
             }
            },
            "type": "scattercarpet"
           }
          ],
          "scattergeo": [
           {
            "marker": {
             "colorbar": {
              "outlinewidth": 0,
              "ticks": ""
             }
            },
            "type": "scattergeo"
           }
          ],
          "scattergl": [
           {
            "marker": {
             "colorbar": {
              "outlinewidth": 0,
              "ticks": ""
             }
            },
            "type": "scattergl"
           }
          ],
          "scattermapbox": [
           {
            "marker": {
             "colorbar": {
              "outlinewidth": 0,
              "ticks": ""
             }
            },
            "type": "scattermapbox"
           }
          ],
          "scatterpolar": [
           {
            "marker": {
             "colorbar": {
              "outlinewidth": 0,
              "ticks": ""
             }
            },
            "type": "scatterpolar"
           }
          ],
          "scatterpolargl": [
           {
            "marker": {
             "colorbar": {
              "outlinewidth": 0,
              "ticks": ""
             }
            },
            "type": "scatterpolargl"
           }
          ],
          "scatterternary": [
           {
            "marker": {
             "colorbar": {
              "outlinewidth": 0,
              "ticks": ""
             }
            },
            "type": "scatterternary"
           }
          ],
          "surface": [
           {
            "colorbar": {
             "outlinewidth": 0,
             "ticks": ""
            },
            "colorscale": [
             [
              0,
              "#0d0887"
             ],
             [
              0.1111111111111111,
              "#46039f"
             ],
             [
              0.2222222222222222,
              "#7201a8"
             ],
             [
              0.3333333333333333,
              "#9c179e"
             ],
             [
              0.4444444444444444,
              "#bd3786"
             ],
             [
              0.5555555555555556,
              "#d8576b"
             ],
             [
              0.6666666666666666,
              "#ed7953"
             ],
             [
              0.7777777777777778,
              "#fb9f3a"
             ],
             [
              0.8888888888888888,
              "#fdca26"
             ],
             [
              1,
              "#f0f921"
             ]
            ],
            "type": "surface"
           }
          ],
          "table": [
           {
            "cells": {
             "fill": {
              "color": "#EBF0F8"
             },
             "line": {
              "color": "white"
             }
            },
            "header": {
             "fill": {
              "color": "#C8D4E3"
             },
             "line": {
              "color": "white"
             }
            },
            "type": "table"
           }
          ]
         },
         "layout": {
          "annotationdefaults": {
           "arrowcolor": "#2a3f5f",
           "arrowhead": 0,
           "arrowwidth": 1
          },
          "autotypenumbers": "strict",
          "coloraxis": {
           "colorbar": {
            "outlinewidth": 0,
            "ticks": ""
           }
          },
          "colorscale": {
           "diverging": [
            [
             0,
             "#8e0152"
            ],
            [
             0.1,
             "#c51b7d"
            ],
            [
             0.2,
             "#de77ae"
            ],
            [
             0.3,
             "#f1b6da"
            ],
            [
             0.4,
             "#fde0ef"
            ],
            [
             0.5,
             "#f7f7f7"
            ],
            [
             0.6,
             "#e6f5d0"
            ],
            [
             0.7,
             "#b8e186"
            ],
            [
             0.8,
             "#7fbc41"
            ],
            [
             0.9,
             "#4d9221"
            ],
            [
             1,
             "#276419"
            ]
           ],
           "sequential": [
            [
             0,
             "#0d0887"
            ],
            [
             0.1111111111111111,
             "#46039f"
            ],
            [
             0.2222222222222222,
             "#7201a8"
            ],
            [
             0.3333333333333333,
             "#9c179e"
            ],
            [
             0.4444444444444444,
             "#bd3786"
            ],
            [
             0.5555555555555556,
             "#d8576b"
            ],
            [
             0.6666666666666666,
             "#ed7953"
            ],
            [
             0.7777777777777778,
             "#fb9f3a"
            ],
            [
             0.8888888888888888,
             "#fdca26"
            ],
            [
             1,
             "#f0f921"
            ]
           ],
           "sequentialminus": [
            [
             0,
             "#0d0887"
            ],
            [
             0.1111111111111111,
             "#46039f"
            ],
            [
             0.2222222222222222,
             "#7201a8"
            ],
            [
             0.3333333333333333,
             "#9c179e"
            ],
            [
             0.4444444444444444,
             "#bd3786"
            ],
            [
             0.5555555555555556,
             "#d8576b"
            ],
            [
             0.6666666666666666,
             "#ed7953"
            ],
            [
             0.7777777777777778,
             "#fb9f3a"
            ],
            [
             0.8888888888888888,
             "#fdca26"
            ],
            [
             1,
             "#f0f921"
            ]
           ]
          },
          "colorway": [
           "#636efa",
           "#EF553B",
           "#00cc96",
           "#ab63fa",
           "#FFA15A",
           "#19d3f3",
           "#FF6692",
           "#B6E880",
           "#FF97FF",
           "#FECB52"
          ],
          "font": {
           "color": "#2a3f5f"
          },
          "geo": {
           "bgcolor": "white",
           "lakecolor": "white",
           "landcolor": "#E5ECF6",
           "showlakes": true,
           "showland": true,
           "subunitcolor": "white"
          },
          "hoverlabel": {
           "align": "left"
          },
          "hovermode": "closest",
          "mapbox": {
           "style": "light"
          },
          "paper_bgcolor": "white",
          "plot_bgcolor": "#E5ECF6",
          "polar": {
           "angularaxis": {
            "gridcolor": "white",
            "linecolor": "white",
            "ticks": ""
           },
           "bgcolor": "#E5ECF6",
           "radialaxis": {
            "gridcolor": "white",
            "linecolor": "white",
            "ticks": ""
           }
          },
          "scene": {
           "xaxis": {
            "backgroundcolor": "#E5ECF6",
            "gridcolor": "white",
            "gridwidth": 2,
            "linecolor": "white",
            "showbackground": true,
            "ticks": "",
            "zerolinecolor": "white"
           },
           "yaxis": {
            "backgroundcolor": "#E5ECF6",
            "gridcolor": "white",
            "gridwidth": 2,
            "linecolor": "white",
            "showbackground": true,
            "ticks": "",
            "zerolinecolor": "white"
           },
           "zaxis": {
            "backgroundcolor": "#E5ECF6",
            "gridcolor": "white",
            "gridwidth": 2,
            "linecolor": "white",
            "showbackground": true,
            "ticks": "",
            "zerolinecolor": "white"
           }
          },
          "shapedefaults": {
           "line": {
            "color": "#2a3f5f"
           }
          },
          "ternary": {
           "aaxis": {
            "gridcolor": "white",
            "linecolor": "white",
            "ticks": ""
           },
           "baxis": {
            "gridcolor": "white",
            "linecolor": "white",
            "ticks": ""
           },
           "bgcolor": "#E5ECF6",
           "caxis": {
            "gridcolor": "white",
            "linecolor": "white",
            "ticks": ""
           }
          },
          "title": {
           "x": 0.05
          },
          "xaxis": {
           "automargin": true,
           "gridcolor": "white",
           "linecolor": "white",
           "ticks": "",
           "title": {
            "standoff": 15
           },
           "zerolinecolor": "white",
           "zerolinewidth": 2
          },
          "yaxis": {
           "automargin": true,
           "gridcolor": "white",
           "linecolor": "white",
           "ticks": "",
           "title": {
            "standoff": 15
           },
           "zerolinecolor": "white",
           "zerolinewidth": 2
          }
         }
        },
        "xaxis": {
         "anchor": "y",
         "domain": [
          0,
          1
         ],
         "title": {
          "text": "Wiley Papers"
         }
        },
        "yaxis": {
         "anchor": "x",
         "domain": [
          0,
          1
         ],
         "title": {
          "text": "Mailing List Subscribers"
         }
        }
       }
      },
      "text/html": [
       "<div>                            <div id=\"d821f66a-1778-4423-b1c9-87647983fb8b\" class=\"plotly-graph-div\" style=\"height:525px; width:100%;\"></div>            <script type=\"text/javascript\">                require([\"plotly\"], function(Plotly) {                    window.PLOTLYENV=window.PLOTLYENV || {};                                    if (document.getElementById(\"d821f66a-1778-4423-b1c9-87647983fb8b\")) {                    Plotly.newPlot(                        \"d821f66a-1778-4423-b1c9-87647983fb8b\",                        [{\"customdata\":[[\"Materials Science\"],[\"General & Introductory Chemistry\"],[\"Earth Sciences\"],[\"Electrical & Electronics Engineering\"],[\"Ecology\"],[\"Food Science & Technology\"],[\"Cell & Molecular Biology\"],[\"Nanotechnology\"],[\"Plant Science\"],[\"Neurology\"],[\"Dermatology\"],[\"Physics\"],[\"Cardiovascular Disease\"],[\"Oncology & Radiotherapy\"],[\"Dentistry\"],[\"Economics\"],[\"Nursing\"],[\"Analytical Chemistry\"],[\"Mathematics\"],[\"Veterinary Medicine\"],[\"Pharmacology & Pharmaceutical Medicine\"],[\"Business & Management\"],[\"General & Internal Medicine\"],[\"Agriculture\"],[\"Hematology\"],[\"General & Introductory Medical Science\"],[\"Education\"],[\"Organic Chemistry\"],[\"Pharmaceutical & Medicinal Chemistry\"],[\"Civil Engineering & Construction\"],[\"Surgery & Surgical Specialties\"],[\"General Life Sciences\"],[\"Chemical Engineering\"],[\"Physical Chemistry\"],[\"Endocrinology\"],[\"Development Studies\"],[\"Neuroscience\"],[\"Political Science\"],[\"Basic Medical Sciences\"],[\"Obstetrics & Gynecology\"],[\"Gastroenterology & Hepatology\"],[\"Zoology & Animal Science\"],[\"Mechanical Engineering\"],[\"Genetics\"],[\"Environmental Studies\"],[\"Health & Social Care\"],[\"Anatomy & Physiology\"],[\"Radiology & Imaging\"],[\"Energy\"],[\"Biochemistry\"],[\"Computer Science\"],[\"Otolaryngology (Ear, Nose & Throat)\"],[\"Urology\"],[\"Aquaculture, Fisheries & Fish Science\"],[\"Statistics\"],[\"Clinical Psychology\"],[\"Developmental Psychology\"],[\"Catalysis\"],[\"Microbiology & Virology\"],[\"Mental Health & Addiction\"],[\"Psychiatry\"],[\"Geriatric Medicine\"],[\"Respiratory Medicine\"],[\"Pathology\"],[\"Rheumatology\"],[\"Philosophy\"],[\"General Psychology\"],[\"Anthropology\"],[\"Allergy & Clinical Immunology\"],[\"Geography\"],[\"Emergency Medicine\"],[\"Finance & Investments\"],[\"Evolution\"],[\"Anaesthesia & Pain Management\"],[\"Language & Linguistics\"],[\"Pediatrics\"],[\"Social Psychology\"],[\"Cognitive Psychology\"],[\"Family & Child Studies\"],[\"Sociology\"],[\"Transplantation\"],[\"Sports Medicine & Orthopedics\"],[\"Inorganic Chemistry\"],[\"Ophthalmology & Optometry\"],[\"Nutrition & Dietetics\"],[\"Accounting\"],[\"Social Policy & Welfare\"],[\"Psychotherapy & Counseling\"],[\"Evidence Based Medicine\"],[\"Religion & Theology\"],[\"Law\"],[\"Industrial Chemistry\"],[\"History\"],[\"Educational & School Psychology\"],[\"Intellectual Disability\"],[\"Nephrology\"],[\"Computational Chemistry & Molecular Modelling\"],[\"Biomedical Engineering\"],[\"Applied Psychology\"],[\"Cultural Studies\"],[\"Rehabilitation\"],[\"Archaeology\"],[\"Architecture\"],[\"Information Science & Technology\"],[\"Literature\"],[\"Personality & Individual Differences\"],[\"Astronomy\"],[\"Museum & Heritage Studies\"],[\"Industrial Engineering\"],[\"Environmental Chemistry\"],[\"Criminology\"],[\"Urban Studies\"],[\"General Computing\"],[\"Design & Graphic Design\"],[\"Psychological Methods, Research & Statistics\"],[\"Classical Studies\"],[\"Art & Photography\"],[\"Performing Arts & Music\"],[\"Communication & Media Studies\"]],\"hovertemplate\":\"Wiley Papers=%{x}<br>Mailing List Subscribers=%{y}<br>WOL L2 Subject=%{customdata[0]}<extra></extra>\",\"legendgroup\":\"\",\"marker\":{\"color\":\"#636efa\",\"symbol\":\"circle\"},\"mode\":\"markers\",\"name\":\"\",\"orientation\":\"v\",\"showlegend\":false,\"x\":[10508,7253,5573,3612,3375,2866,2148,2068,2019,2010,1998,1939,1717,1641,1614,1611,1480,1418,1399,1365,1342,1318,1272,1219,1219,1214,1202,1189,1173,1133,1128,1043,1039,1033,1012,995,984,978,970,964,936,874,834,825,806,769,765,765,738,678,654,648,642,614,604,600,598,493,490,448,437,417,410,401,397,397,391,385,384,359,359,355,354,348,322,314,308,302,299,297,288,279,256,255,251,240,216,209,196,188,181,179,168,166,166,157,152,139,135,124,77,68,68,64,56,56,54,38,38,33,24,24,19,17,17,13,8,6,0],\"xaxis\":\"x\",\"y\":[20618,41309,24314,25742,7957,28799,29731,4280,12611,15469,16418,5894,21347,16696,28465,35677,38901,13706,10533,18976,13346,61833,2875,23595,11248,0,53925,14499,17502,0,17847,39109,21496,7939,8503,1698,17598,8851,0,18935,11813,8180,14134,10009,17532,715,12311,9019,9122,3275,23681,4872,6452,9661,16791,13666,8059,1890,16803,0,11393,4753,1015,8958,6119,6908,31029,6480,9453,6971,6489,25079,22130,10162,11053,12451,7865,1478,0,18492,3391,1669,5873,3511,13165,0,953,1063,0,5318,9931,4957,8495,0,0,4347,5191,9364,0,891,0,3030,6853,0,5125,1371,3991,488,5194,6882,4957,750,23681,430,0,1350,0,353,5623],\"yaxis\":\"y\",\"type\":\"scatter\"},{\"hovertemplate\":\"<b>OLS trendline</b><br>Mailing List Subscribers = 3.59302 * Wiley Papers + 7840.18<br>R<sup>2</sup>=0.183059<br><br>Wiley Papers=%{x}<br>Mailing List Subscribers=%{y} <b>(trend)</b><extra></extra>\",\"legendgroup\":\"\",\"marker\":{\"color\":\"#636efa\",\"symbol\":\"circle\"},\"mode\":\"lines\",\"name\":\"\",\"showlegend\":false,\"x\":[0,6,8,13,17,17,19,24,24,33,38,38,54,56,56,64,68,68,77,124,135,139,152,157,166,166,168,179,181,188,196,209,216,240,251,255,256,279,288,297,299,302,308,314,322,348,354,355,359,359,384,385,391,397,397,401,410,417,437,448,490,493,598,600,604,614,642,648,654,678,738,765,765,769,806,825,834,874,936,964,970,978,984,995,1012,1033,1039,1043,1128,1133,1173,1189,1202,1214,1219,1219,1272,1318,1342,1365,1399,1418,1480,1611,1614,1641,1717,1939,1998,2010,2019,2068,2148,2866,3375,3612,5573,7253,10508],\"xaxis\":\"x\",\"y\":[7840.1789745336055,7861.737070085236,7868.92310193578,7886.888181562139,7901.260245263226,7901.260245263226,7908.44627711377,7926.411356740129,7926.411356740129,7958.748500067575,7976.713579693935,7976.713579693935,8034.2018344982835,8041.387866348827,8041.387866348827,8070.131993751002,8084.504057452089,8084.504057452089,8116.841200779535,8285.71294926731,8325.2361244453,8339.608188146387,8386.317395174921,8404.28247480128,8436.619618128727,8436.619618128727,8443.80564997927,8483.32882515726,8490.514857007804,8515.665968484707,8544.41009588688,8591.119302915415,8616.270414392317,8702.502796598841,8742.025971776831,8756.398035477918,8759.991051403189,8842.63041768444,8874.967561011888,8907.304704339334,8914.490736189877,8925.269783965694,8946.827879517325,8968.385975068955,8997.130102471128,9090.548516528197,9112.106612079828,9115.699628005099,9130.071691706187,9130.071691706187,9219.897089837981,9223.490105763254,9245.048201314885,9266.606296866516,9266.606296866516,9280.978360567602,9313.31550389505,9338.466615371952,9410.326933877388,9449.850109055378,9600.756777916795,9611.53582569261,9988.80249784615,9995.988529696693,10010.360593397781,10046.290752650499,10146.89519855811,10168.45329410974,10190.011389661371,10276.243771867896,10491.824727384203,10588.836157366542,10588.836157366542,10603.20822106763,10736.149810302686,10804.417112882851,10836.754256210297,10980.47489322117,11203.241880588022,11303.846326495634,11325.404422047264,11354.148549449439,11375.70664500107,11415.22982017906,11476.31109090868,11551.764425339388,11573.322520891019,11587.694584592107,11893.100938240212,11911.06601786657,12054.786654877444,12112.274909681792,12158.984116710326,12202.100307813587,12220.065387439947,12220.065387439947,12410.495231479352,12575.773964041855,12662.006346248378,12744.64571252963,12866.808253988871,12935.075556569038,13157.842543935889,13628.527630146496,13639.306677922312,13736.318107904652,14009.387318225308,14807.036853635651,15019.024793226688,15062.14098432995,15094.478127657396,15270.535907995716,15557.977182017461,18137.762616362623,19966.607722325974,20818.152496615396,27864.05672607342,33900.32348053007,45595.59031728982],\"yaxis\":\"y\",\"type\":\"scatter\"}],                        {\"template\":{\"data\":{\"histogram2dcontour\":[{\"type\":\"histogram2dcontour\",\"colorbar\":{\"outlinewidth\":0,\"ticks\":\"\"},\"colorscale\":[[0.0,\"#0d0887\"],[0.1111111111111111,\"#46039f\"],[0.2222222222222222,\"#7201a8\"],[0.3333333333333333,\"#9c179e\"],[0.4444444444444444,\"#bd3786\"],[0.5555555555555556,\"#d8576b\"],[0.6666666666666666,\"#ed7953\"],[0.7777777777777778,\"#fb9f3a\"],[0.8888888888888888,\"#fdca26\"],[1.0,\"#f0f921\"]]}],\"choropleth\":[{\"type\":\"choropleth\",\"colorbar\":{\"outlinewidth\":0,\"ticks\":\"\"}}],\"histogram2d\":[{\"type\":\"histogram2d\",\"colorbar\":{\"outlinewidth\":0,\"ticks\":\"\"},\"colorscale\":[[0.0,\"#0d0887\"],[0.1111111111111111,\"#46039f\"],[0.2222222222222222,\"#7201a8\"],[0.3333333333333333,\"#9c179e\"],[0.4444444444444444,\"#bd3786\"],[0.5555555555555556,\"#d8576b\"],[0.6666666666666666,\"#ed7953\"],[0.7777777777777778,\"#fb9f3a\"],[0.8888888888888888,\"#fdca26\"],[1.0,\"#f0f921\"]]}],\"heatmap\":[{\"type\":\"heatmap\",\"colorbar\":{\"outlinewidth\":0,\"ticks\":\"\"},\"colorscale\":[[0.0,\"#0d0887\"],[0.1111111111111111,\"#46039f\"],[0.2222222222222222,\"#7201a8\"],[0.3333333333333333,\"#9c179e\"],[0.4444444444444444,\"#bd3786\"],[0.5555555555555556,\"#d8576b\"],[0.6666666666666666,\"#ed7953\"],[0.7777777777777778,\"#fb9f3a\"],[0.8888888888888888,\"#fdca26\"],[1.0,\"#f0f921\"]]}],\"heatmapgl\":[{\"type\":\"heatmapgl\",\"colorbar\":{\"outlinewidth\":0,\"ticks\":\"\"},\"colorscale\":[[0.0,\"#0d0887\"],[0.1111111111111111,\"#46039f\"],[0.2222222222222222,\"#7201a8\"],[0.3333333333333333,\"#9c179e\"],[0.4444444444444444,\"#bd3786\"],[0.5555555555555556,\"#d8576b\"],[0.6666666666666666,\"#ed7953\"],[0.7777777777777778,\"#fb9f3a\"],[0.8888888888888888,\"#fdca26\"],[1.0,\"#f0f921\"]]}],\"contourcarpet\":[{\"type\":\"contourcarpet\",\"colorbar\":{\"outlinewidth\":0,\"ticks\":\"\"}}],\"contour\":[{\"type\":\"contour\",\"colorbar\":{\"outlinewidth\":0,\"ticks\":\"\"},\"colorscale\":[[0.0,\"#0d0887\"],[0.1111111111111111,\"#46039f\"],[0.2222222222222222,\"#7201a8\"],[0.3333333333333333,\"#9c179e\"],[0.4444444444444444,\"#bd3786\"],[0.5555555555555556,\"#d8576b\"],[0.6666666666666666,\"#ed7953\"],[0.7777777777777778,\"#fb9f3a\"],[0.8888888888888888,\"#fdca26\"],[1.0,\"#f0f921\"]]}],\"surface\":[{\"type\":\"surface\",\"colorbar\":{\"outlinewidth\":0,\"ticks\":\"\"},\"colorscale\":[[0.0,\"#0d0887\"],[0.1111111111111111,\"#46039f\"],[0.2222222222222222,\"#7201a8\"],[0.3333333333333333,\"#9c179e\"],[0.4444444444444444,\"#bd3786\"],[0.5555555555555556,\"#d8576b\"],[0.6666666666666666,\"#ed7953\"],[0.7777777777777778,\"#fb9f3a\"],[0.8888888888888888,\"#fdca26\"],[1.0,\"#f0f921\"]]}],\"mesh3d\":[{\"type\":\"mesh3d\",\"colorbar\":{\"outlinewidth\":0,\"ticks\":\"\"}}],\"scatter\":[{\"fillpattern\":{\"fillmode\":\"overlay\",\"size\":10,\"solidity\":0.2},\"type\":\"scatter\"}],\"parcoords\":[{\"type\":\"parcoords\",\"line\":{\"colorbar\":{\"outlinewidth\":0,\"ticks\":\"\"}}}],\"scatterpolargl\":[{\"type\":\"scatterpolargl\",\"marker\":{\"colorbar\":{\"outlinewidth\":0,\"ticks\":\"\"}}}],\"bar\":[{\"error_x\":{\"color\":\"#2a3f5f\"},\"error_y\":{\"color\":\"#2a3f5f\"},\"marker\":{\"line\":{\"color\":\"#E5ECF6\",\"width\":0.5},\"pattern\":{\"fillmode\":\"overlay\",\"size\":10,\"solidity\":0.2}},\"type\":\"bar\"}],\"scattergeo\":[{\"type\":\"scattergeo\",\"marker\":{\"colorbar\":{\"outlinewidth\":0,\"ticks\":\"\"}}}],\"scatterpolar\":[{\"type\":\"scatterpolar\",\"marker\":{\"colorbar\":{\"outlinewidth\":0,\"ticks\":\"\"}}}],\"histogram\":[{\"marker\":{\"pattern\":{\"fillmode\":\"overlay\",\"size\":10,\"solidity\":0.2}},\"type\":\"histogram\"}],\"scattergl\":[{\"type\":\"scattergl\",\"marker\":{\"colorbar\":{\"outlinewidth\":0,\"ticks\":\"\"}}}],\"scatter3d\":[{\"type\":\"scatter3d\",\"line\":{\"colorbar\":{\"outlinewidth\":0,\"ticks\":\"\"}},\"marker\":{\"colorbar\":{\"outlinewidth\":0,\"ticks\":\"\"}}}],\"scattermapbox\":[{\"type\":\"scattermapbox\",\"marker\":{\"colorbar\":{\"outlinewidth\":0,\"ticks\":\"\"}}}],\"scatterternary\":[{\"type\":\"scatterternary\",\"marker\":{\"colorbar\":{\"outlinewidth\":0,\"ticks\":\"\"}}}],\"scattercarpet\":[{\"type\":\"scattercarpet\",\"marker\":{\"colorbar\":{\"outlinewidth\":0,\"ticks\":\"\"}}}],\"carpet\":[{\"aaxis\":{\"endlinecolor\":\"#2a3f5f\",\"gridcolor\":\"white\",\"linecolor\":\"white\",\"minorgridcolor\":\"white\",\"startlinecolor\":\"#2a3f5f\"},\"baxis\":{\"endlinecolor\":\"#2a3f5f\",\"gridcolor\":\"white\",\"linecolor\":\"white\",\"minorgridcolor\":\"white\",\"startlinecolor\":\"#2a3f5f\"},\"type\":\"carpet\"}],\"table\":[{\"cells\":{\"fill\":{\"color\":\"#EBF0F8\"},\"line\":{\"color\":\"white\"}},\"header\":{\"fill\":{\"color\":\"#C8D4E3\"},\"line\":{\"color\":\"white\"}},\"type\":\"table\"}],\"barpolar\":[{\"marker\":{\"line\":{\"color\":\"#E5ECF6\",\"width\":0.5},\"pattern\":{\"fillmode\":\"overlay\",\"size\":10,\"solidity\":0.2}},\"type\":\"barpolar\"}],\"pie\":[{\"automargin\":true,\"type\":\"pie\"}]},\"layout\":{\"autotypenumbers\":\"strict\",\"colorway\":[\"#636efa\",\"#EF553B\",\"#00cc96\",\"#ab63fa\",\"#FFA15A\",\"#19d3f3\",\"#FF6692\",\"#B6E880\",\"#FF97FF\",\"#FECB52\"],\"font\":{\"color\":\"#2a3f5f\"},\"hovermode\":\"closest\",\"hoverlabel\":{\"align\":\"left\"},\"paper_bgcolor\":\"white\",\"plot_bgcolor\":\"#E5ECF6\",\"polar\":{\"bgcolor\":\"#E5ECF6\",\"angularaxis\":{\"gridcolor\":\"white\",\"linecolor\":\"white\",\"ticks\":\"\"},\"radialaxis\":{\"gridcolor\":\"white\",\"linecolor\":\"white\",\"ticks\":\"\"}},\"ternary\":{\"bgcolor\":\"#E5ECF6\",\"aaxis\":{\"gridcolor\":\"white\",\"linecolor\":\"white\",\"ticks\":\"\"},\"baxis\":{\"gridcolor\":\"white\",\"linecolor\":\"white\",\"ticks\":\"\"},\"caxis\":{\"gridcolor\":\"white\",\"linecolor\":\"white\",\"ticks\":\"\"}},\"coloraxis\":{\"colorbar\":{\"outlinewidth\":0,\"ticks\":\"\"}},\"colorscale\":{\"sequential\":[[0.0,\"#0d0887\"],[0.1111111111111111,\"#46039f\"],[0.2222222222222222,\"#7201a8\"],[0.3333333333333333,\"#9c179e\"],[0.4444444444444444,\"#bd3786\"],[0.5555555555555556,\"#d8576b\"],[0.6666666666666666,\"#ed7953\"],[0.7777777777777778,\"#fb9f3a\"],[0.8888888888888888,\"#fdca26\"],[1.0,\"#f0f921\"]],\"sequentialminus\":[[0.0,\"#0d0887\"],[0.1111111111111111,\"#46039f\"],[0.2222222222222222,\"#7201a8\"],[0.3333333333333333,\"#9c179e\"],[0.4444444444444444,\"#bd3786\"],[0.5555555555555556,\"#d8576b\"],[0.6666666666666666,\"#ed7953\"],[0.7777777777777778,\"#fb9f3a\"],[0.8888888888888888,\"#fdca26\"],[1.0,\"#f0f921\"]],\"diverging\":[[0,\"#8e0152\"],[0.1,\"#c51b7d\"],[0.2,\"#de77ae\"],[0.3,\"#f1b6da\"],[0.4,\"#fde0ef\"],[0.5,\"#f7f7f7\"],[0.6,\"#e6f5d0\"],[0.7,\"#b8e186\"],[0.8,\"#7fbc41\"],[0.9,\"#4d9221\"],[1,\"#276419\"]]},\"xaxis\":{\"gridcolor\":\"white\",\"linecolor\":\"white\",\"ticks\":\"\",\"title\":{\"standoff\":15},\"zerolinecolor\":\"white\",\"automargin\":true,\"zerolinewidth\":2},\"yaxis\":{\"gridcolor\":\"white\",\"linecolor\":\"white\",\"ticks\":\"\",\"title\":{\"standoff\":15},\"zerolinecolor\":\"white\",\"automargin\":true,\"zerolinewidth\":2},\"scene\":{\"xaxis\":{\"backgroundcolor\":\"#E5ECF6\",\"gridcolor\":\"white\",\"linecolor\":\"white\",\"showbackground\":true,\"ticks\":\"\",\"zerolinecolor\":\"white\",\"gridwidth\":2},\"yaxis\":{\"backgroundcolor\":\"#E5ECF6\",\"gridcolor\":\"white\",\"linecolor\":\"white\",\"showbackground\":true,\"ticks\":\"\",\"zerolinecolor\":\"white\",\"gridwidth\":2},\"zaxis\":{\"backgroundcolor\":\"#E5ECF6\",\"gridcolor\":\"white\",\"linecolor\":\"white\",\"showbackground\":true,\"ticks\":\"\",\"zerolinecolor\":\"white\",\"gridwidth\":2}},\"shapedefaults\":{\"line\":{\"color\":\"#2a3f5f\"}},\"annotationdefaults\":{\"arrowcolor\":\"#2a3f5f\",\"arrowhead\":0,\"arrowwidth\":1},\"geo\":{\"bgcolor\":\"white\",\"landcolor\":\"#E5ECF6\",\"subunitcolor\":\"white\",\"showland\":true,\"showlakes\":true,\"lakecolor\":\"white\"},\"title\":{\"x\":0.05},\"mapbox\":{\"style\":\"light\"}}},\"xaxis\":{\"anchor\":\"y\",\"domain\":[0.0,1.0],\"title\":{\"text\":\"Wiley Papers\"}},\"yaxis\":{\"anchor\":\"x\",\"domain\":[0.0,1.0],\"title\":{\"text\":\"Mailing List Subscribers\"}},\"legend\":{\"tracegroupgap\":0},\"margin\":{\"t\":60}},                        {\"responsive\": true}                    ).then(function(){\n",
       "                            \n",
       "var gd = document.getElementById('d821f66a-1778-4423-b1c9-87647983fb8b');\n",
       "var x = new MutationObserver(function (mutations, observer) {{\n",
       "        var display = window.getComputedStyle(gd).display;\n",
       "        if (!display || display === 'none') {{\n",
       "            console.log([gd, 'removed!']);\n",
       "            Plotly.purge(gd);\n",
       "            observer.disconnect();\n",
       "        }}\n",
       "}});\n",
       "\n",
       "// Listen for the removal of the full notebook cells\n",
       "var notebookContainer = gd.closest('#notebook-container');\n",
       "if (notebookContainer) {{\n",
       "    x.observe(notebookContainer, {childList: true});\n",
       "}}\n",
       "\n",
       "// Listen for the clearing of the current output cell\n",
       "var outputEl = gd.closest('.output');\n",
       "if (outputEl) {{\n",
       "    x.observe(outputEl, {childList: true});\n",
       "}}\n",
       "\n",
       "                        })                };                });            </script>        </div>"
      ]
     },
     "metadata": {},
     "output_type": "display_data"
    }
   ],
   "source": [
    "# Step 3: Add a trendline\n",
    "# Note: I installed statsmodels and dependencies via Anaconda for this \n",
    "\n",
    "px.scatter(data_frame = verticals, \n",
    "          x = 'Wiley Papers', \n",
    "          y = 'Mailing List Subscribers',\n",
    "          hover_data = ['WOL L2 Subject'],\n",
    "          trendline=\"ols\")"
   ]
  },
  {
   "cell_type": "markdown",
   "id": "6378259f",
   "metadata": {},
   "source": [
    "## Step 4: new visualizations - bubble charts in Plotly "
   ]
  },
  {
   "cell_type": "code",
   "execution_count": 17,
   "id": "00e138ba",
   "metadata": {},
   "outputs": [
    {
     "data": {
      "application/vnd.plotly.v1+json": {
       "config": {
        "plotlyServerURL": "https://plot.ly"
       },
       "data": [
        {
         "customdata": [
          [
           "Materials Science"
          ],
          [
           "General & Introductory Chemistry"
          ],
          [
           "Earth Sciences"
          ],
          [
           "Electrical & Electronics Engineering"
          ],
          [
           "Ecology"
          ],
          [
           "Food Science & Technology"
          ],
          [
           "Cell & Molecular Biology"
          ],
          [
           "Nanotechnology"
          ],
          [
           "Plant Science"
          ],
          [
           "Neurology"
          ],
          [
           "Dermatology"
          ],
          [
           "Physics"
          ],
          [
           "Cardiovascular Disease"
          ],
          [
           "Oncology & Radiotherapy"
          ],
          [
           "Dentistry"
          ],
          [
           "Economics"
          ],
          [
           "Nursing"
          ],
          [
           "Analytical Chemistry"
          ],
          [
           "Mathematics"
          ],
          [
           "Veterinary Medicine"
          ],
          [
           "Pharmacology & Pharmaceutical Medicine"
          ],
          [
           "Business & Management"
          ],
          [
           "General & Internal Medicine"
          ],
          [
           "Agriculture"
          ],
          [
           "Hematology"
          ],
          [
           "General & Introductory Medical Science"
          ],
          [
           "Education"
          ],
          [
           "Organic Chemistry"
          ],
          [
           "Pharmaceutical & Medicinal Chemistry"
          ],
          [
           "Civil Engineering & Construction"
          ],
          [
           "Surgery & Surgical Specialties"
          ],
          [
           "General Life Sciences"
          ],
          [
           "Chemical Engineering"
          ],
          [
           "Physical Chemistry"
          ],
          [
           "Endocrinology"
          ],
          [
           "Development Studies"
          ],
          [
           "Neuroscience"
          ],
          [
           "Political Science"
          ],
          [
           "Basic Medical Sciences"
          ],
          [
           "Obstetrics & Gynecology"
          ],
          [
           "Gastroenterology & Hepatology"
          ],
          [
           "Zoology & Animal Science"
          ],
          [
           "Mechanical Engineering"
          ],
          [
           "Genetics"
          ],
          [
           "Environmental Studies"
          ],
          [
           "Health & Social Care"
          ],
          [
           "Anatomy & Physiology"
          ],
          [
           "Radiology & Imaging"
          ],
          [
           "Energy"
          ],
          [
           "Biochemistry"
          ],
          [
           "Computer Science"
          ],
          [
           "Otolaryngology (Ear, Nose & Throat)"
          ],
          [
           "Urology"
          ],
          [
           "Aquaculture, Fisheries & Fish Science"
          ],
          [
           "Statistics"
          ],
          [
           "Clinical Psychology"
          ],
          [
           "Developmental Psychology"
          ],
          [
           "Catalysis"
          ],
          [
           "Microbiology & Virology"
          ],
          [
           "Mental Health & Addiction"
          ],
          [
           "Psychiatry"
          ],
          [
           "Geriatric Medicine"
          ],
          [
           "Respiratory Medicine"
          ],
          [
           "Pathology"
          ],
          [
           "Rheumatology"
          ],
          [
           "Philosophy"
          ],
          [
           "General Psychology"
          ],
          [
           "Anthropology"
          ],
          [
           "Allergy & Clinical Immunology"
          ],
          [
           "Geography"
          ],
          [
           "Emergency Medicine"
          ],
          [
           "Finance & Investments"
          ],
          [
           "Evolution"
          ],
          [
           "Anaesthesia & Pain Management"
          ],
          [
           "Language & Linguistics"
          ],
          [
           "Pediatrics"
          ],
          [
           "Social Psychology"
          ],
          [
           "Cognitive Psychology"
          ],
          [
           "Family & Child Studies"
          ],
          [
           "Sociology"
          ],
          [
           "Transplantation"
          ],
          [
           "Sports Medicine & Orthopedics"
          ],
          [
           "Inorganic Chemistry"
          ],
          [
           "Ophthalmology & Optometry"
          ],
          [
           "Nutrition & Dietetics"
          ],
          [
           "Accounting"
          ],
          [
           "Social Policy & Welfare"
          ],
          [
           "Psychotherapy & Counseling"
          ],
          [
           "Evidence Based Medicine"
          ],
          [
           "Religion & Theology"
          ],
          [
           "Law"
          ],
          [
           "Industrial Chemistry"
          ],
          [
           "History"
          ],
          [
           "Educational & School Psychology"
          ],
          [
           "Intellectual Disability"
          ],
          [
           "Nephrology"
          ],
          [
           "Computational Chemistry & Molecular Modelling"
          ],
          [
           "Biomedical Engineering"
          ],
          [
           "Applied Psychology"
          ],
          [
           "Cultural Studies"
          ],
          [
           "Rehabilitation"
          ],
          [
           "Archaeology"
          ],
          [
           "Architecture"
          ],
          [
           "Information Science & Technology"
          ],
          [
           "Literature"
          ],
          [
           "Personality & Individual Differences"
          ],
          [
           "Astronomy"
          ],
          [
           "Museum & Heritage Studies"
          ],
          [
           "Industrial Engineering"
          ],
          [
           "Environmental Chemistry"
          ],
          [
           "Criminology"
          ],
          [
           "Urban Studies"
          ],
          [
           "General Computing"
          ],
          [
           "Design & Graphic Design"
          ],
          [
           "Psychological Methods, Research & Statistics"
          ],
          [
           "Classical Studies"
          ],
          [
           "Art & Photography"
          ],
          [
           "Performing Arts & Music"
          ],
          [
           "Communication & Media Studies"
          ]
         ],
         "hovertemplate": "Wiley Papers=%{x}<br>Unique Visitors=%{y}<br>Mailing List Subscribers=%{marker.size}<br>WOL L2 Subject=%{customdata[0]}<extra></extra>",
         "legendgroup": "",
         "marker": {
          "color": "#636efa",
          "size": [
           20618,
           41309,
           24314,
           25742,
           7957,
           28799,
           29731,
           4280,
           12611,
           15469,
           16418,
           5894,
           21347,
           16696,
           28465,
           35677,
           38901,
           13706,
           10533,
           18976,
           13346,
           61833,
           2875,
           23595,
           11248,
           0,
           53925,
           14499,
           17502,
           0,
           17847,
           39109,
           21496,
           7939,
           8503,
           1698,
           17598,
           8851,
           0,
           18935,
           11813,
           8180,
           14134,
           10009,
           17532,
           715,
           12311,
           9019,
           9122,
           3275,
           23681,
           4872,
           6452,
           9661,
           16791,
           13666,
           8059,
           1890,
           16803,
           0,
           11393,
           4753,
           1015,
           8958,
           6119,
           6908,
           31029,
           6480,
           9453,
           6971,
           6489,
           25079,
           22130,
           10162,
           11053,
           12451,
           7865,
           1478,
           0,
           18492,
           3391,
           1669,
           5873,
           3511,
           13165,
           0,
           953,
           1063,
           0,
           5318,
           9931,
           4957,
           8495,
           0,
           0,
           4347,
           5191,
           9364,
           0,
           891,
           0,
           3030,
           6853,
           0,
           5125,
           1371,
           3991,
           488,
           5194,
           6882,
           4957,
           750,
           23681,
           430,
           0,
           1350,
           0,
           353,
           5623
          ],
          "sizemode": "area",
          "sizeref": 24.7332,
          "symbol": "circle"
         },
         "mode": "markers",
         "name": "",
         "orientation": "v",
         "showlegend": false,
         "type": "scatter",
         "x": [
          10508,
          7253,
          5573,
          3612,
          3375,
          2866,
          2148,
          2068,
          2019,
          2010,
          1998,
          1939,
          1717,
          1641,
          1614,
          1611,
          1480,
          1418,
          1399,
          1365,
          1342,
          1318,
          1272,
          1219,
          1219,
          1214,
          1202,
          1189,
          1173,
          1133,
          1128,
          1043,
          1039,
          1033,
          1012,
          995,
          984,
          978,
          970,
          964,
          936,
          874,
          834,
          825,
          806,
          769,
          765,
          765,
          738,
          678,
          654,
          648,
          642,
          614,
          604,
          600,
          598,
          493,
          490,
          448,
          437,
          417,
          410,
          401,
          397,
          397,
          391,
          385,
          384,
          359,
          359,
          355,
          354,
          348,
          322,
          314,
          308,
          302,
          299,
          297,
          288,
          279,
          256,
          255,
          251,
          240,
          216,
          209,
          196,
          188,
          181,
          179,
          168,
          166,
          166,
          157,
          152,
          139,
          135,
          124,
          77,
          68,
          68,
          64,
          56,
          56,
          54,
          38,
          38,
          33,
          24,
          24,
          19,
          17,
          17,
          13,
          8,
          6,
          0
         ],
         "xaxis": "x",
         "y": [
          14612560,
          8284404,
          9372019,
          3322269,
          8852712,
          7401176,
          8027824,
          2273448,
          4835726,
          7440547,
          7331718,
          2218636,
          3094044,
          6856644,
          4283285,
          4846454,
          8884178,
          2943694,
          1596375,
          3801544,
          6119091,
          10101613,
          4652013,
          2757509,
          3905745,
          2195080,
          5634260,
          1932707,
          1837152,
          1803500,
          2154816,
          6557916,
          2298617,
          1387926,
          4499469,
          3717320,
          3225236,
          4537976,
          2738561,
          7114697,
          3388090,
          1245283,
          899531,
          3079811,
          2620702,
          3900883,
          3496894,
          2347588,
          1628783,
          1640857,
          1436530,
          1163044,
          3645201,
          1458899,
          1930878,
          3629692,
          4091850,
          549384,
          3490050,
          1089951,
          2915823,
          1984736,
          970058,
          1395366,
          1730373,
          2090883,
          2743853,
          2242386,
          1912232,
          1953608,
          1139758,
          2003287,
          1712810,
          2639881,
          1875044,
          1716335,
          3244906,
          1718543,
          1738089,
          2668456,
          892566,
          1478391,
          794966,
          985487,
          1051132,
          1083920,
          781444,
          1873116,
          107044,
          908780,
          1411551,
          709470,
          886116,
          1168494,
          643326,
          547200,
          521144,
          308744,
          1494602,
          520149,
          468375,
          202301,
          268269,
          606750,
          316568,
          661600,
          80174,
          122894,
          153622,
          868593,
          471311,
          312114,
          602242,
          43498,
          71213,
          13147,
          149283,
          45921,
          444663
         ],
         "yaxis": "y"
        }
       ],
       "layout": {
        "legend": {
         "itemsizing": "constant",
         "tracegroupgap": 0
        },
        "margin": {
         "t": 60
        },
        "template": {
         "data": {
          "bar": [
           {
            "error_x": {
             "color": "#2a3f5f"
            },
            "error_y": {
             "color": "#2a3f5f"
            },
            "marker": {
             "line": {
              "color": "#E5ECF6",
              "width": 0.5
             },
             "pattern": {
              "fillmode": "overlay",
              "size": 10,
              "solidity": 0.2
             }
            },
            "type": "bar"
           }
          ],
          "barpolar": [
           {
            "marker": {
             "line": {
              "color": "#E5ECF6",
              "width": 0.5
             },
             "pattern": {
              "fillmode": "overlay",
              "size": 10,
              "solidity": 0.2
             }
            },
            "type": "barpolar"
           }
          ],
          "carpet": [
           {
            "aaxis": {
             "endlinecolor": "#2a3f5f",
             "gridcolor": "white",
             "linecolor": "white",
             "minorgridcolor": "white",
             "startlinecolor": "#2a3f5f"
            },
            "baxis": {
             "endlinecolor": "#2a3f5f",
             "gridcolor": "white",
             "linecolor": "white",
             "minorgridcolor": "white",
             "startlinecolor": "#2a3f5f"
            },
            "type": "carpet"
           }
          ],
          "choropleth": [
           {
            "colorbar": {
             "outlinewidth": 0,
             "ticks": ""
            },
            "type": "choropleth"
           }
          ],
          "contour": [
           {
            "colorbar": {
             "outlinewidth": 0,
             "ticks": ""
            },
            "colorscale": [
             [
              0,
              "#0d0887"
             ],
             [
              0.1111111111111111,
              "#46039f"
             ],
             [
              0.2222222222222222,
              "#7201a8"
             ],
             [
              0.3333333333333333,
              "#9c179e"
             ],
             [
              0.4444444444444444,
              "#bd3786"
             ],
             [
              0.5555555555555556,
              "#d8576b"
             ],
             [
              0.6666666666666666,
              "#ed7953"
             ],
             [
              0.7777777777777778,
              "#fb9f3a"
             ],
             [
              0.8888888888888888,
              "#fdca26"
             ],
             [
              1,
              "#f0f921"
             ]
            ],
            "type": "contour"
           }
          ],
          "contourcarpet": [
           {
            "colorbar": {
             "outlinewidth": 0,
             "ticks": ""
            },
            "type": "contourcarpet"
           }
          ],
          "heatmap": [
           {
            "colorbar": {
             "outlinewidth": 0,
             "ticks": ""
            },
            "colorscale": [
             [
              0,
              "#0d0887"
             ],
             [
              0.1111111111111111,
              "#46039f"
             ],
             [
              0.2222222222222222,
              "#7201a8"
             ],
             [
              0.3333333333333333,
              "#9c179e"
             ],
             [
              0.4444444444444444,
              "#bd3786"
             ],
             [
              0.5555555555555556,
              "#d8576b"
             ],
             [
              0.6666666666666666,
              "#ed7953"
             ],
             [
              0.7777777777777778,
              "#fb9f3a"
             ],
             [
              0.8888888888888888,
              "#fdca26"
             ],
             [
              1,
              "#f0f921"
             ]
            ],
            "type": "heatmap"
           }
          ],
          "heatmapgl": [
           {
            "colorbar": {
             "outlinewidth": 0,
             "ticks": ""
            },
            "colorscale": [
             [
              0,
              "#0d0887"
             ],
             [
              0.1111111111111111,
              "#46039f"
             ],
             [
              0.2222222222222222,
              "#7201a8"
             ],
             [
              0.3333333333333333,
              "#9c179e"
             ],
             [
              0.4444444444444444,
              "#bd3786"
             ],
             [
              0.5555555555555556,
              "#d8576b"
             ],
             [
              0.6666666666666666,
              "#ed7953"
             ],
             [
              0.7777777777777778,
              "#fb9f3a"
             ],
             [
              0.8888888888888888,
              "#fdca26"
             ],
             [
              1,
              "#f0f921"
             ]
            ],
            "type": "heatmapgl"
           }
          ],
          "histogram": [
           {
            "marker": {
             "pattern": {
              "fillmode": "overlay",
              "size": 10,
              "solidity": 0.2
             }
            },
            "type": "histogram"
           }
          ],
          "histogram2d": [
           {
            "colorbar": {
             "outlinewidth": 0,
             "ticks": ""
            },
            "colorscale": [
             [
              0,
              "#0d0887"
             ],
             [
              0.1111111111111111,
              "#46039f"
             ],
             [
              0.2222222222222222,
              "#7201a8"
             ],
             [
              0.3333333333333333,
              "#9c179e"
             ],
             [
              0.4444444444444444,
              "#bd3786"
             ],
             [
              0.5555555555555556,
              "#d8576b"
             ],
             [
              0.6666666666666666,
              "#ed7953"
             ],
             [
              0.7777777777777778,
              "#fb9f3a"
             ],
             [
              0.8888888888888888,
              "#fdca26"
             ],
             [
              1,
              "#f0f921"
             ]
            ],
            "type": "histogram2d"
           }
          ],
          "histogram2dcontour": [
           {
            "colorbar": {
             "outlinewidth": 0,
             "ticks": ""
            },
            "colorscale": [
             [
              0,
              "#0d0887"
             ],
             [
              0.1111111111111111,
              "#46039f"
             ],
             [
              0.2222222222222222,
              "#7201a8"
             ],
             [
              0.3333333333333333,
              "#9c179e"
             ],
             [
              0.4444444444444444,
              "#bd3786"
             ],
             [
              0.5555555555555556,
              "#d8576b"
             ],
             [
              0.6666666666666666,
              "#ed7953"
             ],
             [
              0.7777777777777778,
              "#fb9f3a"
             ],
             [
              0.8888888888888888,
              "#fdca26"
             ],
             [
              1,
              "#f0f921"
             ]
            ],
            "type": "histogram2dcontour"
           }
          ],
          "mesh3d": [
           {
            "colorbar": {
             "outlinewidth": 0,
             "ticks": ""
            },
            "type": "mesh3d"
           }
          ],
          "parcoords": [
           {
            "line": {
             "colorbar": {
              "outlinewidth": 0,
              "ticks": ""
             }
            },
            "type": "parcoords"
           }
          ],
          "pie": [
           {
            "automargin": true,
            "type": "pie"
           }
          ],
          "scatter": [
           {
            "fillpattern": {
             "fillmode": "overlay",
             "size": 10,
             "solidity": 0.2
            },
            "type": "scatter"
           }
          ],
          "scatter3d": [
           {
            "line": {
             "colorbar": {
              "outlinewidth": 0,
              "ticks": ""
             }
            },
            "marker": {
             "colorbar": {
              "outlinewidth": 0,
              "ticks": ""
             }
            },
            "type": "scatter3d"
           }
          ],
          "scattercarpet": [
           {
            "marker": {
             "colorbar": {
              "outlinewidth": 0,
              "ticks": ""
             }
            },
            "type": "scattercarpet"
           }
          ],
          "scattergeo": [
           {
            "marker": {
             "colorbar": {
              "outlinewidth": 0,
              "ticks": ""
             }
            },
            "type": "scattergeo"
           }
          ],
          "scattergl": [
           {
            "marker": {
             "colorbar": {
              "outlinewidth": 0,
              "ticks": ""
             }
            },
            "type": "scattergl"
           }
          ],
          "scattermapbox": [
           {
            "marker": {
             "colorbar": {
              "outlinewidth": 0,
              "ticks": ""
             }
            },
            "type": "scattermapbox"
           }
          ],
          "scatterpolar": [
           {
            "marker": {
             "colorbar": {
              "outlinewidth": 0,
              "ticks": ""
             }
            },
            "type": "scatterpolar"
           }
          ],
          "scatterpolargl": [
           {
            "marker": {
             "colorbar": {
              "outlinewidth": 0,
              "ticks": ""
             }
            },
            "type": "scatterpolargl"
           }
          ],
          "scatterternary": [
           {
            "marker": {
             "colorbar": {
              "outlinewidth": 0,
              "ticks": ""
             }
            },
            "type": "scatterternary"
           }
          ],
          "surface": [
           {
            "colorbar": {
             "outlinewidth": 0,
             "ticks": ""
            },
            "colorscale": [
             [
              0,
              "#0d0887"
             ],
             [
              0.1111111111111111,
              "#46039f"
             ],
             [
              0.2222222222222222,
              "#7201a8"
             ],
             [
              0.3333333333333333,
              "#9c179e"
             ],
             [
              0.4444444444444444,
              "#bd3786"
             ],
             [
              0.5555555555555556,
              "#d8576b"
             ],
             [
              0.6666666666666666,
              "#ed7953"
             ],
             [
              0.7777777777777778,
              "#fb9f3a"
             ],
             [
              0.8888888888888888,
              "#fdca26"
             ],
             [
              1,
              "#f0f921"
             ]
            ],
            "type": "surface"
           }
          ],
          "table": [
           {
            "cells": {
             "fill": {
              "color": "#EBF0F8"
             },
             "line": {
              "color": "white"
             }
            },
            "header": {
             "fill": {
              "color": "#C8D4E3"
             },
             "line": {
              "color": "white"
             }
            },
            "type": "table"
           }
          ]
         },
         "layout": {
          "annotationdefaults": {
           "arrowcolor": "#2a3f5f",
           "arrowhead": 0,
           "arrowwidth": 1
          },
          "autotypenumbers": "strict",
          "coloraxis": {
           "colorbar": {
            "outlinewidth": 0,
            "ticks": ""
           }
          },
          "colorscale": {
           "diverging": [
            [
             0,
             "#8e0152"
            ],
            [
             0.1,
             "#c51b7d"
            ],
            [
             0.2,
             "#de77ae"
            ],
            [
             0.3,
             "#f1b6da"
            ],
            [
             0.4,
             "#fde0ef"
            ],
            [
             0.5,
             "#f7f7f7"
            ],
            [
             0.6,
             "#e6f5d0"
            ],
            [
             0.7,
             "#b8e186"
            ],
            [
             0.8,
             "#7fbc41"
            ],
            [
             0.9,
             "#4d9221"
            ],
            [
             1,
             "#276419"
            ]
           ],
           "sequential": [
            [
             0,
             "#0d0887"
            ],
            [
             0.1111111111111111,
             "#46039f"
            ],
            [
             0.2222222222222222,
             "#7201a8"
            ],
            [
             0.3333333333333333,
             "#9c179e"
            ],
            [
             0.4444444444444444,
             "#bd3786"
            ],
            [
             0.5555555555555556,
             "#d8576b"
            ],
            [
             0.6666666666666666,
             "#ed7953"
            ],
            [
             0.7777777777777778,
             "#fb9f3a"
            ],
            [
             0.8888888888888888,
             "#fdca26"
            ],
            [
             1,
             "#f0f921"
            ]
           ],
           "sequentialminus": [
            [
             0,
             "#0d0887"
            ],
            [
             0.1111111111111111,
             "#46039f"
            ],
            [
             0.2222222222222222,
             "#7201a8"
            ],
            [
             0.3333333333333333,
             "#9c179e"
            ],
            [
             0.4444444444444444,
             "#bd3786"
            ],
            [
             0.5555555555555556,
             "#d8576b"
            ],
            [
             0.6666666666666666,
             "#ed7953"
            ],
            [
             0.7777777777777778,
             "#fb9f3a"
            ],
            [
             0.8888888888888888,
             "#fdca26"
            ],
            [
             1,
             "#f0f921"
            ]
           ]
          },
          "colorway": [
           "#636efa",
           "#EF553B",
           "#00cc96",
           "#ab63fa",
           "#FFA15A",
           "#19d3f3",
           "#FF6692",
           "#B6E880",
           "#FF97FF",
           "#FECB52"
          ],
          "font": {
           "color": "#2a3f5f"
          },
          "geo": {
           "bgcolor": "white",
           "lakecolor": "white",
           "landcolor": "#E5ECF6",
           "showlakes": true,
           "showland": true,
           "subunitcolor": "white"
          },
          "hoverlabel": {
           "align": "left"
          },
          "hovermode": "closest",
          "mapbox": {
           "style": "light"
          },
          "paper_bgcolor": "white",
          "plot_bgcolor": "#E5ECF6",
          "polar": {
           "angularaxis": {
            "gridcolor": "white",
            "linecolor": "white",
            "ticks": ""
           },
           "bgcolor": "#E5ECF6",
           "radialaxis": {
            "gridcolor": "white",
            "linecolor": "white",
            "ticks": ""
           }
          },
          "scene": {
           "xaxis": {
            "backgroundcolor": "#E5ECF6",
            "gridcolor": "white",
            "gridwidth": 2,
            "linecolor": "white",
            "showbackground": true,
            "ticks": "",
            "zerolinecolor": "white"
           },
           "yaxis": {
            "backgroundcolor": "#E5ECF6",
            "gridcolor": "white",
            "gridwidth": 2,
            "linecolor": "white",
            "showbackground": true,
            "ticks": "",
            "zerolinecolor": "white"
           },
           "zaxis": {
            "backgroundcolor": "#E5ECF6",
            "gridcolor": "white",
            "gridwidth": 2,
            "linecolor": "white",
            "showbackground": true,
            "ticks": "",
            "zerolinecolor": "white"
           }
          },
          "shapedefaults": {
           "line": {
            "color": "#2a3f5f"
           }
          },
          "ternary": {
           "aaxis": {
            "gridcolor": "white",
            "linecolor": "white",
            "ticks": ""
           },
           "baxis": {
            "gridcolor": "white",
            "linecolor": "white",
            "ticks": ""
           },
           "bgcolor": "#E5ECF6",
           "caxis": {
            "gridcolor": "white",
            "linecolor": "white",
            "ticks": ""
           }
          },
          "title": {
           "x": 0.05
          },
          "xaxis": {
           "automargin": true,
           "gridcolor": "white",
           "linecolor": "white",
           "ticks": "",
           "title": {
            "standoff": 15
           },
           "zerolinecolor": "white",
           "zerolinewidth": 2
          },
          "yaxis": {
           "automargin": true,
           "gridcolor": "white",
           "linecolor": "white",
           "ticks": "",
           "title": {
            "standoff": 15
           },
           "zerolinecolor": "white",
           "zerolinewidth": 2
          }
         }
        },
        "xaxis": {
         "anchor": "y",
         "domain": [
          0,
          1
         ],
         "title": {
          "text": "Wiley Papers"
         }
        },
        "yaxis": {
         "anchor": "x",
         "domain": [
          0,
          1
         ],
         "title": {
          "text": "Unique Visitors"
         }
        }
       }
      },
      "text/html": [
       "<div>                            <div id=\"15fb3dc1-3ed2-42b9-9ad4-77ed80f92e81\" class=\"plotly-graph-div\" style=\"height:525px; width:100%;\"></div>            <script type=\"text/javascript\">                require([\"plotly\"], function(Plotly) {                    window.PLOTLYENV=window.PLOTLYENV || {};                                    if (document.getElementById(\"15fb3dc1-3ed2-42b9-9ad4-77ed80f92e81\")) {                    Plotly.newPlot(                        \"15fb3dc1-3ed2-42b9-9ad4-77ed80f92e81\",                        [{\"customdata\":[[\"Materials Science\"],[\"General & Introductory Chemistry\"],[\"Earth Sciences\"],[\"Electrical & Electronics Engineering\"],[\"Ecology\"],[\"Food Science & Technology\"],[\"Cell & Molecular Biology\"],[\"Nanotechnology\"],[\"Plant Science\"],[\"Neurology\"],[\"Dermatology\"],[\"Physics\"],[\"Cardiovascular Disease\"],[\"Oncology & Radiotherapy\"],[\"Dentistry\"],[\"Economics\"],[\"Nursing\"],[\"Analytical Chemistry\"],[\"Mathematics\"],[\"Veterinary Medicine\"],[\"Pharmacology & Pharmaceutical Medicine\"],[\"Business & Management\"],[\"General & Internal Medicine\"],[\"Agriculture\"],[\"Hematology\"],[\"General & Introductory Medical Science\"],[\"Education\"],[\"Organic Chemistry\"],[\"Pharmaceutical & Medicinal Chemistry\"],[\"Civil Engineering & Construction\"],[\"Surgery & Surgical Specialties\"],[\"General Life Sciences\"],[\"Chemical Engineering\"],[\"Physical Chemistry\"],[\"Endocrinology\"],[\"Development Studies\"],[\"Neuroscience\"],[\"Political Science\"],[\"Basic Medical Sciences\"],[\"Obstetrics & Gynecology\"],[\"Gastroenterology & Hepatology\"],[\"Zoology & Animal Science\"],[\"Mechanical Engineering\"],[\"Genetics\"],[\"Environmental Studies\"],[\"Health & Social Care\"],[\"Anatomy & Physiology\"],[\"Radiology & Imaging\"],[\"Energy\"],[\"Biochemistry\"],[\"Computer Science\"],[\"Otolaryngology (Ear, Nose & Throat)\"],[\"Urology\"],[\"Aquaculture, Fisheries & Fish Science\"],[\"Statistics\"],[\"Clinical Psychology\"],[\"Developmental Psychology\"],[\"Catalysis\"],[\"Microbiology & Virology\"],[\"Mental Health & Addiction\"],[\"Psychiatry\"],[\"Geriatric Medicine\"],[\"Respiratory Medicine\"],[\"Pathology\"],[\"Rheumatology\"],[\"Philosophy\"],[\"General Psychology\"],[\"Anthropology\"],[\"Allergy & Clinical Immunology\"],[\"Geography\"],[\"Emergency Medicine\"],[\"Finance & Investments\"],[\"Evolution\"],[\"Anaesthesia & Pain Management\"],[\"Language & Linguistics\"],[\"Pediatrics\"],[\"Social Psychology\"],[\"Cognitive Psychology\"],[\"Family & Child Studies\"],[\"Sociology\"],[\"Transplantation\"],[\"Sports Medicine & Orthopedics\"],[\"Inorganic Chemistry\"],[\"Ophthalmology & Optometry\"],[\"Nutrition & Dietetics\"],[\"Accounting\"],[\"Social Policy & Welfare\"],[\"Psychotherapy & Counseling\"],[\"Evidence Based Medicine\"],[\"Religion & Theology\"],[\"Law\"],[\"Industrial Chemistry\"],[\"History\"],[\"Educational & School Psychology\"],[\"Intellectual Disability\"],[\"Nephrology\"],[\"Computational Chemistry & Molecular Modelling\"],[\"Biomedical Engineering\"],[\"Applied Psychology\"],[\"Cultural Studies\"],[\"Rehabilitation\"],[\"Archaeology\"],[\"Architecture\"],[\"Information Science & Technology\"],[\"Literature\"],[\"Personality & Individual Differences\"],[\"Astronomy\"],[\"Museum & Heritage Studies\"],[\"Industrial Engineering\"],[\"Environmental Chemistry\"],[\"Criminology\"],[\"Urban Studies\"],[\"General Computing\"],[\"Design & Graphic Design\"],[\"Psychological Methods, Research & Statistics\"],[\"Classical Studies\"],[\"Art & Photography\"],[\"Performing Arts & Music\"],[\"Communication & Media Studies\"]],\"hovertemplate\":\"Wiley Papers=%{x}<br>Unique Visitors=%{y}<br>Mailing List Subscribers=%{marker.size}<br>WOL L2 Subject=%{customdata[0]}<extra></extra>\",\"legendgroup\":\"\",\"marker\":{\"color\":\"#636efa\",\"size\":[20618,41309,24314,25742,7957,28799,29731,4280,12611,15469,16418,5894,21347,16696,28465,35677,38901,13706,10533,18976,13346,61833,2875,23595,11248,0,53925,14499,17502,0,17847,39109,21496,7939,8503,1698,17598,8851,0,18935,11813,8180,14134,10009,17532,715,12311,9019,9122,3275,23681,4872,6452,9661,16791,13666,8059,1890,16803,0,11393,4753,1015,8958,6119,6908,31029,6480,9453,6971,6489,25079,22130,10162,11053,12451,7865,1478,0,18492,3391,1669,5873,3511,13165,0,953,1063,0,5318,9931,4957,8495,0,0,4347,5191,9364,0,891,0,3030,6853,0,5125,1371,3991,488,5194,6882,4957,750,23681,430,0,1350,0,353,5623],\"sizemode\":\"area\",\"sizeref\":24.7332,\"symbol\":\"circle\"},\"mode\":\"markers\",\"name\":\"\",\"orientation\":\"v\",\"showlegend\":false,\"x\":[10508,7253,5573,3612,3375,2866,2148,2068,2019,2010,1998,1939,1717,1641,1614,1611,1480,1418,1399,1365,1342,1318,1272,1219,1219,1214,1202,1189,1173,1133,1128,1043,1039,1033,1012,995,984,978,970,964,936,874,834,825,806,769,765,765,738,678,654,648,642,614,604,600,598,493,490,448,437,417,410,401,397,397,391,385,384,359,359,355,354,348,322,314,308,302,299,297,288,279,256,255,251,240,216,209,196,188,181,179,168,166,166,157,152,139,135,124,77,68,68,64,56,56,54,38,38,33,24,24,19,17,17,13,8,6,0],\"xaxis\":\"x\",\"y\":[14612560,8284404,9372019,3322269,8852712,7401176,8027824,2273448,4835726,7440547,7331718,2218636,3094044,6856644,4283285,4846454,8884178,2943694,1596375,3801544,6119091,10101613,4652013,2757509,3905745,2195080,5634260,1932707,1837152,1803500,2154816,6557916,2298617,1387926,4499469,3717320,3225236,4537976,2738561,7114697,3388090,1245283,899531,3079811,2620702,3900883,3496894,2347588,1628783,1640857,1436530,1163044,3645201,1458899,1930878,3629692,4091850,549384,3490050,1089951,2915823,1984736,970058,1395366,1730373,2090883,2743853,2242386,1912232,1953608,1139758,2003287,1712810,2639881,1875044,1716335,3244906,1718543,1738089,2668456,892566,1478391,794966,985487,1051132,1083920,781444,1873116,107044,908780,1411551,709470,886116,1168494,643326,547200,521144,308744,1494602,520149,468375,202301,268269,606750,316568,661600,80174,122894,153622,868593,471311,312114,602242,43498,71213,13147,149283,45921,444663],\"yaxis\":\"y\",\"type\":\"scatter\"}],                        {\"template\":{\"data\":{\"histogram2dcontour\":[{\"type\":\"histogram2dcontour\",\"colorbar\":{\"outlinewidth\":0,\"ticks\":\"\"},\"colorscale\":[[0.0,\"#0d0887\"],[0.1111111111111111,\"#46039f\"],[0.2222222222222222,\"#7201a8\"],[0.3333333333333333,\"#9c179e\"],[0.4444444444444444,\"#bd3786\"],[0.5555555555555556,\"#d8576b\"],[0.6666666666666666,\"#ed7953\"],[0.7777777777777778,\"#fb9f3a\"],[0.8888888888888888,\"#fdca26\"],[1.0,\"#f0f921\"]]}],\"choropleth\":[{\"type\":\"choropleth\",\"colorbar\":{\"outlinewidth\":0,\"ticks\":\"\"}}],\"histogram2d\":[{\"type\":\"histogram2d\",\"colorbar\":{\"outlinewidth\":0,\"ticks\":\"\"},\"colorscale\":[[0.0,\"#0d0887\"],[0.1111111111111111,\"#46039f\"],[0.2222222222222222,\"#7201a8\"],[0.3333333333333333,\"#9c179e\"],[0.4444444444444444,\"#bd3786\"],[0.5555555555555556,\"#d8576b\"],[0.6666666666666666,\"#ed7953\"],[0.7777777777777778,\"#fb9f3a\"],[0.8888888888888888,\"#fdca26\"],[1.0,\"#f0f921\"]]}],\"heatmap\":[{\"type\":\"heatmap\",\"colorbar\":{\"outlinewidth\":0,\"ticks\":\"\"},\"colorscale\":[[0.0,\"#0d0887\"],[0.1111111111111111,\"#46039f\"],[0.2222222222222222,\"#7201a8\"],[0.3333333333333333,\"#9c179e\"],[0.4444444444444444,\"#bd3786\"],[0.5555555555555556,\"#d8576b\"],[0.6666666666666666,\"#ed7953\"],[0.7777777777777778,\"#fb9f3a\"],[0.8888888888888888,\"#fdca26\"],[1.0,\"#f0f921\"]]}],\"heatmapgl\":[{\"type\":\"heatmapgl\",\"colorbar\":{\"outlinewidth\":0,\"ticks\":\"\"},\"colorscale\":[[0.0,\"#0d0887\"],[0.1111111111111111,\"#46039f\"],[0.2222222222222222,\"#7201a8\"],[0.3333333333333333,\"#9c179e\"],[0.4444444444444444,\"#bd3786\"],[0.5555555555555556,\"#d8576b\"],[0.6666666666666666,\"#ed7953\"],[0.7777777777777778,\"#fb9f3a\"],[0.8888888888888888,\"#fdca26\"],[1.0,\"#f0f921\"]]}],\"contourcarpet\":[{\"type\":\"contourcarpet\",\"colorbar\":{\"outlinewidth\":0,\"ticks\":\"\"}}],\"contour\":[{\"type\":\"contour\",\"colorbar\":{\"outlinewidth\":0,\"ticks\":\"\"},\"colorscale\":[[0.0,\"#0d0887\"],[0.1111111111111111,\"#46039f\"],[0.2222222222222222,\"#7201a8\"],[0.3333333333333333,\"#9c179e\"],[0.4444444444444444,\"#bd3786\"],[0.5555555555555556,\"#d8576b\"],[0.6666666666666666,\"#ed7953\"],[0.7777777777777778,\"#fb9f3a\"],[0.8888888888888888,\"#fdca26\"],[1.0,\"#f0f921\"]]}],\"surface\":[{\"type\":\"surface\",\"colorbar\":{\"outlinewidth\":0,\"ticks\":\"\"},\"colorscale\":[[0.0,\"#0d0887\"],[0.1111111111111111,\"#46039f\"],[0.2222222222222222,\"#7201a8\"],[0.3333333333333333,\"#9c179e\"],[0.4444444444444444,\"#bd3786\"],[0.5555555555555556,\"#d8576b\"],[0.6666666666666666,\"#ed7953\"],[0.7777777777777778,\"#fb9f3a\"],[0.8888888888888888,\"#fdca26\"],[1.0,\"#f0f921\"]]}],\"mesh3d\":[{\"type\":\"mesh3d\",\"colorbar\":{\"outlinewidth\":0,\"ticks\":\"\"}}],\"scatter\":[{\"fillpattern\":{\"fillmode\":\"overlay\",\"size\":10,\"solidity\":0.2},\"type\":\"scatter\"}],\"parcoords\":[{\"type\":\"parcoords\",\"line\":{\"colorbar\":{\"outlinewidth\":0,\"ticks\":\"\"}}}],\"scatterpolargl\":[{\"type\":\"scatterpolargl\",\"marker\":{\"colorbar\":{\"outlinewidth\":0,\"ticks\":\"\"}}}],\"bar\":[{\"error_x\":{\"color\":\"#2a3f5f\"},\"error_y\":{\"color\":\"#2a3f5f\"},\"marker\":{\"line\":{\"color\":\"#E5ECF6\",\"width\":0.5},\"pattern\":{\"fillmode\":\"overlay\",\"size\":10,\"solidity\":0.2}},\"type\":\"bar\"}],\"scattergeo\":[{\"type\":\"scattergeo\",\"marker\":{\"colorbar\":{\"outlinewidth\":0,\"ticks\":\"\"}}}],\"scatterpolar\":[{\"type\":\"scatterpolar\",\"marker\":{\"colorbar\":{\"outlinewidth\":0,\"ticks\":\"\"}}}],\"histogram\":[{\"marker\":{\"pattern\":{\"fillmode\":\"overlay\",\"size\":10,\"solidity\":0.2}},\"type\":\"histogram\"}],\"scattergl\":[{\"type\":\"scattergl\",\"marker\":{\"colorbar\":{\"outlinewidth\":0,\"ticks\":\"\"}}}],\"scatter3d\":[{\"type\":\"scatter3d\",\"line\":{\"colorbar\":{\"outlinewidth\":0,\"ticks\":\"\"}},\"marker\":{\"colorbar\":{\"outlinewidth\":0,\"ticks\":\"\"}}}],\"scattermapbox\":[{\"type\":\"scattermapbox\",\"marker\":{\"colorbar\":{\"outlinewidth\":0,\"ticks\":\"\"}}}],\"scatterternary\":[{\"type\":\"scatterternary\",\"marker\":{\"colorbar\":{\"outlinewidth\":0,\"ticks\":\"\"}}}],\"scattercarpet\":[{\"type\":\"scattercarpet\",\"marker\":{\"colorbar\":{\"outlinewidth\":0,\"ticks\":\"\"}}}],\"carpet\":[{\"aaxis\":{\"endlinecolor\":\"#2a3f5f\",\"gridcolor\":\"white\",\"linecolor\":\"white\",\"minorgridcolor\":\"white\",\"startlinecolor\":\"#2a3f5f\"},\"baxis\":{\"endlinecolor\":\"#2a3f5f\",\"gridcolor\":\"white\",\"linecolor\":\"white\",\"minorgridcolor\":\"white\",\"startlinecolor\":\"#2a3f5f\"},\"type\":\"carpet\"}],\"table\":[{\"cells\":{\"fill\":{\"color\":\"#EBF0F8\"},\"line\":{\"color\":\"white\"}},\"header\":{\"fill\":{\"color\":\"#C8D4E3\"},\"line\":{\"color\":\"white\"}},\"type\":\"table\"}],\"barpolar\":[{\"marker\":{\"line\":{\"color\":\"#E5ECF6\",\"width\":0.5},\"pattern\":{\"fillmode\":\"overlay\",\"size\":10,\"solidity\":0.2}},\"type\":\"barpolar\"}],\"pie\":[{\"automargin\":true,\"type\":\"pie\"}]},\"layout\":{\"autotypenumbers\":\"strict\",\"colorway\":[\"#636efa\",\"#EF553B\",\"#00cc96\",\"#ab63fa\",\"#FFA15A\",\"#19d3f3\",\"#FF6692\",\"#B6E880\",\"#FF97FF\",\"#FECB52\"],\"font\":{\"color\":\"#2a3f5f\"},\"hovermode\":\"closest\",\"hoverlabel\":{\"align\":\"left\"},\"paper_bgcolor\":\"white\",\"plot_bgcolor\":\"#E5ECF6\",\"polar\":{\"bgcolor\":\"#E5ECF6\",\"angularaxis\":{\"gridcolor\":\"white\",\"linecolor\":\"white\",\"ticks\":\"\"},\"radialaxis\":{\"gridcolor\":\"white\",\"linecolor\":\"white\",\"ticks\":\"\"}},\"ternary\":{\"bgcolor\":\"#E5ECF6\",\"aaxis\":{\"gridcolor\":\"white\",\"linecolor\":\"white\",\"ticks\":\"\"},\"baxis\":{\"gridcolor\":\"white\",\"linecolor\":\"white\",\"ticks\":\"\"},\"caxis\":{\"gridcolor\":\"white\",\"linecolor\":\"white\",\"ticks\":\"\"}},\"coloraxis\":{\"colorbar\":{\"outlinewidth\":0,\"ticks\":\"\"}},\"colorscale\":{\"sequential\":[[0.0,\"#0d0887\"],[0.1111111111111111,\"#46039f\"],[0.2222222222222222,\"#7201a8\"],[0.3333333333333333,\"#9c179e\"],[0.4444444444444444,\"#bd3786\"],[0.5555555555555556,\"#d8576b\"],[0.6666666666666666,\"#ed7953\"],[0.7777777777777778,\"#fb9f3a\"],[0.8888888888888888,\"#fdca26\"],[1.0,\"#f0f921\"]],\"sequentialminus\":[[0.0,\"#0d0887\"],[0.1111111111111111,\"#46039f\"],[0.2222222222222222,\"#7201a8\"],[0.3333333333333333,\"#9c179e\"],[0.4444444444444444,\"#bd3786\"],[0.5555555555555556,\"#d8576b\"],[0.6666666666666666,\"#ed7953\"],[0.7777777777777778,\"#fb9f3a\"],[0.8888888888888888,\"#fdca26\"],[1.0,\"#f0f921\"]],\"diverging\":[[0,\"#8e0152\"],[0.1,\"#c51b7d\"],[0.2,\"#de77ae\"],[0.3,\"#f1b6da\"],[0.4,\"#fde0ef\"],[0.5,\"#f7f7f7\"],[0.6,\"#e6f5d0\"],[0.7,\"#b8e186\"],[0.8,\"#7fbc41\"],[0.9,\"#4d9221\"],[1,\"#276419\"]]},\"xaxis\":{\"gridcolor\":\"white\",\"linecolor\":\"white\",\"ticks\":\"\",\"title\":{\"standoff\":15},\"zerolinecolor\":\"white\",\"automargin\":true,\"zerolinewidth\":2},\"yaxis\":{\"gridcolor\":\"white\",\"linecolor\":\"white\",\"ticks\":\"\",\"title\":{\"standoff\":15},\"zerolinecolor\":\"white\",\"automargin\":true,\"zerolinewidth\":2},\"scene\":{\"xaxis\":{\"backgroundcolor\":\"#E5ECF6\",\"gridcolor\":\"white\",\"linecolor\":\"white\",\"showbackground\":true,\"ticks\":\"\",\"zerolinecolor\":\"white\",\"gridwidth\":2},\"yaxis\":{\"backgroundcolor\":\"#E5ECF6\",\"gridcolor\":\"white\",\"linecolor\":\"white\",\"showbackground\":true,\"ticks\":\"\",\"zerolinecolor\":\"white\",\"gridwidth\":2},\"zaxis\":{\"backgroundcolor\":\"#E5ECF6\",\"gridcolor\":\"white\",\"linecolor\":\"white\",\"showbackground\":true,\"ticks\":\"\",\"zerolinecolor\":\"white\",\"gridwidth\":2}},\"shapedefaults\":{\"line\":{\"color\":\"#2a3f5f\"}},\"annotationdefaults\":{\"arrowcolor\":\"#2a3f5f\",\"arrowhead\":0,\"arrowwidth\":1},\"geo\":{\"bgcolor\":\"white\",\"landcolor\":\"#E5ECF6\",\"subunitcolor\":\"white\",\"showland\":true,\"showlakes\":true,\"lakecolor\":\"white\"},\"title\":{\"x\":0.05},\"mapbox\":{\"style\":\"light\"}}},\"xaxis\":{\"anchor\":\"y\",\"domain\":[0.0,1.0],\"title\":{\"text\":\"Wiley Papers\"}},\"yaxis\":{\"anchor\":\"x\",\"domain\":[0.0,1.0],\"title\":{\"text\":\"Unique Visitors\"}},\"legend\":{\"tracegroupgap\":0,\"itemsizing\":\"constant\"},\"margin\":{\"t\":60}},                        {\"responsive\": true}                    ).then(function(){\n",
       "                            \n",
       "var gd = document.getElementById('15fb3dc1-3ed2-42b9-9ad4-77ed80f92e81');\n",
       "var x = new MutationObserver(function (mutations, observer) {{\n",
       "        var display = window.getComputedStyle(gd).display;\n",
       "        if (!display || display === 'none') {{\n",
       "            console.log([gd, 'removed!']);\n",
       "            Plotly.purge(gd);\n",
       "            observer.disconnect();\n",
       "        }}\n",
       "}});\n",
       "\n",
       "// Listen for the removal of the full notebook cells\n",
       "var notebookContainer = gd.closest('#notebook-container');\n",
       "if (notebookContainer) {{\n",
       "    x.observe(notebookContainer, {childList: true});\n",
       "}}\n",
       "\n",
       "// Listen for the clearing of the current output cell\n",
       "var outputEl = gd.closest('.output');\n",
       "if (outputEl) {{\n",
       "    x.observe(outputEl, {childList: true});\n",
       "}}\n",
       "\n",
       "                        })                };                });            </script>        </div>"
      ]
     },
     "metadata": {},
     "output_type": "display_data"
    }
   ],
   "source": [
    "# Okay, let's attempt a new one for me - how about a bubble chart? *googles frantically*\n",
    "\n",
    "px.scatter(data_frame = verticals,\n",
    "           x=\"Wiley Papers\",\n",
    "           y=\"Unique Visitors\",\n",
    "           size=\"Mailing List Subscribers\",\n",
    "           hover_data=[\"WOL L2 Subject\"],\n",
    "           log_x=False,\n",
    "           size_max=50)"
   ]
  },
  {
   "cell_type": "code",
   "execution_count": 18,
   "id": "f07b93e1",
   "metadata": {},
   "outputs": [
    {
     "data": {
      "application/vnd.plotly.v1+json": {
       "config": {
        "plotlyServerURL": "https://plot.ly"
       },
       "data": [
        {
         "customdata": [
          [
           "Materials Science"
          ],
          [
           "General & Introductory Chemistry"
          ],
          [
           "Earth Sciences"
          ],
          [
           "Electrical & Electronics Engineering"
          ],
          [
           "Ecology"
          ],
          [
           "Food Science & Technology"
          ],
          [
           "Cell & Molecular Biology"
          ],
          [
           "Nanotechnology"
          ],
          [
           "Plant Science"
          ],
          [
           "Neurology"
          ],
          [
           "Dermatology"
          ],
          [
           "Physics"
          ],
          [
           "Cardiovascular Disease"
          ],
          [
           "Oncology & Radiotherapy"
          ],
          [
           "Dentistry"
          ],
          [
           "Economics"
          ],
          [
           "Nursing"
          ],
          [
           "Analytical Chemistry"
          ],
          [
           "Mathematics"
          ],
          [
           "Veterinary Medicine"
          ],
          [
           "Pharmacology & Pharmaceutical Medicine"
          ],
          [
           "Business & Management"
          ],
          [
           "General & Internal Medicine"
          ],
          [
           "Agriculture"
          ],
          [
           "Hematology"
          ],
          [
           "General & Introductory Medical Science"
          ],
          [
           "Education"
          ],
          [
           "Organic Chemistry"
          ],
          [
           "Pharmaceutical & Medicinal Chemistry"
          ],
          [
           "Civil Engineering & Construction"
          ],
          [
           "Surgery & Surgical Specialties"
          ],
          [
           "General Life Sciences"
          ],
          [
           "Chemical Engineering"
          ],
          [
           "Physical Chemistry"
          ],
          [
           "Endocrinology"
          ],
          [
           "Development Studies"
          ],
          [
           "Neuroscience"
          ],
          [
           "Political Science"
          ],
          [
           "Basic Medical Sciences"
          ],
          [
           "Obstetrics & Gynecology"
          ],
          [
           "Gastroenterology & Hepatology"
          ],
          [
           "Zoology & Animal Science"
          ],
          [
           "Mechanical Engineering"
          ],
          [
           "Genetics"
          ],
          [
           "Environmental Studies"
          ],
          [
           "Health & Social Care"
          ],
          [
           "Anatomy & Physiology"
          ],
          [
           "Radiology & Imaging"
          ],
          [
           "Energy"
          ],
          [
           "Biochemistry"
          ],
          [
           "Computer Science"
          ],
          [
           "Otolaryngology (Ear, Nose & Throat)"
          ],
          [
           "Urology"
          ],
          [
           "Aquaculture, Fisheries & Fish Science"
          ],
          [
           "Statistics"
          ],
          [
           "Clinical Psychology"
          ],
          [
           "Developmental Psychology"
          ],
          [
           "Catalysis"
          ],
          [
           "Microbiology & Virology"
          ],
          [
           "Mental Health & Addiction"
          ],
          [
           "Psychiatry"
          ],
          [
           "Geriatric Medicine"
          ],
          [
           "Respiratory Medicine"
          ],
          [
           "Pathology"
          ],
          [
           "Rheumatology"
          ],
          [
           "Philosophy"
          ],
          [
           "General Psychology"
          ],
          [
           "Anthropology"
          ],
          [
           "Allergy & Clinical Immunology"
          ],
          [
           "Geography"
          ],
          [
           "Emergency Medicine"
          ],
          [
           "Finance & Investments"
          ],
          [
           "Evolution"
          ],
          [
           "Anaesthesia & Pain Management"
          ],
          [
           "Language & Linguistics"
          ],
          [
           "Pediatrics"
          ],
          [
           "Social Psychology"
          ],
          [
           "Cognitive Psychology"
          ],
          [
           "Family & Child Studies"
          ],
          [
           "Sociology"
          ],
          [
           "Transplantation"
          ],
          [
           "Sports Medicine & Orthopedics"
          ],
          [
           "Inorganic Chemistry"
          ],
          [
           "Ophthalmology & Optometry"
          ],
          [
           "Nutrition & Dietetics"
          ],
          [
           "Accounting"
          ],
          [
           "Social Policy & Welfare"
          ],
          [
           "Psychotherapy & Counseling"
          ],
          [
           "Evidence Based Medicine"
          ],
          [
           "Religion & Theology"
          ],
          [
           "Law"
          ],
          [
           "Industrial Chemistry"
          ],
          [
           "History"
          ],
          [
           "Educational & School Psychology"
          ],
          [
           "Intellectual Disability"
          ],
          [
           "Nephrology"
          ],
          [
           "Computational Chemistry & Molecular Modelling"
          ],
          [
           "Biomedical Engineering"
          ],
          [
           "Applied Psychology"
          ],
          [
           "Cultural Studies"
          ],
          [
           "Rehabilitation"
          ],
          [
           "Archaeology"
          ],
          [
           "Architecture"
          ],
          [
           "Information Science & Technology"
          ],
          [
           "Literature"
          ],
          [
           "Personality & Individual Differences"
          ],
          [
           "Astronomy"
          ],
          [
           "Museum & Heritage Studies"
          ],
          [
           "Industrial Engineering"
          ],
          [
           "Environmental Chemistry"
          ],
          [
           "Criminology"
          ],
          [
           "Urban Studies"
          ],
          [
           "General Computing"
          ],
          [
           "Design & Graphic Design"
          ],
          [
           "Psychological Methods, Research & Statistics"
          ],
          [
           "Classical Studies"
          ],
          [
           "Art & Photography"
          ],
          [
           "Performing Arts & Music"
          ],
          [
           "Communication & Media Studies"
          ]
         ],
         "hovertemplate": "Wiley Papers=%{x}<br>Mailing List Subscribers=%{y}<br>Unique Visitors=%{marker.size}<br>WOL L2 Subject=%{customdata[0]}<br>Page Views=%{marker.color}<extra></extra>",
         "legendgroup": "",
         "marker": {
          "color": [
           108276834,
           65063710,
           42990142,
           11967947,
           40704443,
           26710134,
           26392004,
           11901017,
           21957948,
           22530976,
           20461101,
           7090974,
           8284425,
           18938580,
           20459878,
           16007464,
           34128028,
           9218427,
           5259322,
           16646092,
           16336358,
           39640865,
           9851466,
           9991489,
           12058932,
           5078390,
           17756364,
           10665427,
           5604205,
           5868916,
           5781498,
           18057888,
           7105068,
           4883654,
           12089477,
           12382512,
           9816320,
           14172657,
           6903758,
           17796857,
           8923945,
           3720179,
           2831187,
           9060614,
           7854475,
           10426923,
           8771567,
           6369205,
           4656474,
           4992920,
           3944116,
           2900447,
           7629932,
           6081505,
           6395647,
           12597636,
           12617044,
           2051114,
           9823151,
           2748294,
           7482307,
           5248387,
           2549585,
           3917970,
           5058510,
           5672184,
           7395327,
           7034802,
           5597938,
           5440128,
           2544251,
           8007541,
           5776537,
           6235320,
           6848789,
           4015245,
           8757294,
           4529476,
           4973550,
           6684098,
           2586655,
           3830889,
           2686289,
           2373965,
           3187634,
           4848485,
           2114608,
           5758715,
           227007,
           2076460,
           3708246,
           2005215,
           2089720,
           3165888,
           1952188,
           1416884,
           1622519,
           766668,
           4131486,
           1246173,
           1429854,
           589833,
           714040,
           1533003,
           726690,
           1638285,
           163480,
           364659,
           394291,
           3053236,
           1439619,
           834971,
           1461297,
           115964,
           172480,
           25924,
           358123,
           118159,
           982700
          ],
          "coloraxis": "coloraxis",
          "size": [
           14612560,
           8284404,
           9372019,
           3322269,
           8852712,
           7401176,
           8027824,
           2273448,
           4835726,
           7440547,
           7331718,
           2218636,
           3094044,
           6856644,
           4283285,
           4846454,
           8884178,
           2943694,
           1596375,
           3801544,
           6119091,
           10101613,
           4652013,
           2757509,
           3905745,
           2195080,
           5634260,
           1932707,
           1837152,
           1803500,
           2154816,
           6557916,
           2298617,
           1387926,
           4499469,
           3717320,
           3225236,
           4537976,
           2738561,
           7114697,
           3388090,
           1245283,
           899531,
           3079811,
           2620702,
           3900883,
           3496894,
           2347588,
           1628783,
           1640857,
           1436530,
           1163044,
           3645201,
           1458899,
           1930878,
           3629692,
           4091850,
           549384,
           3490050,
           1089951,
           2915823,
           1984736,
           970058,
           1395366,
           1730373,
           2090883,
           2743853,
           2242386,
           1912232,
           1953608,
           1139758,
           2003287,
           1712810,
           2639881,
           1875044,
           1716335,
           3244906,
           1718543,
           1738089,
           2668456,
           892566,
           1478391,
           794966,
           985487,
           1051132,
           1083920,
           781444,
           1873116,
           107044,
           908780,
           1411551,
           709470,
           886116,
           1168494,
           643326,
           547200,
           521144,
           308744,
           1494602,
           520149,
           468375,
           202301,
           268269,
           606750,
           316568,
           661600,
           80174,
           122894,
           153622,
           868593,
           471311,
           312114,
           602242,
           43498,
           71213,
           13147,
           149283,
           45921,
           444663
          ],
          "sizemode": "area",
          "sizeref": 5845.024,
          "symbol": "circle"
         },
         "mode": "markers",
         "name": "",
         "orientation": "v",
         "showlegend": false,
         "type": "scatter",
         "x": [
          10508,
          7253,
          5573,
          3612,
          3375,
          2866,
          2148,
          2068,
          2019,
          2010,
          1998,
          1939,
          1717,
          1641,
          1614,
          1611,
          1480,
          1418,
          1399,
          1365,
          1342,
          1318,
          1272,
          1219,
          1219,
          1214,
          1202,
          1189,
          1173,
          1133,
          1128,
          1043,
          1039,
          1033,
          1012,
          995,
          984,
          978,
          970,
          964,
          936,
          874,
          834,
          825,
          806,
          769,
          765,
          765,
          738,
          678,
          654,
          648,
          642,
          614,
          604,
          600,
          598,
          493,
          490,
          448,
          437,
          417,
          410,
          401,
          397,
          397,
          391,
          385,
          384,
          359,
          359,
          355,
          354,
          348,
          322,
          314,
          308,
          302,
          299,
          297,
          288,
          279,
          256,
          255,
          251,
          240,
          216,
          209,
          196,
          188,
          181,
          179,
          168,
          166,
          166,
          157,
          152,
          139,
          135,
          124,
          77,
          68,
          68,
          64,
          56,
          56,
          54,
          38,
          38,
          33,
          24,
          24,
          19,
          17,
          17,
          13,
          8,
          6,
          0
         ],
         "xaxis": "x",
         "y": [
          20618,
          41309,
          24314,
          25742,
          7957,
          28799,
          29731,
          4280,
          12611,
          15469,
          16418,
          5894,
          21347,
          16696,
          28465,
          35677,
          38901,
          13706,
          10533,
          18976,
          13346,
          61833,
          2875,
          23595,
          11248,
          0,
          53925,
          14499,
          17502,
          0,
          17847,
          39109,
          21496,
          7939,
          8503,
          1698,
          17598,
          8851,
          0,
          18935,
          11813,
          8180,
          14134,
          10009,
          17532,
          715,
          12311,
          9019,
          9122,
          3275,
          23681,
          4872,
          6452,
          9661,
          16791,
          13666,
          8059,
          1890,
          16803,
          0,
          11393,
          4753,
          1015,
          8958,
          6119,
          6908,
          31029,
          6480,
          9453,
          6971,
          6489,
          25079,
          22130,
          10162,
          11053,
          12451,
          7865,
          1478,
          0,
          18492,
          3391,
          1669,
          5873,
          3511,
          13165,
          0,
          953,
          1063,
          0,
          5318,
          9931,
          4957,
          8495,
          0,
          0,
          4347,
          5191,
          9364,
          0,
          891,
          0,
          3030,
          6853,
          0,
          5125,
          1371,
          3991,
          488,
          5194,
          6882,
          4957,
          750,
          23681,
          430,
          0,
          1350,
          0,
          353,
          5623
         ],
         "yaxis": "y"
        }
       ],
       "layout": {
        "coloraxis": {
         "colorbar": {
          "title": {
           "text": "Page Views"
          }
         },
         "colorscale": [
          [
           0,
           "#0d0887"
          ],
          [
           0.1111111111111111,
           "#46039f"
          ],
          [
           0.2222222222222222,
           "#7201a8"
          ],
          [
           0.3333333333333333,
           "#9c179e"
          ],
          [
           0.4444444444444444,
           "#bd3786"
          ],
          [
           0.5555555555555556,
           "#d8576b"
          ],
          [
           0.6666666666666666,
           "#ed7953"
          ],
          [
           0.7777777777777778,
           "#fb9f3a"
          ],
          [
           0.8888888888888888,
           "#fdca26"
          ],
          [
           1,
           "#f0f921"
          ]
         ]
        },
        "legend": {
         "itemsizing": "constant",
         "tracegroupgap": 0
        },
        "margin": {
         "t": 60
        },
        "template": {
         "data": {
          "bar": [
           {
            "error_x": {
             "color": "#2a3f5f"
            },
            "error_y": {
             "color": "#2a3f5f"
            },
            "marker": {
             "line": {
              "color": "#E5ECF6",
              "width": 0.5
             },
             "pattern": {
              "fillmode": "overlay",
              "size": 10,
              "solidity": 0.2
             }
            },
            "type": "bar"
           }
          ],
          "barpolar": [
           {
            "marker": {
             "line": {
              "color": "#E5ECF6",
              "width": 0.5
             },
             "pattern": {
              "fillmode": "overlay",
              "size": 10,
              "solidity": 0.2
             }
            },
            "type": "barpolar"
           }
          ],
          "carpet": [
           {
            "aaxis": {
             "endlinecolor": "#2a3f5f",
             "gridcolor": "white",
             "linecolor": "white",
             "minorgridcolor": "white",
             "startlinecolor": "#2a3f5f"
            },
            "baxis": {
             "endlinecolor": "#2a3f5f",
             "gridcolor": "white",
             "linecolor": "white",
             "minorgridcolor": "white",
             "startlinecolor": "#2a3f5f"
            },
            "type": "carpet"
           }
          ],
          "choropleth": [
           {
            "colorbar": {
             "outlinewidth": 0,
             "ticks": ""
            },
            "type": "choropleth"
           }
          ],
          "contour": [
           {
            "colorbar": {
             "outlinewidth": 0,
             "ticks": ""
            },
            "colorscale": [
             [
              0,
              "#0d0887"
             ],
             [
              0.1111111111111111,
              "#46039f"
             ],
             [
              0.2222222222222222,
              "#7201a8"
             ],
             [
              0.3333333333333333,
              "#9c179e"
             ],
             [
              0.4444444444444444,
              "#bd3786"
             ],
             [
              0.5555555555555556,
              "#d8576b"
             ],
             [
              0.6666666666666666,
              "#ed7953"
             ],
             [
              0.7777777777777778,
              "#fb9f3a"
             ],
             [
              0.8888888888888888,
              "#fdca26"
             ],
             [
              1,
              "#f0f921"
             ]
            ],
            "type": "contour"
           }
          ],
          "contourcarpet": [
           {
            "colorbar": {
             "outlinewidth": 0,
             "ticks": ""
            },
            "type": "contourcarpet"
           }
          ],
          "heatmap": [
           {
            "colorbar": {
             "outlinewidth": 0,
             "ticks": ""
            },
            "colorscale": [
             [
              0,
              "#0d0887"
             ],
             [
              0.1111111111111111,
              "#46039f"
             ],
             [
              0.2222222222222222,
              "#7201a8"
             ],
             [
              0.3333333333333333,
              "#9c179e"
             ],
             [
              0.4444444444444444,
              "#bd3786"
             ],
             [
              0.5555555555555556,
              "#d8576b"
             ],
             [
              0.6666666666666666,
              "#ed7953"
             ],
             [
              0.7777777777777778,
              "#fb9f3a"
             ],
             [
              0.8888888888888888,
              "#fdca26"
             ],
             [
              1,
              "#f0f921"
             ]
            ],
            "type": "heatmap"
           }
          ],
          "heatmapgl": [
           {
            "colorbar": {
             "outlinewidth": 0,
             "ticks": ""
            },
            "colorscale": [
             [
              0,
              "#0d0887"
             ],
             [
              0.1111111111111111,
              "#46039f"
             ],
             [
              0.2222222222222222,
              "#7201a8"
             ],
             [
              0.3333333333333333,
              "#9c179e"
             ],
             [
              0.4444444444444444,
              "#bd3786"
             ],
             [
              0.5555555555555556,
              "#d8576b"
             ],
             [
              0.6666666666666666,
              "#ed7953"
             ],
             [
              0.7777777777777778,
              "#fb9f3a"
             ],
             [
              0.8888888888888888,
              "#fdca26"
             ],
             [
              1,
              "#f0f921"
             ]
            ],
            "type": "heatmapgl"
           }
          ],
          "histogram": [
           {
            "marker": {
             "pattern": {
              "fillmode": "overlay",
              "size": 10,
              "solidity": 0.2
             }
            },
            "type": "histogram"
           }
          ],
          "histogram2d": [
           {
            "colorbar": {
             "outlinewidth": 0,
             "ticks": ""
            },
            "colorscale": [
             [
              0,
              "#0d0887"
             ],
             [
              0.1111111111111111,
              "#46039f"
             ],
             [
              0.2222222222222222,
              "#7201a8"
             ],
             [
              0.3333333333333333,
              "#9c179e"
             ],
             [
              0.4444444444444444,
              "#bd3786"
             ],
             [
              0.5555555555555556,
              "#d8576b"
             ],
             [
              0.6666666666666666,
              "#ed7953"
             ],
             [
              0.7777777777777778,
              "#fb9f3a"
             ],
             [
              0.8888888888888888,
              "#fdca26"
             ],
             [
              1,
              "#f0f921"
             ]
            ],
            "type": "histogram2d"
           }
          ],
          "histogram2dcontour": [
           {
            "colorbar": {
             "outlinewidth": 0,
             "ticks": ""
            },
            "colorscale": [
             [
              0,
              "#0d0887"
             ],
             [
              0.1111111111111111,
              "#46039f"
             ],
             [
              0.2222222222222222,
              "#7201a8"
             ],
             [
              0.3333333333333333,
              "#9c179e"
             ],
             [
              0.4444444444444444,
              "#bd3786"
             ],
             [
              0.5555555555555556,
              "#d8576b"
             ],
             [
              0.6666666666666666,
              "#ed7953"
             ],
             [
              0.7777777777777778,
              "#fb9f3a"
             ],
             [
              0.8888888888888888,
              "#fdca26"
             ],
             [
              1,
              "#f0f921"
             ]
            ],
            "type": "histogram2dcontour"
           }
          ],
          "mesh3d": [
           {
            "colorbar": {
             "outlinewidth": 0,
             "ticks": ""
            },
            "type": "mesh3d"
           }
          ],
          "parcoords": [
           {
            "line": {
             "colorbar": {
              "outlinewidth": 0,
              "ticks": ""
             }
            },
            "type": "parcoords"
           }
          ],
          "pie": [
           {
            "automargin": true,
            "type": "pie"
           }
          ],
          "scatter": [
           {
            "fillpattern": {
             "fillmode": "overlay",
             "size": 10,
             "solidity": 0.2
            },
            "type": "scatter"
           }
          ],
          "scatter3d": [
           {
            "line": {
             "colorbar": {
              "outlinewidth": 0,
              "ticks": ""
             }
            },
            "marker": {
             "colorbar": {
              "outlinewidth": 0,
              "ticks": ""
             }
            },
            "type": "scatter3d"
           }
          ],
          "scattercarpet": [
           {
            "marker": {
             "colorbar": {
              "outlinewidth": 0,
              "ticks": ""
             }
            },
            "type": "scattercarpet"
           }
          ],
          "scattergeo": [
           {
            "marker": {
             "colorbar": {
              "outlinewidth": 0,
              "ticks": ""
             }
            },
            "type": "scattergeo"
           }
          ],
          "scattergl": [
           {
            "marker": {
             "colorbar": {
              "outlinewidth": 0,
              "ticks": ""
             }
            },
            "type": "scattergl"
           }
          ],
          "scattermapbox": [
           {
            "marker": {
             "colorbar": {
              "outlinewidth": 0,
              "ticks": ""
             }
            },
            "type": "scattermapbox"
           }
          ],
          "scatterpolar": [
           {
            "marker": {
             "colorbar": {
              "outlinewidth": 0,
              "ticks": ""
             }
            },
            "type": "scatterpolar"
           }
          ],
          "scatterpolargl": [
           {
            "marker": {
             "colorbar": {
              "outlinewidth": 0,
              "ticks": ""
             }
            },
            "type": "scatterpolargl"
           }
          ],
          "scatterternary": [
           {
            "marker": {
             "colorbar": {
              "outlinewidth": 0,
              "ticks": ""
             }
            },
            "type": "scatterternary"
           }
          ],
          "surface": [
           {
            "colorbar": {
             "outlinewidth": 0,
             "ticks": ""
            },
            "colorscale": [
             [
              0,
              "#0d0887"
             ],
             [
              0.1111111111111111,
              "#46039f"
             ],
             [
              0.2222222222222222,
              "#7201a8"
             ],
             [
              0.3333333333333333,
              "#9c179e"
             ],
             [
              0.4444444444444444,
              "#bd3786"
             ],
             [
              0.5555555555555556,
              "#d8576b"
             ],
             [
              0.6666666666666666,
              "#ed7953"
             ],
             [
              0.7777777777777778,
              "#fb9f3a"
             ],
             [
              0.8888888888888888,
              "#fdca26"
             ],
             [
              1,
              "#f0f921"
             ]
            ],
            "type": "surface"
           }
          ],
          "table": [
           {
            "cells": {
             "fill": {
              "color": "#EBF0F8"
             },
             "line": {
              "color": "white"
             }
            },
            "header": {
             "fill": {
              "color": "#C8D4E3"
             },
             "line": {
              "color": "white"
             }
            },
            "type": "table"
           }
          ]
         },
         "layout": {
          "annotationdefaults": {
           "arrowcolor": "#2a3f5f",
           "arrowhead": 0,
           "arrowwidth": 1
          },
          "autotypenumbers": "strict",
          "coloraxis": {
           "colorbar": {
            "outlinewidth": 0,
            "ticks": ""
           }
          },
          "colorscale": {
           "diverging": [
            [
             0,
             "#8e0152"
            ],
            [
             0.1,
             "#c51b7d"
            ],
            [
             0.2,
             "#de77ae"
            ],
            [
             0.3,
             "#f1b6da"
            ],
            [
             0.4,
             "#fde0ef"
            ],
            [
             0.5,
             "#f7f7f7"
            ],
            [
             0.6,
             "#e6f5d0"
            ],
            [
             0.7,
             "#b8e186"
            ],
            [
             0.8,
             "#7fbc41"
            ],
            [
             0.9,
             "#4d9221"
            ],
            [
             1,
             "#276419"
            ]
           ],
           "sequential": [
            [
             0,
             "#0d0887"
            ],
            [
             0.1111111111111111,
             "#46039f"
            ],
            [
             0.2222222222222222,
             "#7201a8"
            ],
            [
             0.3333333333333333,
             "#9c179e"
            ],
            [
             0.4444444444444444,
             "#bd3786"
            ],
            [
             0.5555555555555556,
             "#d8576b"
            ],
            [
             0.6666666666666666,
             "#ed7953"
            ],
            [
             0.7777777777777778,
             "#fb9f3a"
            ],
            [
             0.8888888888888888,
             "#fdca26"
            ],
            [
             1,
             "#f0f921"
            ]
           ],
           "sequentialminus": [
            [
             0,
             "#0d0887"
            ],
            [
             0.1111111111111111,
             "#46039f"
            ],
            [
             0.2222222222222222,
             "#7201a8"
            ],
            [
             0.3333333333333333,
             "#9c179e"
            ],
            [
             0.4444444444444444,
             "#bd3786"
            ],
            [
             0.5555555555555556,
             "#d8576b"
            ],
            [
             0.6666666666666666,
             "#ed7953"
            ],
            [
             0.7777777777777778,
             "#fb9f3a"
            ],
            [
             0.8888888888888888,
             "#fdca26"
            ],
            [
             1,
             "#f0f921"
            ]
           ]
          },
          "colorway": [
           "#636efa",
           "#EF553B",
           "#00cc96",
           "#ab63fa",
           "#FFA15A",
           "#19d3f3",
           "#FF6692",
           "#B6E880",
           "#FF97FF",
           "#FECB52"
          ],
          "font": {
           "color": "#2a3f5f"
          },
          "geo": {
           "bgcolor": "white",
           "lakecolor": "white",
           "landcolor": "#E5ECF6",
           "showlakes": true,
           "showland": true,
           "subunitcolor": "white"
          },
          "hoverlabel": {
           "align": "left"
          },
          "hovermode": "closest",
          "mapbox": {
           "style": "light"
          },
          "paper_bgcolor": "white",
          "plot_bgcolor": "#E5ECF6",
          "polar": {
           "angularaxis": {
            "gridcolor": "white",
            "linecolor": "white",
            "ticks": ""
           },
           "bgcolor": "#E5ECF6",
           "radialaxis": {
            "gridcolor": "white",
            "linecolor": "white",
            "ticks": ""
           }
          },
          "scene": {
           "xaxis": {
            "backgroundcolor": "#E5ECF6",
            "gridcolor": "white",
            "gridwidth": 2,
            "linecolor": "white",
            "showbackground": true,
            "ticks": "",
            "zerolinecolor": "white"
           },
           "yaxis": {
            "backgroundcolor": "#E5ECF6",
            "gridcolor": "white",
            "gridwidth": 2,
            "linecolor": "white",
            "showbackground": true,
            "ticks": "",
            "zerolinecolor": "white"
           },
           "zaxis": {
            "backgroundcolor": "#E5ECF6",
            "gridcolor": "white",
            "gridwidth": 2,
            "linecolor": "white",
            "showbackground": true,
            "ticks": "",
            "zerolinecolor": "white"
           }
          },
          "shapedefaults": {
           "line": {
            "color": "#2a3f5f"
           }
          },
          "ternary": {
           "aaxis": {
            "gridcolor": "white",
            "linecolor": "white",
            "ticks": ""
           },
           "baxis": {
            "gridcolor": "white",
            "linecolor": "white",
            "ticks": ""
           },
           "bgcolor": "#E5ECF6",
           "caxis": {
            "gridcolor": "white",
            "linecolor": "white",
            "ticks": ""
           }
          },
          "title": {
           "x": 0.05
          },
          "xaxis": {
           "automargin": true,
           "gridcolor": "white",
           "linecolor": "white",
           "ticks": "",
           "title": {
            "standoff": 15
           },
           "zerolinecolor": "white",
           "zerolinewidth": 2
          },
          "yaxis": {
           "automargin": true,
           "gridcolor": "white",
           "linecolor": "white",
           "ticks": "",
           "title": {
            "standoff": 15
           },
           "zerolinecolor": "white",
           "zerolinewidth": 2
          }
         }
        },
        "xaxis": {
         "anchor": "y",
         "domain": [
          0,
          1
         ],
         "title": {
          "text": "Wiley Papers"
         }
        },
        "yaxis": {
         "anchor": "x",
         "domain": [
          0,
          1
         ],
         "title": {
          "text": "Mailing List Subscribers"
         }
        }
       }
      },
      "text/html": [
       "<div>                            <div id=\"5abed553-1d94-4dcf-a77a-bc878dc1ae0f\" class=\"plotly-graph-div\" style=\"height:525px; width:100%;\"></div>            <script type=\"text/javascript\">                require([\"plotly\"], function(Plotly) {                    window.PLOTLYENV=window.PLOTLYENV || {};                                    if (document.getElementById(\"5abed553-1d94-4dcf-a77a-bc878dc1ae0f\")) {                    Plotly.newPlot(                        \"5abed553-1d94-4dcf-a77a-bc878dc1ae0f\",                        [{\"customdata\":[[\"Materials Science\"],[\"General & Introductory Chemistry\"],[\"Earth Sciences\"],[\"Electrical & Electronics Engineering\"],[\"Ecology\"],[\"Food Science & Technology\"],[\"Cell & Molecular Biology\"],[\"Nanotechnology\"],[\"Plant Science\"],[\"Neurology\"],[\"Dermatology\"],[\"Physics\"],[\"Cardiovascular Disease\"],[\"Oncology & Radiotherapy\"],[\"Dentistry\"],[\"Economics\"],[\"Nursing\"],[\"Analytical Chemistry\"],[\"Mathematics\"],[\"Veterinary Medicine\"],[\"Pharmacology & Pharmaceutical Medicine\"],[\"Business & Management\"],[\"General & Internal Medicine\"],[\"Agriculture\"],[\"Hematology\"],[\"General & Introductory Medical Science\"],[\"Education\"],[\"Organic Chemistry\"],[\"Pharmaceutical & Medicinal Chemistry\"],[\"Civil Engineering & Construction\"],[\"Surgery & Surgical Specialties\"],[\"General Life Sciences\"],[\"Chemical Engineering\"],[\"Physical Chemistry\"],[\"Endocrinology\"],[\"Development Studies\"],[\"Neuroscience\"],[\"Political Science\"],[\"Basic Medical Sciences\"],[\"Obstetrics & Gynecology\"],[\"Gastroenterology & Hepatology\"],[\"Zoology & Animal Science\"],[\"Mechanical Engineering\"],[\"Genetics\"],[\"Environmental Studies\"],[\"Health & Social Care\"],[\"Anatomy & Physiology\"],[\"Radiology & Imaging\"],[\"Energy\"],[\"Biochemistry\"],[\"Computer Science\"],[\"Otolaryngology (Ear, Nose & Throat)\"],[\"Urology\"],[\"Aquaculture, Fisheries & Fish Science\"],[\"Statistics\"],[\"Clinical Psychology\"],[\"Developmental Psychology\"],[\"Catalysis\"],[\"Microbiology & Virology\"],[\"Mental Health & Addiction\"],[\"Psychiatry\"],[\"Geriatric Medicine\"],[\"Respiratory Medicine\"],[\"Pathology\"],[\"Rheumatology\"],[\"Philosophy\"],[\"General Psychology\"],[\"Anthropology\"],[\"Allergy & Clinical Immunology\"],[\"Geography\"],[\"Emergency Medicine\"],[\"Finance & Investments\"],[\"Evolution\"],[\"Anaesthesia & Pain Management\"],[\"Language & Linguistics\"],[\"Pediatrics\"],[\"Social Psychology\"],[\"Cognitive Psychology\"],[\"Family & Child Studies\"],[\"Sociology\"],[\"Transplantation\"],[\"Sports Medicine & Orthopedics\"],[\"Inorganic Chemistry\"],[\"Ophthalmology & Optometry\"],[\"Nutrition & Dietetics\"],[\"Accounting\"],[\"Social Policy & Welfare\"],[\"Psychotherapy & Counseling\"],[\"Evidence Based Medicine\"],[\"Religion & Theology\"],[\"Law\"],[\"Industrial Chemistry\"],[\"History\"],[\"Educational & School Psychology\"],[\"Intellectual Disability\"],[\"Nephrology\"],[\"Computational Chemistry & Molecular Modelling\"],[\"Biomedical Engineering\"],[\"Applied Psychology\"],[\"Cultural Studies\"],[\"Rehabilitation\"],[\"Archaeology\"],[\"Architecture\"],[\"Information Science & Technology\"],[\"Literature\"],[\"Personality & Individual Differences\"],[\"Astronomy\"],[\"Museum & Heritage Studies\"],[\"Industrial Engineering\"],[\"Environmental Chemistry\"],[\"Criminology\"],[\"Urban Studies\"],[\"General Computing\"],[\"Design & Graphic Design\"],[\"Psychological Methods, Research & Statistics\"],[\"Classical Studies\"],[\"Art & Photography\"],[\"Performing Arts & Music\"],[\"Communication & Media Studies\"]],\"hovertemplate\":\"Wiley Papers=%{x}<br>Mailing List Subscribers=%{y}<br>Unique Visitors=%{marker.size}<br>WOL L2 Subject=%{customdata[0]}<br>Page Views=%{marker.color}<extra></extra>\",\"legendgroup\":\"\",\"marker\":{\"color\":[108276834,65063710,42990142,11967947,40704443,26710134,26392004,11901017,21957948,22530976,20461101,7090974,8284425,18938580,20459878,16007464,34128028,9218427,5259322,16646092,16336358,39640865,9851466,9991489,12058932,5078390,17756364,10665427,5604205,5868916,5781498,18057888,7105068,4883654,12089477,12382512,9816320,14172657,6903758,17796857,8923945,3720179,2831187,9060614,7854475,10426923,8771567,6369205,4656474,4992920,3944116,2900447,7629932,6081505,6395647,12597636,12617044,2051114,9823151,2748294,7482307,5248387,2549585,3917970,5058510,5672184,7395327,7034802,5597938,5440128,2544251,8007541,5776537,6235320,6848789,4015245,8757294,4529476,4973550,6684098,2586655,3830889,2686289,2373965,3187634,4848485,2114608,5758715,227007,2076460,3708246,2005215,2089720,3165888,1952188,1416884,1622519,766668,4131486,1246173,1429854,589833,714040,1533003,726690,1638285,163480,364659,394291,3053236,1439619,834971,1461297,115964,172480,25924,358123,118159,982700],\"coloraxis\":\"coloraxis\",\"size\":[14612560,8284404,9372019,3322269,8852712,7401176,8027824,2273448,4835726,7440547,7331718,2218636,3094044,6856644,4283285,4846454,8884178,2943694,1596375,3801544,6119091,10101613,4652013,2757509,3905745,2195080,5634260,1932707,1837152,1803500,2154816,6557916,2298617,1387926,4499469,3717320,3225236,4537976,2738561,7114697,3388090,1245283,899531,3079811,2620702,3900883,3496894,2347588,1628783,1640857,1436530,1163044,3645201,1458899,1930878,3629692,4091850,549384,3490050,1089951,2915823,1984736,970058,1395366,1730373,2090883,2743853,2242386,1912232,1953608,1139758,2003287,1712810,2639881,1875044,1716335,3244906,1718543,1738089,2668456,892566,1478391,794966,985487,1051132,1083920,781444,1873116,107044,908780,1411551,709470,886116,1168494,643326,547200,521144,308744,1494602,520149,468375,202301,268269,606750,316568,661600,80174,122894,153622,868593,471311,312114,602242,43498,71213,13147,149283,45921,444663],\"sizemode\":\"area\",\"sizeref\":5845.024,\"symbol\":\"circle\"},\"mode\":\"markers\",\"name\":\"\",\"orientation\":\"v\",\"showlegend\":false,\"x\":[10508,7253,5573,3612,3375,2866,2148,2068,2019,2010,1998,1939,1717,1641,1614,1611,1480,1418,1399,1365,1342,1318,1272,1219,1219,1214,1202,1189,1173,1133,1128,1043,1039,1033,1012,995,984,978,970,964,936,874,834,825,806,769,765,765,738,678,654,648,642,614,604,600,598,493,490,448,437,417,410,401,397,397,391,385,384,359,359,355,354,348,322,314,308,302,299,297,288,279,256,255,251,240,216,209,196,188,181,179,168,166,166,157,152,139,135,124,77,68,68,64,56,56,54,38,38,33,24,24,19,17,17,13,8,6,0],\"xaxis\":\"x\",\"y\":[20618,41309,24314,25742,7957,28799,29731,4280,12611,15469,16418,5894,21347,16696,28465,35677,38901,13706,10533,18976,13346,61833,2875,23595,11248,0,53925,14499,17502,0,17847,39109,21496,7939,8503,1698,17598,8851,0,18935,11813,8180,14134,10009,17532,715,12311,9019,9122,3275,23681,4872,6452,9661,16791,13666,8059,1890,16803,0,11393,4753,1015,8958,6119,6908,31029,6480,9453,6971,6489,25079,22130,10162,11053,12451,7865,1478,0,18492,3391,1669,5873,3511,13165,0,953,1063,0,5318,9931,4957,8495,0,0,4347,5191,9364,0,891,0,3030,6853,0,5125,1371,3991,488,5194,6882,4957,750,23681,430,0,1350,0,353,5623],\"yaxis\":\"y\",\"type\":\"scatter\"}],                        {\"template\":{\"data\":{\"histogram2dcontour\":[{\"type\":\"histogram2dcontour\",\"colorbar\":{\"outlinewidth\":0,\"ticks\":\"\"},\"colorscale\":[[0.0,\"#0d0887\"],[0.1111111111111111,\"#46039f\"],[0.2222222222222222,\"#7201a8\"],[0.3333333333333333,\"#9c179e\"],[0.4444444444444444,\"#bd3786\"],[0.5555555555555556,\"#d8576b\"],[0.6666666666666666,\"#ed7953\"],[0.7777777777777778,\"#fb9f3a\"],[0.8888888888888888,\"#fdca26\"],[1.0,\"#f0f921\"]]}],\"choropleth\":[{\"type\":\"choropleth\",\"colorbar\":{\"outlinewidth\":0,\"ticks\":\"\"}}],\"histogram2d\":[{\"type\":\"histogram2d\",\"colorbar\":{\"outlinewidth\":0,\"ticks\":\"\"},\"colorscale\":[[0.0,\"#0d0887\"],[0.1111111111111111,\"#46039f\"],[0.2222222222222222,\"#7201a8\"],[0.3333333333333333,\"#9c179e\"],[0.4444444444444444,\"#bd3786\"],[0.5555555555555556,\"#d8576b\"],[0.6666666666666666,\"#ed7953\"],[0.7777777777777778,\"#fb9f3a\"],[0.8888888888888888,\"#fdca26\"],[1.0,\"#f0f921\"]]}],\"heatmap\":[{\"type\":\"heatmap\",\"colorbar\":{\"outlinewidth\":0,\"ticks\":\"\"},\"colorscale\":[[0.0,\"#0d0887\"],[0.1111111111111111,\"#46039f\"],[0.2222222222222222,\"#7201a8\"],[0.3333333333333333,\"#9c179e\"],[0.4444444444444444,\"#bd3786\"],[0.5555555555555556,\"#d8576b\"],[0.6666666666666666,\"#ed7953\"],[0.7777777777777778,\"#fb9f3a\"],[0.8888888888888888,\"#fdca26\"],[1.0,\"#f0f921\"]]}],\"heatmapgl\":[{\"type\":\"heatmapgl\",\"colorbar\":{\"outlinewidth\":0,\"ticks\":\"\"},\"colorscale\":[[0.0,\"#0d0887\"],[0.1111111111111111,\"#46039f\"],[0.2222222222222222,\"#7201a8\"],[0.3333333333333333,\"#9c179e\"],[0.4444444444444444,\"#bd3786\"],[0.5555555555555556,\"#d8576b\"],[0.6666666666666666,\"#ed7953\"],[0.7777777777777778,\"#fb9f3a\"],[0.8888888888888888,\"#fdca26\"],[1.0,\"#f0f921\"]]}],\"contourcarpet\":[{\"type\":\"contourcarpet\",\"colorbar\":{\"outlinewidth\":0,\"ticks\":\"\"}}],\"contour\":[{\"type\":\"contour\",\"colorbar\":{\"outlinewidth\":0,\"ticks\":\"\"},\"colorscale\":[[0.0,\"#0d0887\"],[0.1111111111111111,\"#46039f\"],[0.2222222222222222,\"#7201a8\"],[0.3333333333333333,\"#9c179e\"],[0.4444444444444444,\"#bd3786\"],[0.5555555555555556,\"#d8576b\"],[0.6666666666666666,\"#ed7953\"],[0.7777777777777778,\"#fb9f3a\"],[0.8888888888888888,\"#fdca26\"],[1.0,\"#f0f921\"]]}],\"surface\":[{\"type\":\"surface\",\"colorbar\":{\"outlinewidth\":0,\"ticks\":\"\"},\"colorscale\":[[0.0,\"#0d0887\"],[0.1111111111111111,\"#46039f\"],[0.2222222222222222,\"#7201a8\"],[0.3333333333333333,\"#9c179e\"],[0.4444444444444444,\"#bd3786\"],[0.5555555555555556,\"#d8576b\"],[0.6666666666666666,\"#ed7953\"],[0.7777777777777778,\"#fb9f3a\"],[0.8888888888888888,\"#fdca26\"],[1.0,\"#f0f921\"]]}],\"mesh3d\":[{\"type\":\"mesh3d\",\"colorbar\":{\"outlinewidth\":0,\"ticks\":\"\"}}],\"scatter\":[{\"fillpattern\":{\"fillmode\":\"overlay\",\"size\":10,\"solidity\":0.2},\"type\":\"scatter\"}],\"parcoords\":[{\"type\":\"parcoords\",\"line\":{\"colorbar\":{\"outlinewidth\":0,\"ticks\":\"\"}}}],\"scatterpolargl\":[{\"type\":\"scatterpolargl\",\"marker\":{\"colorbar\":{\"outlinewidth\":0,\"ticks\":\"\"}}}],\"bar\":[{\"error_x\":{\"color\":\"#2a3f5f\"},\"error_y\":{\"color\":\"#2a3f5f\"},\"marker\":{\"line\":{\"color\":\"#E5ECF6\",\"width\":0.5},\"pattern\":{\"fillmode\":\"overlay\",\"size\":10,\"solidity\":0.2}},\"type\":\"bar\"}],\"scattergeo\":[{\"type\":\"scattergeo\",\"marker\":{\"colorbar\":{\"outlinewidth\":0,\"ticks\":\"\"}}}],\"scatterpolar\":[{\"type\":\"scatterpolar\",\"marker\":{\"colorbar\":{\"outlinewidth\":0,\"ticks\":\"\"}}}],\"histogram\":[{\"marker\":{\"pattern\":{\"fillmode\":\"overlay\",\"size\":10,\"solidity\":0.2}},\"type\":\"histogram\"}],\"scattergl\":[{\"type\":\"scattergl\",\"marker\":{\"colorbar\":{\"outlinewidth\":0,\"ticks\":\"\"}}}],\"scatter3d\":[{\"type\":\"scatter3d\",\"line\":{\"colorbar\":{\"outlinewidth\":0,\"ticks\":\"\"}},\"marker\":{\"colorbar\":{\"outlinewidth\":0,\"ticks\":\"\"}}}],\"scattermapbox\":[{\"type\":\"scattermapbox\",\"marker\":{\"colorbar\":{\"outlinewidth\":0,\"ticks\":\"\"}}}],\"scatterternary\":[{\"type\":\"scatterternary\",\"marker\":{\"colorbar\":{\"outlinewidth\":0,\"ticks\":\"\"}}}],\"scattercarpet\":[{\"type\":\"scattercarpet\",\"marker\":{\"colorbar\":{\"outlinewidth\":0,\"ticks\":\"\"}}}],\"carpet\":[{\"aaxis\":{\"endlinecolor\":\"#2a3f5f\",\"gridcolor\":\"white\",\"linecolor\":\"white\",\"minorgridcolor\":\"white\",\"startlinecolor\":\"#2a3f5f\"},\"baxis\":{\"endlinecolor\":\"#2a3f5f\",\"gridcolor\":\"white\",\"linecolor\":\"white\",\"minorgridcolor\":\"white\",\"startlinecolor\":\"#2a3f5f\"},\"type\":\"carpet\"}],\"table\":[{\"cells\":{\"fill\":{\"color\":\"#EBF0F8\"},\"line\":{\"color\":\"white\"}},\"header\":{\"fill\":{\"color\":\"#C8D4E3\"},\"line\":{\"color\":\"white\"}},\"type\":\"table\"}],\"barpolar\":[{\"marker\":{\"line\":{\"color\":\"#E5ECF6\",\"width\":0.5},\"pattern\":{\"fillmode\":\"overlay\",\"size\":10,\"solidity\":0.2}},\"type\":\"barpolar\"}],\"pie\":[{\"automargin\":true,\"type\":\"pie\"}]},\"layout\":{\"autotypenumbers\":\"strict\",\"colorway\":[\"#636efa\",\"#EF553B\",\"#00cc96\",\"#ab63fa\",\"#FFA15A\",\"#19d3f3\",\"#FF6692\",\"#B6E880\",\"#FF97FF\",\"#FECB52\"],\"font\":{\"color\":\"#2a3f5f\"},\"hovermode\":\"closest\",\"hoverlabel\":{\"align\":\"left\"},\"paper_bgcolor\":\"white\",\"plot_bgcolor\":\"#E5ECF6\",\"polar\":{\"bgcolor\":\"#E5ECF6\",\"angularaxis\":{\"gridcolor\":\"white\",\"linecolor\":\"white\",\"ticks\":\"\"},\"radialaxis\":{\"gridcolor\":\"white\",\"linecolor\":\"white\",\"ticks\":\"\"}},\"ternary\":{\"bgcolor\":\"#E5ECF6\",\"aaxis\":{\"gridcolor\":\"white\",\"linecolor\":\"white\",\"ticks\":\"\"},\"baxis\":{\"gridcolor\":\"white\",\"linecolor\":\"white\",\"ticks\":\"\"},\"caxis\":{\"gridcolor\":\"white\",\"linecolor\":\"white\",\"ticks\":\"\"}},\"coloraxis\":{\"colorbar\":{\"outlinewidth\":0,\"ticks\":\"\"}},\"colorscale\":{\"sequential\":[[0.0,\"#0d0887\"],[0.1111111111111111,\"#46039f\"],[0.2222222222222222,\"#7201a8\"],[0.3333333333333333,\"#9c179e\"],[0.4444444444444444,\"#bd3786\"],[0.5555555555555556,\"#d8576b\"],[0.6666666666666666,\"#ed7953\"],[0.7777777777777778,\"#fb9f3a\"],[0.8888888888888888,\"#fdca26\"],[1.0,\"#f0f921\"]],\"sequentialminus\":[[0.0,\"#0d0887\"],[0.1111111111111111,\"#46039f\"],[0.2222222222222222,\"#7201a8\"],[0.3333333333333333,\"#9c179e\"],[0.4444444444444444,\"#bd3786\"],[0.5555555555555556,\"#d8576b\"],[0.6666666666666666,\"#ed7953\"],[0.7777777777777778,\"#fb9f3a\"],[0.8888888888888888,\"#fdca26\"],[1.0,\"#f0f921\"]],\"diverging\":[[0,\"#8e0152\"],[0.1,\"#c51b7d\"],[0.2,\"#de77ae\"],[0.3,\"#f1b6da\"],[0.4,\"#fde0ef\"],[0.5,\"#f7f7f7\"],[0.6,\"#e6f5d0\"],[0.7,\"#b8e186\"],[0.8,\"#7fbc41\"],[0.9,\"#4d9221\"],[1,\"#276419\"]]},\"xaxis\":{\"gridcolor\":\"white\",\"linecolor\":\"white\",\"ticks\":\"\",\"title\":{\"standoff\":15},\"zerolinecolor\":\"white\",\"automargin\":true,\"zerolinewidth\":2},\"yaxis\":{\"gridcolor\":\"white\",\"linecolor\":\"white\",\"ticks\":\"\",\"title\":{\"standoff\":15},\"zerolinecolor\":\"white\",\"automargin\":true,\"zerolinewidth\":2},\"scene\":{\"xaxis\":{\"backgroundcolor\":\"#E5ECF6\",\"gridcolor\":\"white\",\"linecolor\":\"white\",\"showbackground\":true,\"ticks\":\"\",\"zerolinecolor\":\"white\",\"gridwidth\":2},\"yaxis\":{\"backgroundcolor\":\"#E5ECF6\",\"gridcolor\":\"white\",\"linecolor\":\"white\",\"showbackground\":true,\"ticks\":\"\",\"zerolinecolor\":\"white\",\"gridwidth\":2},\"zaxis\":{\"backgroundcolor\":\"#E5ECF6\",\"gridcolor\":\"white\",\"linecolor\":\"white\",\"showbackground\":true,\"ticks\":\"\",\"zerolinecolor\":\"white\",\"gridwidth\":2}},\"shapedefaults\":{\"line\":{\"color\":\"#2a3f5f\"}},\"annotationdefaults\":{\"arrowcolor\":\"#2a3f5f\",\"arrowhead\":0,\"arrowwidth\":1},\"geo\":{\"bgcolor\":\"white\",\"landcolor\":\"#E5ECF6\",\"subunitcolor\":\"white\",\"showland\":true,\"showlakes\":true,\"lakecolor\":\"white\"},\"title\":{\"x\":0.05},\"mapbox\":{\"style\":\"light\"}}},\"xaxis\":{\"anchor\":\"y\",\"domain\":[0.0,1.0],\"title\":{\"text\":\"Wiley Papers\"}},\"yaxis\":{\"anchor\":\"x\",\"domain\":[0.0,1.0],\"title\":{\"text\":\"Mailing List Subscribers\"}},\"coloraxis\":{\"colorbar\":{\"title\":{\"text\":\"Page Views\"}},\"colorscale\":[[0.0,\"#0d0887\"],[0.1111111111111111,\"#46039f\"],[0.2222222222222222,\"#7201a8\"],[0.3333333333333333,\"#9c179e\"],[0.4444444444444444,\"#bd3786\"],[0.5555555555555556,\"#d8576b\"],[0.6666666666666666,\"#ed7953\"],[0.7777777777777778,\"#fb9f3a\"],[0.8888888888888888,\"#fdca26\"],[1.0,\"#f0f921\"]]},\"legend\":{\"tracegroupgap\":0,\"itemsizing\":\"constant\"},\"margin\":{\"t\":60}},                        {\"responsive\": true}                    ).then(function(){\n",
       "                            \n",
       "var gd = document.getElementById('5abed553-1d94-4dcf-a77a-bc878dc1ae0f');\n",
       "var x = new MutationObserver(function (mutations, observer) {{\n",
       "        var display = window.getComputedStyle(gd).display;\n",
       "        if (!display || display === 'none') {{\n",
       "            console.log([gd, 'removed!']);\n",
       "            Plotly.purge(gd);\n",
       "            observer.disconnect();\n",
       "        }}\n",
       "}});\n",
       "\n",
       "// Listen for the removal of the full notebook cells\n",
       "var notebookContainer = gd.closest('#notebook-container');\n",
       "if (notebookContainer) {{\n",
       "    x.observe(notebookContainer, {childList: true});\n",
       "}}\n",
       "\n",
       "// Listen for the clearing of the current output cell\n",
       "var outputEl = gd.closest('.output');\n",
       "if (outputEl) {{\n",
       "    x.observe(outputEl, {childList: true});\n",
       "}}\n",
       "\n",
       "                        })                };                });            </script>        </div>"
      ]
     },
     "metadata": {},
     "output_type": "display_data"
    }
   ],
   "source": [
    "# Great. After playing around with a few settings above, I'm pretty happy with this...\n",
    "# But I want to see what it looks like when I swap the Y axis and bubble size, and color-code a new metric.\n",
    "\n",
    "px.scatter(data_frame = verticals,\n",
    "           x=\"Wiley Papers\",\n",
    "           y=\"Mailing List Subscribers\",\n",
    "           size=\"Unique Visitors\",\n",
    "           color = \"Page Views\",\n",
    "           hover_data=[\"WOL L2 Subject\"],\n",
    "           log_x=False,\n",
    "           size_max=50)"
   ]
  },
  {
   "cell_type": "code",
   "execution_count": null,
   "id": "58e8fb83",
   "metadata": {},
   "outputs": [],
   "source": []
  }
 ],
 "metadata": {
  "kernelspec": {
   "display_name": "Python 3 (ipykernel)",
   "language": "python",
   "name": "python3"
  },
  "language_info": {
   "codemirror_mode": {
    "name": "ipython",
    "version": 3
   },
   "file_extension": ".py",
   "mimetype": "text/x-python",
   "name": "python",
   "nbconvert_exporter": "python",
   "pygments_lexer": "ipython3",
   "version": "3.11.5"
  }
 },
 "nbformat": 4,
 "nbformat_minor": 5
}
